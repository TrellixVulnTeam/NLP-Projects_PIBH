{
  "nbformat": 4,
  "nbformat_minor": 0,
  "metadata": {
    "colab": {
      "name": "Predicting Job Titles with Random Forest.ipynb",
      "provenance": [],
      "collapsed_sections": []
    },
    "kernelspec": {
      "name": "python3",
      "display_name": "Python 3"
    }
  },
  "cells": [
    {
      "cell_type": "code",
      "metadata": {
        "id": "QZ44wBJ-19VW"
      },
      "source": [
        "from sklearn.model_selection import train_test_split\n",
        "import pandas as pd"
      ],
      "execution_count": 1,
      "outputs": []
    },
    {
      "cell_type": "code",
      "metadata": {
        "id": "R5lWqFQL2YMC"
      },
      "source": [
        "data = pd.read_csv(\"/content/function_assignment.csv\")"
      ],
      "execution_count": 2,
      "outputs": []
    },
    {
      "cell_type": "code",
      "metadata": {
        "id": "dlU2j3PW4f-8",
        "outputId": "b865f707-d862-4682-fe6d-541a83b65317",
        "colab": {
          "base_uri": "https://localhost:8080/",
          "height": 204
        }
      },
      "source": [
        "data.head()"
      ],
      "execution_count": 3,
      "outputs": [
        {
          "output_type": "execute_result",
          "data": {
            "text/html": [
              "<div>\n",
              "<style scoped>\n",
              "    .dataframe tbody tr th:only-of-type {\n",
              "        vertical-align: middle;\n",
              "    }\n",
              "\n",
              "    .dataframe tbody tr th {\n",
              "        vertical-align: top;\n",
              "    }\n",
              "\n",
              "    .dataframe thead th {\n",
              "        text-align: right;\n",
              "    }\n",
              "</style>\n",
              "<table border=\"1\" class=\"dataframe\">\n",
              "  <thead>\n",
              "    <tr style=\"text-align: right;\">\n",
              "      <th></th>\n",
              "      <th>function</th>\n",
              "      <th>job_title</th>\n",
              "      <th>jds</th>\n",
              "    </tr>\n",
              "  </thead>\n",
              "  <tbody>\n",
              "    <tr>\n",
              "      <th>0</th>\n",
              "      <td>Sales/ Business Development/ Account Management</td>\n",
              "      <td>Head - Digital Portfolio</td>\n",
              "      <td>NaN</td>\n",
              "    </tr>\n",
              "    <tr>\n",
              "      <th>1</th>\n",
              "      <td>IT/ Information Technology</td>\n",
              "      <td>Software Head</td>\n",
              "      <td>10-15 years of experience in a VFX facility Ad...</td>\n",
              "    </tr>\n",
              "    <tr>\n",
              "      <th>2</th>\n",
              "      <td>Software Architecting</td>\n",
              "      <td>iPhone Developers</td>\n",
              "      <td>Candidate Should have Strong OO design and pro...</td>\n",
              "    </tr>\n",
              "    <tr>\n",
              "      <th>3</th>\n",
              "      <td>Software Architecting</td>\n",
              "      <td>Html/css Developer Job</td>\n",
              "      <td>Job Description Must have at -least . Years ex...</td>\n",
              "    </tr>\n",
              "    <tr>\n",
              "      <th>4</th>\n",
              "      <td>Software Architecting</td>\n",
              "      <td>Asp.net Developer Job</td>\n",
              "      <td>Develop ASP.netweb applicationsPerform unit te...</td>\n",
              "    </tr>\n",
              "  </tbody>\n",
              "</table>\n",
              "</div>"
            ],
            "text/plain": [
              "                                          function  ...                                                jds\n",
              "0  Sales/ Business Development/ Account Management  ...                                                NaN\n",
              "1                       IT/ Information Technology  ...  10-15 years of experience in a VFX facility Ad...\n",
              "2                            Software Architecting  ...  Candidate Should have Strong OO design and pro...\n",
              "3                            Software Architecting  ...  Job Description Must have at -least . Years ex...\n",
              "4                            Software Architecting  ...  Develop ASP.netweb applicationsPerform unit te...\n",
              "\n",
              "[5 rows x 3 columns]"
            ]
          },
          "metadata": {
            "tags": []
          },
          "execution_count": 3
        }
      ]
    },
    {
      "cell_type": "code",
      "metadata": {
        "id": "xNSO__7D4iPn",
        "outputId": "27f804f2-1dc2-49b3-d76d-2df5e7eb87cd",
        "colab": {
          "base_uri": "https://localhost:8080/"
        }
      },
      "source": [
        "#Checking which fields contain empty values\n",
        "pd.isnull(data).sum()"
      ],
      "execution_count": 4,
      "outputs": [
        {
          "output_type": "execute_result",
          "data": {
            "text/plain": [
              "function        0\n",
              "job_title       0\n",
              "jds          1796\n",
              "dtype: int64"
            ]
          },
          "metadata": {
            "tags": []
          },
          "execution_count": 4
        }
      ]
    },
    {
      "cell_type": "code",
      "metadata": {
        "id": "k5BihkcR41Mh",
        "outputId": "f690ec5d-c4da-41e9-eee8-dedb144c2e8b",
        "colab": {
          "base_uri": "https://localhost:8080/"
        }
      },
      "source": [
        "data.count()"
      ],
      "execution_count": 5,
      "outputs": [
        {
          "output_type": "execute_result",
          "data": {
            "text/plain": [
              "function     10145\n",
              "job_title    10145\n",
              "jds           8349\n",
              "dtype: int64"
            ]
          },
          "metadata": {
            "tags": []
          },
          "execution_count": 5
        }
      ]
    },
    {
      "cell_type": "code",
      "metadata": {
        "id": "1QwfI20e45kH",
        "outputId": "f7217cb4-1aeb-412c-85a1-0f02947be519",
        "colab": {
          "base_uri": "https://localhost:8080/",
          "height": 359
        }
      },
      "source": [
        "df = data.drop('function', axis = 1)\n",
        "df = df.dropna()\n",
        "df = df[df['jds'].str.len() > 20]\n",
        "df.head(n=10)"
      ],
      "execution_count": 6,
      "outputs": [
        {
          "output_type": "execute_result",
          "data": {
            "text/html": [
              "<div>\n",
              "<style scoped>\n",
              "    .dataframe tbody tr th:only-of-type {\n",
              "        vertical-align: middle;\n",
              "    }\n",
              "\n",
              "    .dataframe tbody tr th {\n",
              "        vertical-align: top;\n",
              "    }\n",
              "\n",
              "    .dataframe thead th {\n",
              "        text-align: right;\n",
              "    }\n",
              "</style>\n",
              "<table border=\"1\" class=\"dataframe\">\n",
              "  <thead>\n",
              "    <tr style=\"text-align: right;\">\n",
              "      <th></th>\n",
              "      <th>job_title</th>\n",
              "      <th>jds</th>\n",
              "    </tr>\n",
              "  </thead>\n",
              "  <tbody>\n",
              "    <tr>\n",
              "      <th>1</th>\n",
              "      <td>Software Head</td>\n",
              "      <td>10-15 years of experience in a VFX facility Ad...</td>\n",
              "    </tr>\n",
              "    <tr>\n",
              "      <th>2</th>\n",
              "      <td>iPhone Developers</td>\n",
              "      <td>Candidate Should have Strong OO design and pro...</td>\n",
              "    </tr>\n",
              "    <tr>\n",
              "      <th>3</th>\n",
              "      <td>Html/css Developer Job</td>\n",
              "      <td>Job Description Must have at -least . Years ex...</td>\n",
              "    </tr>\n",
              "    <tr>\n",
              "      <th>4</th>\n",
              "      <td>Asp.net Developer Job</td>\n",
              "      <td>Develop ASP.netweb applicationsPerform unit te...</td>\n",
              "    </tr>\n",
              "    <tr>\n",
              "      <th>6</th>\n",
              "      <td>AS\\400 Professional</td>\n",
              "      <td>Job Description  Job holder may need to work o...</td>\n",
              "    </tr>\n",
              "    <tr>\n",
              "      <th>8</th>\n",
              "      <td>Inside Sales Account Manager - MNC</td>\n",
              "      <td>Job Description  Primary roe of Inside sales A...</td>\n",
              "    </tr>\n",
              "    <tr>\n",
              "      <th>9</th>\n",
              "      <td>VFX Artist/ Designer</td>\n",
              "      <td>Reporting to: Design Leader  PURPOSE: To conve...</td>\n",
              "    </tr>\n",
              "    <tr>\n",
              "      <th>10</th>\n",
              "      <td>Graphics Engineer</td>\n",
              "      <td>Role : Graphics Software Engineer  Education :...</td>\n",
              "    </tr>\n",
              "    <tr>\n",
              "      <th>13</th>\n",
              "      <td>UI Developer</td>\n",
              "      <td>Job Title: UI Developer</td>\n",
              "    </tr>\n",
              "    <tr>\n",
              "      <th>14</th>\n",
              "      <td>Unity3D Developer - iOS/Android</td>\n",
              "      <td>Looking for an Unity3D Developer who will be w...</td>\n",
              "    </tr>\n",
              "  </tbody>\n",
              "</table>\n",
              "</div>"
            ],
            "text/plain": [
              "                             job_title                                                jds\n",
              "1                        Software Head  10-15 years of experience in a VFX facility Ad...\n",
              "2                    iPhone Developers  Candidate Should have Strong OO design and pro...\n",
              "3               Html/css Developer Job  Job Description Must have at -least . Years ex...\n",
              "4                Asp.net Developer Job  Develop ASP.netweb applicationsPerform unit te...\n",
              "6                  AS\\400 Professional  Job Description  Job holder may need to work o...\n",
              "8   Inside Sales Account Manager - MNC  Job Description  Primary roe of Inside sales A...\n",
              "9                 VFX Artist/ Designer  Reporting to: Design Leader  PURPOSE: To conve...\n",
              "10                   Graphics Engineer  Role : Graphics Software Engineer  Education :...\n",
              "13                        UI Developer                            Job Title: UI Developer\n",
              "14     Unity3D Developer - iOS/Android  Looking for an Unity3D Developer who will be w..."
            ]
          },
          "metadata": {
            "tags": []
          },
          "execution_count": 6
        }
      ]
    },
    {
      "cell_type": "code",
      "metadata": {
        "id": "PczN_sO15GI_",
        "outputId": "d9a107be-8708-4b5c-d293-a7c4b707d716",
        "colab": {
          "base_uri": "https://localhost:8080/",
          "height": 173
        }
      },
      "source": [
        "df.describe()"
      ],
      "execution_count": 7,
      "outputs": [
        {
          "output_type": "execute_result",
          "data": {
            "text/html": [
              "<div>\n",
              "<style scoped>\n",
              "    .dataframe tbody tr th:only-of-type {\n",
              "        vertical-align: middle;\n",
              "    }\n",
              "\n",
              "    .dataframe tbody tr th {\n",
              "        vertical-align: top;\n",
              "    }\n",
              "\n",
              "    .dataframe thead th {\n",
              "        text-align: right;\n",
              "    }\n",
              "</style>\n",
              "<table border=\"1\" class=\"dataframe\">\n",
              "  <thead>\n",
              "    <tr style=\"text-align: right;\">\n",
              "      <th></th>\n",
              "      <th>job_title</th>\n",
              "      <th>jds</th>\n",
              "    </tr>\n",
              "  </thead>\n",
              "  <tbody>\n",
              "    <tr>\n",
              "      <th>count</th>\n",
              "      <td>8347</td>\n",
              "      <td>8347</td>\n",
              "    </tr>\n",
              "    <tr>\n",
              "      <th>unique</th>\n",
              "      <td>5975</td>\n",
              "      <td>6844</td>\n",
              "    </tr>\n",
              "    <tr>\n",
              "      <th>top</th>\n",
              "      <td>Business Development Manager</td>\n",
              "      <td>Managing the team of Branch Managers, ABM, Sal...</td>\n",
              "    </tr>\n",
              "    <tr>\n",
              "      <th>freq</th>\n",
              "      <td>36</td>\n",
              "      <td>24</td>\n",
              "    </tr>\n",
              "  </tbody>\n",
              "</table>\n",
              "</div>"
            ],
            "text/plain": [
              "                           job_title                                                jds\n",
              "count                           8347                                               8347\n",
              "unique                          5975                                               6844\n",
              "top     Business Development Manager  Managing the team of Branch Managers, ABM, Sal...\n",
              "freq                              36                                                 24"
            ]
          },
          "metadata": {
            "tags": []
          },
          "execution_count": 7
        }
      ]
    },
    {
      "cell_type": "code",
      "metadata": {
        "id": "1Go_6UzT6Tsl"
      },
      "source": [
        "from sklearn.pipeline import Pipeline\n",
        "from sklearn.feature_extraction.text import CountVectorizer\n",
        "from sklearn.feature_extraction.text import TfidfVectorizer \n",
        "from sklearn.preprocessing import LabelEncoder"
      ],
      "execution_count": 8,
      "outputs": []
    },
    {
      "cell_type": "code",
      "metadata": {
        "id": "ODm2dUtZAnIs"
      },
      "source": [
        "X = df[\"jds\"]\n",
        "y = df[\"job_title\"]\n",
        "\n",
        "tfidf = TfidfVectorizer()\n",
        "features = tfidf.fit_transform(df[\"jds\"])\n",
        "labels = df[\"job_title\"]"
      ],
      "execution_count": 9,
      "outputs": []
    },
    {
      "cell_type": "code",
      "metadata": {
        "id": "Z_Ocxvm3Bzh0"
      },
      "source": [
        "X_train, X_test, y_train, y_test = train_test_split(features,labels,test_size=0.20, random_state=42)"
      ],
      "execution_count": 10,
      "outputs": []
    },
    {
      "cell_type": "code",
      "metadata": {
        "id": "C30Oamt56cIv",
        "outputId": "f00f2589-59a2-40fc-b198-9866b18a4c4f",
        "colab": {
          "base_uri": "https://localhost:8080/"
        }
      },
      "source": [
        "from sklearn.ensemble import RandomForestClassifier\n",
        "classifier = RandomForestClassifier(n_estimators = 20)\n",
        "classifier.fit(X_train, y_train)"
      ],
      "execution_count": 11,
      "outputs": [
        {
          "output_type": "execute_result",
          "data": {
            "text/plain": [
              "RandomForestClassifier(bootstrap=True, ccp_alpha=0.0, class_weight=None,\n",
              "                       criterion='gini', max_depth=None, max_features='auto',\n",
              "                       max_leaf_nodes=None, max_samples=None,\n",
              "                       min_impurity_decrease=0.0, min_impurity_split=None,\n",
              "                       min_samples_leaf=1, min_samples_split=2,\n",
              "                       min_weight_fraction_leaf=0.0, n_estimators=20,\n",
              "                       n_jobs=None, oob_score=False, random_state=None,\n",
              "                       verbose=0, warm_start=False)"
            ]
          },
          "metadata": {
            "tags": []
          },
          "execution_count": 11
        }
      ]
    },
    {
      "cell_type": "code",
      "metadata": {
        "id": "pHYK_tMwYlSS"
      },
      "source": [
        "y_pred = classifier.predict(X_test)"
      ],
      "execution_count": 12,
      "outputs": []
    },
    {
      "cell_type": "code",
      "metadata": {
        "id": "xtRdKDeR63lr",
        "outputId": "531a6f2d-edc3-4b7a-b53d-b31dd4f0a739",
        "colab": {
          "base_uri": "https://localhost:8080/"
        }
      },
      "source": [
        "from sklearn.metrics import accuracy_score\n",
        "accuracy_score(y_test,y_pred)"
      ],
      "execution_count": 13,
      "outputs": [
        {
          "output_type": "execute_result",
          "data": {
            "text/plain": [
              "0.25269461077844313"
            ]
          },
          "metadata": {
            "tags": []
          },
          "execution_count": 13
        }
      ]
    },
    {
      "cell_type": "code",
      "metadata": {
        "id": "VWkbXrvb7xTL"
      },
      "source": [
        ""
      ],
      "execution_count": null,
      "outputs": []
    }
  ]
}