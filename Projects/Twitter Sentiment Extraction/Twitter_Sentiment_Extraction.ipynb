{
  "nbformat": 4,
  "nbformat_minor": 0,
  "metadata": {
    "colab": {
      "name": "Twitter Sentiment Extraction.ipynb",
      "provenance": [],
      "collapsed_sections": []
    },
    "kernelspec": {
      "name": "python3",
      "display_name": "Python 3"
    },
    "accelerator": "GPU"
  },
  "cells": [
    {
      "cell_type": "code",
      "metadata": {
        "colab": {
          "base_uri": "https://localhost:8080/"
        },
        "id": "RdKpv1zL3KXk",
        "outputId": "f493e02e-e3c2-4627-c7e1-95ffea7e58b9"
      },
      "source": [
        "!pip install ktrain"
      ],
      "execution_count": 1,
      "outputs": [
        {
          "output_type": "stream",
          "text": [
            "Collecting ktrain\n",
            "\u001b[?25l  Downloading https://files.pythonhosted.org/packages/41/23/6f5addc2ade7c6240e2c9169bd7a9506cea17b35c9f322104a60dd4ba7fd/ktrain-0.25.2.tar.gz (25.3MB)\n",
            "\u001b[K     |████████████████████████████████| 25.3MB 137kB/s \n",
            "\u001b[?25hRequirement already satisfied: scikit-learn>=0.21.3 in /usr/local/lib/python3.6/dist-packages (from ktrain) (0.22.2.post1)\n",
            "Requirement already satisfied: matplotlib>=3.0.0 in /usr/local/lib/python3.6/dist-packages (from ktrain) (3.2.2)\n",
            "Requirement already satisfied: pandas>=1.0.1 in /usr/local/lib/python3.6/dist-packages (from ktrain) (1.1.5)\n",
            "Requirement already satisfied: fastprogress>=0.1.21 in /usr/local/lib/python3.6/dist-packages (from ktrain) (1.0.0)\n",
            "Requirement already satisfied: requests in /usr/local/lib/python3.6/dist-packages (from ktrain) (2.23.0)\n",
            "Requirement already satisfied: joblib in /usr/local/lib/python3.6/dist-packages (from ktrain) (0.17.0)\n",
            "Requirement already satisfied: packaging in /usr/local/lib/python3.6/dist-packages (from ktrain) (20.7)\n",
            "Requirement already satisfied: ipython in /usr/local/lib/python3.6/dist-packages (from ktrain) (5.5.0)\n",
            "Collecting langdetect\n",
            "\u001b[?25l  Downloading https://files.pythonhosted.org/packages/56/a3/8407c1e62d5980188b4acc45ef3d94b933d14a2ebc9ef3505f22cf772570/langdetect-1.0.8.tar.gz (981kB)\n",
            "\u001b[K     |████████████████████████████████| 983kB 41.5MB/s \n",
            "\u001b[?25hRequirement already satisfied: jieba in /usr/local/lib/python3.6/dist-packages (from ktrain) (0.42.1)\n",
            "Collecting cchardet\n",
            "\u001b[?25l  Downloading https://files.pythonhosted.org/packages/a0/e5/a0b9edd8664ea3b0d3270c451ebbf86655ed9fc4c3e4c45b9afae9c2e382/cchardet-2.1.7-cp36-cp36m-manylinux2010_x86_64.whl (263kB)\n",
            "\u001b[K     |████████████████████████████████| 266kB 53.8MB/s \n",
            "\u001b[?25hCollecting syntok\n",
            "  Downloading https://files.pythonhosted.org/packages/8c/76/a49e73a04b3e3a14ce232e8e28a1587f8108baa665644fe8c40e307e792e/syntok-1.3.1.tar.gz\n",
            "Collecting seqeval==0.0.19\n",
            "  Downloading https://files.pythonhosted.org/packages/93/e5/b7705156a77f742cfe4fc6f22d0c71591edb2d243328dff2f8fc0f933ab6/seqeval-0.0.19.tar.gz\n",
            "Collecting transformers<4.0,>=3.1.0\n",
            "\u001b[?25l  Downloading https://files.pythonhosted.org/packages/3a/83/e74092e7f24a08d751aa59b37a9fc572b2e4af3918cb66f7766c3affb1b4/transformers-3.5.1-py3-none-any.whl (1.3MB)\n",
            "\u001b[K     |████████████████████████████████| 1.3MB 41.3MB/s \n",
            "\u001b[?25hCollecting sentencepiece\n",
            "\u001b[?25l  Downloading https://files.pythonhosted.org/packages/e5/2d/6d4ca4bef9a67070fa1cac508606328329152b1df10bdf31fb6e4e727894/sentencepiece-0.1.94-cp36-cp36m-manylinux2014_x86_64.whl (1.1MB)\n",
            "\u001b[K     |████████████████████████████████| 1.1MB 42.7MB/s \n",
            "\u001b[?25hCollecting keras_bert>=0.86.0\n",
            "  Downloading https://files.pythonhosted.org/packages/e2/7f/95fabd29f4502924fa3f09ff6538c5a7d290dfef2c2fe076d3d1a16e08f0/keras-bert-0.86.0.tar.gz\n",
            "Requirement already satisfied: networkx>=2.3 in /usr/local/lib/python3.6/dist-packages (from ktrain) (2.5)\n",
            "Collecting whoosh\n",
            "\u001b[?25l  Downloading https://files.pythonhosted.org/packages/ba/19/24d0f1f454a2c1eb689ca28d2f178db81e5024f42d82729a4ff6771155cf/Whoosh-2.7.4-py2.py3-none-any.whl (468kB)\n",
            "\u001b[K     |████████████████████████████████| 471kB 47.9MB/s \n",
            "\u001b[?25hRequirement already satisfied: scipy>=0.17.0 in /usr/local/lib/python3.6/dist-packages (from scikit-learn>=0.21.3->ktrain) (1.4.1)\n",
            "Requirement already satisfied: numpy>=1.11.0 in /usr/local/lib/python3.6/dist-packages (from scikit-learn>=0.21.3->ktrain) (1.18.5)\n",
            "Requirement already satisfied: pyparsing!=2.0.4,!=2.1.2,!=2.1.6,>=2.0.1 in /usr/local/lib/python3.6/dist-packages (from matplotlib>=3.0.0->ktrain) (2.4.7)\n",
            "Requirement already satisfied: cycler>=0.10 in /usr/local/lib/python3.6/dist-packages (from matplotlib>=3.0.0->ktrain) (0.10.0)\n",
            "Requirement already satisfied: python-dateutil>=2.1 in /usr/local/lib/python3.6/dist-packages (from matplotlib>=3.0.0->ktrain) (2.8.1)\n",
            "Requirement already satisfied: kiwisolver>=1.0.1 in /usr/local/lib/python3.6/dist-packages (from matplotlib>=3.0.0->ktrain) (1.3.1)\n",
            "Requirement already satisfied: pytz>=2017.2 in /usr/local/lib/python3.6/dist-packages (from pandas>=1.0.1->ktrain) (2018.9)\n",
            "Requirement already satisfied: chardet<4,>=3.0.2 in /usr/local/lib/python3.6/dist-packages (from requests->ktrain) (3.0.4)\n",
            "Requirement already satisfied: urllib3!=1.25.0,!=1.25.1,<1.26,>=1.21.1 in /usr/local/lib/python3.6/dist-packages (from requests->ktrain) (1.24.3)\n",
            "Requirement already satisfied: certifi>=2017.4.17 in /usr/local/lib/python3.6/dist-packages (from requests->ktrain) (2020.12.5)\n",
            "Requirement already satisfied: idna<3,>=2.5 in /usr/local/lib/python3.6/dist-packages (from requests->ktrain) (2.10)\n",
            "Requirement already satisfied: pygments in /usr/local/lib/python3.6/dist-packages (from ipython->ktrain) (2.6.1)\n",
            "Requirement already satisfied: simplegeneric>0.8 in /usr/local/lib/python3.6/dist-packages (from ipython->ktrain) (0.8.1)\n",
            "Requirement already satisfied: pexpect; sys_platform != \"win32\" in /usr/local/lib/python3.6/dist-packages (from ipython->ktrain) (4.8.0)\n",
            "Requirement already satisfied: prompt-toolkit<2.0.0,>=1.0.4 in /usr/local/lib/python3.6/dist-packages (from ipython->ktrain) (1.0.18)\n",
            "Requirement already satisfied: traitlets>=4.2 in /usr/local/lib/python3.6/dist-packages (from ipython->ktrain) (4.3.3)\n",
            "Requirement already satisfied: decorator in /usr/local/lib/python3.6/dist-packages (from ipython->ktrain) (4.4.2)\n",
            "Requirement already satisfied: setuptools>=18.5 in /usr/local/lib/python3.6/dist-packages (from ipython->ktrain) (50.3.2)\n",
            "Requirement already satisfied: pickleshare in /usr/local/lib/python3.6/dist-packages (from ipython->ktrain) (0.7.5)\n",
            "Requirement already satisfied: six in /usr/local/lib/python3.6/dist-packages (from langdetect->ktrain) (1.15.0)\n",
            "Requirement already satisfied: regex in /usr/local/lib/python3.6/dist-packages (from syntok->ktrain) (2019.12.20)\n",
            "Requirement already satisfied: Keras>=2.2.4 in /usr/local/lib/python3.6/dist-packages (from seqeval==0.0.19->ktrain) (2.4.3)\n",
            "Collecting tokenizers==0.9.3\n",
            "\u001b[?25l  Downloading https://files.pythonhosted.org/packages/4c/34/b39eb9994bc3c999270b69c9eea40ecc6f0e97991dba28282b9fd32d44ee/tokenizers-0.9.3-cp36-cp36m-manylinux1_x86_64.whl (2.9MB)\n",
            "\u001b[K     |████████████████████████████████| 2.9MB 50.7MB/s \n",
            "\u001b[?25hRequirement already satisfied: filelock in /usr/local/lib/python3.6/dist-packages (from transformers<4.0,>=3.1.0->ktrain) (3.0.12)\n",
            "Requirement already satisfied: dataclasses; python_version < \"3.7\" in /usr/local/lib/python3.6/dist-packages (from transformers<4.0,>=3.1.0->ktrain) (0.8)\n",
            "Requirement already satisfied: protobuf in /usr/local/lib/python3.6/dist-packages (from transformers<4.0,>=3.1.0->ktrain) (3.12.4)\n",
            "Collecting sacremoses\n",
            "\u001b[?25l  Downloading https://files.pythonhosted.org/packages/7d/34/09d19aff26edcc8eb2a01bed8e98f13a1537005d31e95233fd48216eed10/sacremoses-0.0.43.tar.gz (883kB)\n",
            "\u001b[K     |████████████████████████████████| 890kB 42.9MB/s \n",
            "\u001b[?25hRequirement already satisfied: tqdm>=4.27 in /usr/local/lib/python3.6/dist-packages (from transformers<4.0,>=3.1.0->ktrain) (4.41.1)\n",
            "Collecting keras-transformer>=0.38.0\n",
            "  Downloading https://files.pythonhosted.org/packages/89/6c/d6f0c164f4cc16fbc0d0fea85f5526e87a7d2df7b077809e422a7e626150/keras-transformer-0.38.0.tar.gz\n",
            "Requirement already satisfied: ptyprocess>=0.5 in /usr/local/lib/python3.6/dist-packages (from pexpect; sys_platform != \"win32\"->ipython->ktrain) (0.6.0)\n",
            "Requirement already satisfied: wcwidth in /usr/local/lib/python3.6/dist-packages (from prompt-toolkit<2.0.0,>=1.0.4->ipython->ktrain) (0.2.5)\n",
            "Requirement already satisfied: ipython-genutils in /usr/local/lib/python3.6/dist-packages (from traitlets>=4.2->ipython->ktrain) (0.2.0)\n",
            "Requirement already satisfied: h5py in /usr/local/lib/python3.6/dist-packages (from Keras>=2.2.4->seqeval==0.0.19->ktrain) (2.10.0)\n",
            "Requirement already satisfied: pyyaml in /usr/local/lib/python3.6/dist-packages (from Keras>=2.2.4->seqeval==0.0.19->ktrain) (3.13)\n",
            "Requirement already satisfied: click in /usr/local/lib/python3.6/dist-packages (from sacremoses->transformers<4.0,>=3.1.0->ktrain) (7.1.2)\n",
            "Collecting keras-pos-embd>=0.11.0\n",
            "  Downloading https://files.pythonhosted.org/packages/09/70/b63ed8fc660da2bb6ae29b9895401c628da5740c048c190b5d7107cadd02/keras-pos-embd-0.11.0.tar.gz\n",
            "Collecting keras-multi-head>=0.27.0\n",
            "  Downloading https://files.pythonhosted.org/packages/e6/32/45adf2549450aca7867deccfa04af80a0ab1ca139af44b16bc669e0e09cd/keras-multi-head-0.27.0.tar.gz\n",
            "Collecting keras-layer-normalization>=0.14.0\n",
            "  Downloading https://files.pythonhosted.org/packages/a4/0e/d1078df0494bac9ce1a67954e5380b6e7569668f0f3b50a9531c62c1fc4a/keras-layer-normalization-0.14.0.tar.gz\n",
            "Collecting keras-position-wise-feed-forward>=0.6.0\n",
            "  Downloading https://files.pythonhosted.org/packages/e3/59/f0faa1037c033059e7e9e7758e6c23b4d1c0772cd48de14c4b6fd4033ad5/keras-position-wise-feed-forward-0.6.0.tar.gz\n",
            "Collecting keras-embed-sim>=0.8.0\n",
            "  Downloading https://files.pythonhosted.org/packages/57/ef/61a1e39082c9e1834a2d09261d4a0b69f7c818b359216d4e1912b20b1c86/keras-embed-sim-0.8.0.tar.gz\n",
            "Collecting keras-self-attention==0.46.0\n",
            "  Downloading https://files.pythonhosted.org/packages/15/6b/c804924a056955fa1f3ff767945187103cfc851ba9bd0fc5a6c6bc18e2eb/keras-self-attention-0.46.0.tar.gz\n",
            "Building wheels for collected packages: ktrain, langdetect, syntok, seqeval, keras-bert, sacremoses, keras-transformer, keras-pos-embd, keras-multi-head, keras-layer-normalization, keras-position-wise-feed-forward, keras-embed-sim, keras-self-attention\n",
            "  Building wheel for ktrain (setup.py) ... \u001b[?25l\u001b[?25hdone\n",
            "  Created wheel for ktrain: filename=ktrain-0.25.2-cp36-none-any.whl size=25276306 sha256=4b9780a73203f86d29e6f1d8cf18cd522ba05139d811441276fb4b0c2f036f73\n",
            "  Stored in directory: /root/.cache/pip/wheels/fe/56/00/25444c352cc843e5c5daea0e9517a192878ae22c2c6b5f4573\n",
            "  Building wheel for langdetect (setup.py) ... \u001b[?25l\u001b[?25hdone\n",
            "  Created wheel for langdetect: filename=langdetect-1.0.8-cp36-none-any.whl size=993193 sha256=0bb50a2dd968a77971dd9b7c11c8cd58ef506845189a0c4788a1ee91503a0af3\n",
            "  Stored in directory: /root/.cache/pip/wheels/8d/b3/aa/6d99de9f3841d7d3d40a60ea06e6d669e8e5012e6c8b947a57\n",
            "  Building wheel for syntok (setup.py) ... \u001b[?25l\u001b[?25hdone\n",
            "  Created wheel for syntok: filename=syntok-1.3.1-cp36-none-any.whl size=20919 sha256=6c3a56960e97845d342daad57e15fb6ff66d451a998254a3392c1868aa94c355\n",
            "  Stored in directory: /root/.cache/pip/wheels/51/c6/a4/be1920586c49469846bcd2888200bdecfe109ec421dab9be2d\n",
            "  Building wheel for seqeval (setup.py) ... \u001b[?25l\u001b[?25hdone\n",
            "  Created wheel for seqeval: filename=seqeval-0.0.19-cp36-none-any.whl size=9920 sha256=4524f0302baf69393fa7925229187f80de428e2877f1aeac82d31ad3a069c2b3\n",
            "  Stored in directory: /root/.cache/pip/wheels/8d/1f/bf/1198beceed805a2099060975f6281d1b01046dd279e19c97be\n",
            "  Building wheel for keras-bert (setup.py) ... \u001b[?25l\u001b[?25hdone\n",
            "  Created wheel for keras-bert: filename=keras_bert-0.86.0-cp36-none-any.whl size=34146 sha256=f2ff556e8070acda1bcfce2e02188d0aae5a4da871d6cdcb94a638d6f7a29761\n",
            "  Stored in directory: /root/.cache/pip/wheels/66/f0/b1/748128b58562fc9e31b907bb5e2ab6a35eb37695e83911236b\n",
            "  Building wheel for sacremoses (setup.py) ... \u001b[?25l\u001b[?25hdone\n",
            "  Created wheel for sacremoses: filename=sacremoses-0.0.43-cp36-none-any.whl size=893261 sha256=07b4d3b4abfabbf03101b137354ef170f6d83c0684f7d8e31c06bdff756ae335\n",
            "  Stored in directory: /root/.cache/pip/wheels/29/3c/fd/7ce5c3f0666dab31a50123635e6fb5e19ceb42ce38d4e58f45\n",
            "  Building wheel for keras-transformer (setup.py) ... \u001b[?25l\u001b[?25hdone\n",
            "  Created wheel for keras-transformer: filename=keras_transformer-0.38.0-cp36-none-any.whl size=12942 sha256=edd516a9465cbcc1b27b39e2b239b04769b33e905f84af7d9c4d0fcb4ae7091a\n",
            "  Stored in directory: /root/.cache/pip/wheels/e5/fb/3a/37b2b9326c799aa010ae46a04ddb04f320d8c77c0b7e837f4e\n",
            "  Building wheel for keras-pos-embd (setup.py) ... \u001b[?25l\u001b[?25hdone\n",
            "  Created wheel for keras-pos-embd: filename=keras_pos_embd-0.11.0-cp36-none-any.whl size=7554 sha256=b059454fea3f671cc7ff6ce522a76c59c112fc6b97acd27e5ba97332878e1598\n",
            "  Stored in directory: /root/.cache/pip/wheels/5b/a1/a0/ce6b1d49ba1a9a76f592e70cf297b05c96bc9f418146761032\n",
            "  Building wheel for keras-multi-head (setup.py) ... \u001b[?25l\u001b[?25hdone\n",
            "  Created wheel for keras-multi-head: filename=keras_multi_head-0.27.0-cp36-none-any.whl size=15610 sha256=c3a22d62fbfe0c2804bff557d2133fd03d4d95decbfe6f72298dbff675a28a44\n",
            "  Stored in directory: /root/.cache/pip/wheels/b5/b4/49/0a0c27dcb93c13af02fea254ff51d1a43a924dd4e5b7a7164d\n",
            "  Building wheel for keras-layer-normalization (setup.py) ... \u001b[?25l\u001b[?25hdone\n",
            "  Created wheel for keras-layer-normalization: filename=keras_layer_normalization-0.14.0-cp36-none-any.whl size=5267 sha256=71f1a5ce2596bdf2ae47085cb4e66f9ebdcd4bef182b7b0cd5cf2dcce60c1953\n",
            "  Stored in directory: /root/.cache/pip/wheels/54/80/22/a638a7d406fd155e507aa33d703e3fa2612b9eb7bb4f4fe667\n",
            "  Building wheel for keras-position-wise-feed-forward (setup.py) ... \u001b[?25l\u001b[?25hdone\n",
            "  Created wheel for keras-position-wise-feed-forward: filename=keras_position_wise_feed_forward-0.6.0-cp36-none-any.whl size=5625 sha256=112af2d849089231a3e3b2f203af4b117a360ee114c5ea8dd89da14d0989db48\n",
            "  Stored in directory: /root/.cache/pip/wheels/39/e2/e2/3514fef126a00574b13bc0b9e23891800158df3a3c19c96e3b\n",
            "  Building wheel for keras-embed-sim (setup.py) ... \u001b[?25l\u001b[?25hdone\n",
            "  Created wheel for keras-embed-sim: filename=keras_embed_sim-0.8.0-cp36-none-any.whl size=4560 sha256=fdd74355dc4a230a8d688388b99674ba79f954cba73c7c84d3f184845fda84b2\n",
            "  Stored in directory: /root/.cache/pip/wheels/49/45/8b/c111f6cc8bec253e984677de73a6f4f5d2f1649f42aac191c8\n",
            "  Building wheel for keras-self-attention (setup.py) ... \u001b[?25l\u001b[?25hdone\n",
            "  Created wheel for keras-self-attention: filename=keras_self_attention-0.46.0-cp36-none-any.whl size=17278 sha256=1ddf7e3f5e9d2fd34bd11f0e5516d245bac663d1db808804dae3673110db59af\n",
            "  Stored in directory: /root/.cache/pip/wheels/d2/2e/80/fec4c05eb23c8e13b790e26d207d6e0ffe8013fad8c6bdd4d2\n",
            "Successfully built ktrain langdetect syntok seqeval keras-bert sacremoses keras-transformer keras-pos-embd keras-multi-head keras-layer-normalization keras-position-wise-feed-forward keras-embed-sim keras-self-attention\n",
            "\u001b[31mERROR: transformers 3.5.1 has requirement sentencepiece==0.1.91, but you'll have sentencepiece 0.1.94 which is incompatible.\u001b[0m\n",
            "Installing collected packages: langdetect, cchardet, syntok, seqeval, tokenizers, sentencepiece, sacremoses, transformers, keras-pos-embd, keras-self-attention, keras-multi-head, keras-layer-normalization, keras-position-wise-feed-forward, keras-embed-sim, keras-transformer, keras-bert, whoosh, ktrain\n",
            "Successfully installed cchardet-2.1.7 keras-bert-0.86.0 keras-embed-sim-0.8.0 keras-layer-normalization-0.14.0 keras-multi-head-0.27.0 keras-pos-embd-0.11.0 keras-position-wise-feed-forward-0.6.0 keras-self-attention-0.46.0 keras-transformer-0.38.0 ktrain-0.25.2 langdetect-1.0.8 sacremoses-0.0.43 sentencepiece-0.1.94 seqeval-0.0.19 syntok-1.3.1 tokenizers-0.9.3 transformers-3.5.1 whoosh-2.7.4\n"
          ],
          "name": "stdout"
        }
      ]
    },
    {
      "cell_type": "code",
      "metadata": {
        "id": "VM92c2b93SrL"
      },
      "source": [
        "import ktrain\r\n",
        "from ktrain import text\r\n",
        "import pandas as pd\r\n",
        "import re,string"
      ],
      "execution_count": 22,
      "outputs": []
    },
    {
      "cell_type": "code",
      "metadata": {
        "id": "TtSylzpD3cIm"
      },
      "source": [
        "df_train = pd.read_csv('/content/train.csv')\r\n",
        "df_test = pd.read_csv('/content/test.csv')\r\n",
        "df_submission = pd.read_csv('/content/sample_submission.csv')"
      ],
      "execution_count": 23,
      "outputs": []
    },
    {
      "cell_type": "code",
      "metadata": {
        "id": "ntBEJzRp8w9p"
      },
      "source": [
        "def clean_text(text):\r\n",
        "    '''Make text lowercase, remove text in square brackets,remove links,remove punctuation\r\n",
        "    and remove words containing numbers.'''\r\n",
        "    text = str(text).lower()\r\n",
        "    text = re.sub('\\[.*?\\]', '', text)\r\n",
        "    text = re.sub('https?://\\S+|www\\.\\S+', '', text)\r\n",
        "    text = re.sub('<.*?>+', '', text)\r\n",
        "    text = re.sub('[%s]' % re.escape(string.punctuation), '', text)\r\n",
        "    text = re.sub('\\n', '', text)\r\n",
        "    text = re.sub('\\w*\\d\\w*', '', text)\r\n",
        "    return text"
      ],
      "execution_count": 24,
      "outputs": []
    },
    {
      "cell_type": "code",
      "metadata": {
        "id": "5YJFST7B83Y7"
      },
      "source": [
        "df_train['text'] = df_train['text'].apply(lambda x:clean_text(x))\r\n",
        "df_train['selected_text'] = df_train['selected_text'].apply(lambda x:clean_text(x))"
      ],
      "execution_count": 40,
      "outputs": []
    },
    {
      "cell_type": "code",
      "metadata": {
        "id": "0T0IshHK4AqI"
      },
      "source": [
        "def get_training_data(sentiment):\r\n",
        "    '''\r\n",
        "    Returns Training data in the format needed to train spacy NER\r\n",
        "    '''\r\n",
        "    train_data = []\r\n",
        "    test_data = []\r\n",
        "    for index, row in df_train.iterrows():\r\n",
        "        if row.sentiment == sentiment:\r\n",
        "            selected_text = row.selected_text\r\n",
        "            text = row.text\r\n",
        "            train_data.append(text.split())\r\n",
        "            test_data.append([i if i in selected_text.split() else 0 for i in text.split()])\r\n",
        "    return train_data,test_data"
      ],
      "execution_count": 41,
      "outputs": []
    },
    {
      "cell_type": "code",
      "metadata": {
        "id": "Qx7BpSSo6x6e"
      },
      "source": [
        "def get_model_out_path(sentiment):\r\n",
        "    '''\r\n",
        "    Returns Model output path\r\n",
        "    '''\r\n",
        "    model_out_path = None\r\n",
        "    if sentiment == 'positive':\r\n",
        "        model_out_path = '/content/models/model_pos'\r\n",
        "    elif sentiment == 'negative':\r\n",
        "        model_out_path = '/content/models/model_neg'\r\n",
        "    return model_out_path"
      ],
      "execution_count": 42,
      "outputs": []
    },
    {
      "cell_type": "code",
      "metadata": {
        "id": "TiBxgngU6zOL"
      },
      "source": [
        "sentiment = 'positive'\r\n",
        "\r\n",
        "train_data,test_data = get_training_data(sentiment)\r\n",
        "model_path = get_model_out_path(sentiment)"
      ],
      "execution_count": 78,
      "outputs": []
    },
    {
      "cell_type": "code",
      "metadata": {
        "colab": {
          "base_uri": "https://localhost:8080/"
        },
        "id": "SSrtM82u7A9J",
        "outputId": "b6941d7b-f4ec-4039-ed01-eede271be477"
      },
      "source": [
        "(trn, val, preproc) = text.entities_from_array(train_data, test_data,\r\n",
        "                        x_test=None, y_test=None,\r\n",
        "                        use_char=False,\r\n",
        "                        val_pct=0.1,\r\n",
        "                        verbose=1)"
      ],
      "execution_count": 79,
      "outputs": [
        {
          "output_type": "stream",
          "text": [
            "training data sample:\n",
            "   SentenceID      Word Tag\n",
            "0           0  feedings   0\n",
            "1           0       for   0\n",
            "2           0       the   0\n",
            "3           0      baby   0\n",
            "4           0       are   0\n",
            "Number of sentences:  8581\n",
            "Number of words in the dataset:  12046\n",
            "Tags: [0, 'apart', 'article', 'generally', 'nevermind', 'virtue', 'tanning', 'grown', 'steady', 'sessionmosh', 'office', 'dayevery', 'promise', 'ripped', 'blackberry', 'loads', 'superexcited', 'promised', 'happpppy', 'though', 'dimple', 'sweeney', 'backs', 'venueswhat', 'things', 'screwing', 'humble', 'gonna', 'sad', 'wii', 'would', 'goodtimes', 'private', 'favourtie', 'itbut', 'scones', 'bitbetter', 'yum', 'force', 'forest', 'let', 'cab', 'jamie', 'cool', 'handles', 'everyoneeeee', 'stupid', 'month', 'hahahahahahahahahahahahaha', 'purrtty', 'disappoint', 'ultra', 'trek', 'asleep', 'big', 'continue', 'teeth', 'clean', 'eatin', 'macarena', 'complete', 'with', 'absolute', 'jon', 'iiight', 'w', 'grace', 'causes', 'showwwww', 'birdies', 'amazeeeeeee', 'superman', 'disappointed', 'hangin', 'unproductive', 'hrdest', 'seeing', 'lonley', 'as', 'mileys', 'socks', 'everton', 'effort', 'poooh', 'obession', 'mothersday', 'hai', 'trouble', 'shower', 'addicted', 'nicley', 'niceee', 'split', 'shows', 'overjoyed', 'racers', 'antony', 'exist', 'ellipital', 'killer', 'bam', 'orignal', 'sweaty', 'cruisey', 'kitty', 'begonia', 'did', 'rather', 'brazil', 'bday', 'playing', 'bonding', 'paranoif', 'angel', 'has', 'gmornin', 'text', 'coooooooool', 'kenan', 'kickbutt', 'vintage', 'ridin', 'pizza', 'awarded', 'alwas', 'win', 'cats', 'wake', 'hobby', 'legend', 'godtime', 'lack', 'cherry', 'minus', 'dampen', 'replay', 'needed', 'meditate', 'twin', 'premium', 'amaze', 'goodluck', 'dinner', 'stay', 'ake', 'indeed', 'yess', 'sunny', 'hello', 'esp', 'fascinating', 'monday', 'studying', 'sweeeet', 'youd', 'diagram', 'tears', 'couldnt', 'homely', 'ericsson', 'picking', 'unique', 'predicted', 'its', 'sun', 'forth', 'atm', 'ahh', 'ebm', 'qt', 'greentea', 'rieger', 'starbucks', 'exicted', 'camp', 'awh', 'kickass', 'lmfaoo', 'bahaha', 'box', 'dippin', 'competitionhope', 'hook', 'hahahahaha', 'picture', 'velvet', 'coooolest', 'mandy', 'terms', 'kirk', 'stage', 'ittt', 'bills', 'games', 'finely', 'knooow', 'go', 'are', 'amazes', 'find', 'president', 'eachother', 'last', 'unconditonally', 'reminderthx', 'ghosts', 'sqeaky', 'ofoz', 'face', 'ruby', 'days', 'storms', 'wthem', 'rain', 'funpacked', 'groups', 'chicky', 'price', 'provoking', 'fare', 'euphoria', 'get', 'lucky', 'france', 'thankujesus', 'thks', 'chillaxin', 'child', 'enjoyable', 'reborn', 'spongebob', 'frosting', 'robert', 'pril', 'again', 'saved', 'loud', 'efficient', 'partying', 'applebees', 'open', 'major', 'heheï¿½i', 'violently', 'luvin', 'scifi', 'tiny', 'fevers', 'law', 'mozconcept', 'lovelovelove', 'paid', 'momma', 'anytime', 'peeing', 'spell', 'day', 'geeky', 'healthy', 'mithru', 'states', 'important', 'bastos', 'nooo', 'pics', 'yeaah', 'wit', 'rachel', 'enthusiasm', 'pop', 'ppl', 'thrilled', 'gifts', 'proves', 'reward', 'there', 'summaas', 'taken', 'energy', 'whats', 'church', 'giftin', 'joke', 'electro', 'missus', 'looooooove', 'victory', 'yeee', 'completely', 'whee', 'two', 'recovering', 'kid', 'hahahahahaha', 'btw', 'tweeting', 'hear', 'golden', 'bass', 'sandwich', 'ours', 'fond', 'thoughts', 'neeed', 'finish', 'special', 'hurt', 'absolutly', 'gained', 'kelly', 'girls', 'bombbb', 'elmo', 'chattin', 'aches', 'ipod', 'itching', 'wellgoing', 'concepts', 'beans', 'snuggle', 'loop', 'mmm', 'table', 'north', 'worksthat', 'neighborhood', 'yeay', 'witness', 'kinda', 'juddday', 'purate', 'slept', 'dundee', 'pav', 'couple', 'complain', 'adoption', 'falling', 'crazy', 'yaaayyy', 'step', 'bro', 'impose', 'will', 'reflecting', 'awaiting', 'partyyyyy', 'on', 'sensible', 'business', 'benjamin', 's', 'worries', 'father', 'tomarrowbecause', 'fuzzball', 'disney', 'noble', 'button', 'situations', 'turn', 'wouldnt', 'benefiting', 'giggle', 'max', 'female', 'cake', 'except', 'local', 'lindsay', 'sleep', 'thatll', 'tricked', 'rainy', 'yeah', 'officially', 'lyrics', 'satisfied', 'youregreat', 'relax', 'wasnt', 'talented', 'podcast', 'voted', 'acs', 'woooomp', 'winner', 'boss', 'answered', 'aaawww', 'contacts', 'felicia', 'concur', 'ocean', 'videos', 'extra', 'peeps', 'buying', 'emmm', 'grrr', 'combonations', 'charm', 'genre', 'oh', 'fresh', 'updates', 'sexy', 'frappuccino', 'turnout', 'architecture', 'adam', 'mommas', 'fixed', 'y', 'bbq', 'jake', 'weee', 'met', 'athletes', 'reason', 'contain', 'able', 'ver', 'coraline', 'roco', 'cheese', 'simply', 'wowyou', 'funfunfun', 'wmiad', 'bk', 'serenading', 'yays', 'frown', 'awe', 'share', 'white', 'lighten', 'hella', 'agreeable', 'greatest', 'pretty', 'heck', 'wrestlefest', 'wango', 'jemi', 'threshold', 'ab', 'whoop', 'wonderful', 'evening', 'dancing', 'apps', 'tired', 'crafty', 'crucial', 'better', 'lmfao', 'him', 'shaven', 'spread', 'summer', 'courtesy', 'through', 'crush', 'awww', 'side', 'beginning', 'harding', 'decided', 'help', 'jummy', 'lonely', 'queen', 'whatever', 'vipcome', 'while', 'racism', 'queens', 'brain', 'wisdom', 'traffic', 'cleveland', 'chrissy', 'shawna', 'best', 'helped', 'plural', 'congrads', 'live', 'soft', 'although', 'name', 'be', 'true', 'drunk', 'tonight', 'allmothers', 'impossible', 'am', 'congratss', 'betterrrrrrrr', 'tru', 'deserve', 'tweets', 'dark', 'zero', 'november', 'woot', 'late', 'walk', 'fave', 'bestest', 'gazing', 'duck', 'usnlbest', 'geee', 'pain', 'ep', 'dying', 'quit', 'um', 'xmen', 'hada', 'bite', 'problemo', 'composition', 'finals', 'my', 'modern', 'eftelingfun', 'everyday', 'rendered', 'old', 'meet', 'kmf', 'sling', 'minutes', 'dresses', 'viewing', 'hairsss', 'greenim', 'sydney', 'touche', 'upgraded', 'blogs', 'healing', 'deal', 'woke', 'product', 'song', 'expecting', 'into', 'sumptuous', 'spending', 'means', 'humour', 'christmas', 'partytiiime', 'works', 'basketball', 'concert', 'superb', 'cinnamon', 'knocked', 'annoy', 'thankyooooou', 'keeping', 'wolverine', 'found', 'thankfully', 'sweat', 'guides', 'dear', 'august', 'video', 'chance', 'loveeee', 'stole', 'entertain', 'worlds', 'preciate', 'seemed', 'adopt', 'shining', 'horror', 'speedo', 'beyeblessed', 'throughshe', 'chocolate', 'wishes', 'wouldve', 'fam', 'rex', 'far', 'stops', 'iloveyoutwoooo', 'miss', 'album', 'saw', 'wont', 'coming', 'nest', 'fukin', 'timing', 'dates', 'doin', 'lifeline', 'straight', 'vent', 'fb', 'portfolio', 'cold', 'yaayy', 'mayday', 'mysore', 'greetings', 'princess', 'priceless', 'msgs', 'playlist', 'move', 'kisses', 'babes', 'ol', 'somebody', 'receive', 'online', 'p', 'wished', 'cried', 'quiteheavenly', 'turning', 'each', 'about', 'collection', 'ps', 'weathers', 'hassnt', 'ajc', 'brothers', 'gone', 'eating', 'uu', 'fuschia', 'blow', 'regular', 'o', 'relief', 'no', 'spotify', 'recharge', 'everrrr', 'cubiclefreedomness', 'past', 'props', 'meeting', 'gorgeous', 'coz', 'listenening', 'swear', 'hooray', 'tablets', 'final', 'dont', 'swimming', 'cakewish', 'webkit', 'fansite', 'crispies', 'line', 'some', 'ready', 'much', 'babies', 'sugar', 'latte', 'voice', 'weekend', 'amount', 'rey', 'peek', 'boy', 'tremendously', 'pictures', 'begin', 'nights', 'birdy', 'minted', 'theirs', 'deprivation', 'slovakian', 'showers', 'yay', 'goosebumps', 'funniset', 'quess', 'second', 'heels', 'make', 'exciting', 'u', 'fingers', 'thrilling', 'tasty', 'characters', 'everyonee', 'lewis', 'laughing', 'goodno', 'spend', 'auntie', 'prejudice', 'looooove', 'usual', 'australia', 'load', 'loveee', 'havin', 'alpine', 'seniors', 'awethank', 'brave', 'sonetime', 'appropriately', 'review', 'halo', 'potty', 'heres', 'aussie', 'cheers', 'sweetie', 'gnight', 'icarly', 'beat', 'wkp', 'sticker', 'nashville', 'cambs', 'phone', 'mamis', 'water', 'tour', 'representing', 'blessings', 'happpy', 'darlin', 'randomly', 'thxx', 'bath', 'honored', 'lookin', 'smacked', 'hottest', 'exciteeeddd', 'round', 'tv', 'lolwas', 'william', 'catchy', 'neglected', 'mouth', 'untill', 'page', 'dismissed', 'tried', 'goooooodmoring', 'muchly', 'freakin', 'supposed', 'holidays', 'decently', 'community', 'so', 'nonmothers', 'offered', 'lorraine', 'free', 'our', 'recipe', 'youï¿½re', 'seen', 'handy', 'yaaaay', 'loove', 'mains', 'cooking', 'ate', 'achievement', 'occasion', 'words', 'delicious', 'eaat', 'likes', 'proctors', 'twinz', 'sleeping', 'thanxx', 'mish', 'perfect', 'match', 'stadium', 'state', 'diana', 'lifts', 'rockstars', 'cheered', 'under', 'stack', 'once', 'jane', 'mums', 'proper', 'magic', 'avid', 'says', 'revision', 'front', 'crowded', 'his', 'friend', 'jen', 'excitednervous', 'pulling', 'systems', 'fillings', 'math', 'fun', 'congrat', 'mesmerizing', 'yaaaaaayy', 'herei', 'gooooonight', 'remote', 'flat', 'chillin', 'wishing', 'society', 'heartwarming', 'tweethearts', 'brightens', 'died', 'predict', 'juice', 'beats', 'performance', 'fit', 'gnimorning', 'hp', 'tomorrow', 'desserts', 'guys', 'itd', 'behind', 'butt', 'fuckn', 'articles', 'ill', 'act', 'sound', 'humility', 'followed', 'inspiring', 'forsure', 'small', 'city', 'supernatural', 'soul', 'twitskies', 'lovee', 'congratulation', 'fcs', 'baking', 'tango', 'both', 'ticker', 'kittykisses', 'shopping', 'commercials', 'ohhhh', 'nose', 'aced', 'italian', 'yayyyyyyy', 'hulk', 'girl', 'meeeee', 'bear', 'hanging', 'alot', 'sunshine', 'morning', 'calls', 'invention', 'genius', 'prom', 'brother', 'goat', 'jobros', 'reunited', 'bathroom', 'goodnight', 'butteflies', 'taste', 'champs', 'hooping', 'looooooooves', 'board', 'her', 'house', 'grad', 'yer', 'drink', 'imma', 'hurray', 'power', 'auction', 'chocolates', 'definition', 'happier', 'foreword', 'nba', 'blankets', 'catch', 'rafferty', 'likeslol', 'afraidiowe', 'das', 'then', 'k', 'puppyyy', 'gooooood', 'cinema', 'qualifying', 'pleased', 'broadway', 'huge', 'fest', 'gw', 'lots', 'goodthanks', 'twitterville', 'hourstrying', 'macbook', 'awessomee', 'prep', 'downtown', 'particularly', 'discount', 'overthetop', 'headsup', 'poppin', 'wrote', 'revive', 'brunch', 'maybe', 'hilaaaaarious', 'safari', 'satisfaction', 'atmosphere', 'whisked', 'three', 'bacardi', 'working', 'episodes', 'drive', 'wow', 'mango', 'goooooddd', 'wooooo', 'diy', 'body', 'total', 'run', 'broadband', 'feels', 'thats', 'america', 'mine', 'interesting', 'survive', 'braggin', 'whoo', 'niley', 'mama', 'ladies', 'shweeeeet', 'luvv', 'nan', 'ah', 'five', 'wd', 'tommy', 'setup', 'diva', 'goodmorning', 'situation', 'whoooooo', 'theatre', 'sheath', 'hoooo', 'trending', 'rum', 'greatly', 'bruises', 'scents', 'cautious', 'full', 'slush', 'record', 'doing', 'tests', 'sooooo', 'goon', 'beyond', 'twitterland', 'todd', 'winks', 'carrie', 'hate', 'knowledge', 'junior', 'honor', 'dash', 'terrific', 'funnily', 'inlove', 'ds', 'may', 'everbody', 'isnt', 'feel', 'dishes', 'dayyy', 'presents', 'chaperone', 'count', 'nervous', 'drinks', 'cycling', 'wellure', 'sisa', 'mighty', 'progressive', 'josa', 'suppose', 'welcomed', 'tiptop', 'ultimate', 'l', 'least', 'speedy', 'lingerie', 'helping', 'happydance', 'joyfull', 'scan', 'allen', 'taxi', 'suck', 'was', 'thinking', 'festive', 'next', 'congrats', 'hung', 'year', 'celebrate', 'ruled', 'photoshoot', 'comes', 'extremely', 'sending', 'fair', 'omigoodness', 'probable', 'rich', 'palm', 'list', 'smooth', 'doc', 'lcd', 'sitting', 'awesoome', 'taquito', 'philly', 'xbox', 'want', 'humor', 'bomb', 'girlfriend', 'food', 'read', 'everyone', 'appointments', 'battle', 'toast', 'wife', 'sore', 'aswered', 'massacre', 'dinners', 'n', 'sequels', 'shout', 'dangggg', 'compliment', 'wonder', 'amazingplease', 'cost', 'married', 'welldeserved', 'greater', 'fortunately', 'out', 'mate', 'tracks', 'womp', 'years', 'promises', 'like', 'cycle', 'lot', 'facepanda', 'blasting', 'leah', 'aptitude', 'kurt', 'hospital', 'cover', 'females', 'crashhad', 'thaank', 'mainstream', 'demisterling', 'determination', 'kick', 'anyone', 'muah', 'keen', 'straw', 'photoshop', 'what', 'wathing', 'explore', 'session', 'useful', 'noticed', 'stunning', 'hahahahah', 'tooooo', 'basement', 'christian', 'studio', 'motivation', 'optimistic', 'haaaaaa', 'bugs', 'el', 'likee', 'pervs', 'wayne', 'many', 'must', 'mother', 'noting', 'mochas', 'pigsswines', 'woo', 'goodness', 'jumps', 'transparency', 'flo', 'topics', 'goooood', 'apparently', 'hair', 'midnite', 'jones', 'meds', 'all', 'cuuuute', 'aaahhh', 'alaskaso', 'cars', 'bob', 'comic', 'lvoe', 'ugh', 'entirely', 'incredible', 'goodnighthappy', 'inspired', 'period', 'mocha', 'rio', 'strawberry', 'lovebank', 'california', 'generations', 'candy', 'prayin', 'fullterm', 'dk', 'moving', 'iloveyouuu', 'use', 'whahahah', 'weve', 'herbs', 'mushymushy', 'romance', 'future', 'q', 'tagers', 'dm', 'shitload', 'oven', 'yummy', 'norwood', 'times', 'sent', 'solid', 'fly', 'husband', 'mood', 'clothes', 'iphone', 'low', 'personally', 'avatar', 'impressive', 'bright', 'add', 'x', 'reminds', 'likey', 'checked', 'happyand', 'in', 'overall', 'twitterbugsgoodnight', 'xoxo', 'hardgoodnight', 'mountains', 'gunna', 'mgmt', 'mum', 'that', 'pix', 'lovelies', 'interview', 'boo', 'chopped', 'absolutely', 'merlin', 'sarah', 'dog', 'manly', 'pasty', 'center', 'walking', 'loveliest', 'accomplish', 'splendid', 'badumtish', 'got', 'edgefesssssst', 'thaanks', 'j', 'horrible', 'aim', 'ammmmazing', 'obviously', 'idol', 'these', 'rivers', 'dayand', 'insane', 'rants', 'ahahaha', 'proposedwere', 'app', 'every', 'appology', 'fourth', 'junction', 'spanish', 'cup', 'shirts', 'heads', 'contribute', 'purple', 'rad', 'eat', 'socialising', 'guitars', 'came', 'behave', 'hit', 'celebreting', 'reallly', 'fiance', 'wildflowers', 'dooooooooown', 'lose', 'bands', 'handheld', 'makes', 'tell', 'ish', 'fail', 'archuleta', 'transfer', 'faves', 'mentioned', 'brought', 'vista', 'foods', 'contradiction', 'negativity', 'visit', 'distract', 'camera', 'oll', 'colorful', 'play', 'bound', 'week', 'chutzpah', 'blockbuster', 'dads', 'classic', 'anything', 'oooh', 'ben', 'sickness', 'addicts', 'argentina', 'bbws', 'creativity', 'url', 'aaaaaaaaaamazing', 'fml', 'combination', 'nowit', 'vegan', 'helps', 'cipriano', 'nfg', 'hot', 'laptop', 'cleared', 'wowthanks', 'summat', 'johnsons', 'cuz', 'killed', 'actions', 'cobra', 'everone', 'dans', 'chicago', 'laaaaaaaaave', 'gift', 'itsoooo', 'crash', 'nippy', 'massage', 'never', 'ride', 'hahah', 'do', 'shouldve', 'cute', 'present', 'film', 'lof', 'serious', 'right', 'waves', 'around', 'hawaii', 'liking', 'grtsat', 'dogs', 'smiles', 'vid', 'bliss', 'learned', 'plis', 'machine', 'vote', 'wellthat', 'stressfree', 'home', 'luckyand', 'test', 'steve', 'dancer', 'joyride', 'mysterio', 'hayes', 'mindless', 'pointless', 'gud', 'outta', 'adoarble', 'deed', 'skype', 'omgsh', 'hoped', 'route', 'ends', 'belinda', 'during', 'audacious', 'lipstic', 'midterms', 'quesadiaas', 'designers', 'star', 'piss', 'twitts', 'apple', 'enlightening', 'itll', 'editions', 'ohhh', 'biggest', 'consider', 'blog', 'master', 'lad', 'isn', 'shine', 'gossip', 'closer', 'hq', 'indiana', 'does', 'increasingly', 'nutritious', 'sensation', 'uninstall', 'summmmmerrrrr', 'chilling', 'since', 'it', 'shadow', 'only', 'newly', 'wifi', 'god', 'sunday', 'looove', 'lo', 'waiting', 'eeet', 'fillin', 'backand', 'answer', 'mash', 'well', 'laugh', 'women', 'by', 'asking', 'always', 'literally', 'ive', 'taylor', 'internet', 'somehow', 'goood', 'luvd', 'simple', 'shelves', 'turns', 'employee', 'letters', 'annivarsary', 'award', 'shall', 'save', 'craziness', 'florence', 'noiiiiice', 'feelin', 'at', 'along', 'saving', 'twittering', 'jam', 'shirt', 'he', 'yours', 'mostly', 'successfully', 'hurrah', 'london', 'called', 'rooting', 'i', 'watching', 'dish', 'battles', 'paulo', 'd', 'mode', 'completed', 'slacking', 'jensen', 'savechuck', 'competition', 'to', 'following', 'wooowww', 'stomach', 'daddio', 'finding', 'infamous', 'mike', 'holy', 'company', 'sweatshirt', 'intelligence', 'picturisation', 'ooh', 'bedroom', 'channel', 'lambert', 'hugs', 'gilbert', 'waking', 'crawl', 'providence', 'wrap', 'puts', 'wondering', 'arrival', 'forgot', 'memories', 'web', 'predictable', 'positivity', 'dvr', 'heavennn', 'phenomenal', 'softball', 'brilliant', 'amanda', 'airtel', 'minnesota', 'dodger', 'hahaha', 'pms', 'truly', 'carry', 'mayers', 'glamorous', 'iloveyoumoreeee', 'uber', 'season', 'invisible', 'girlfriends', 'sorry', 'bahamas', 'tatasky', 'aunt', 'together', 'joys', 'pups', 'relaxed', 'til', 'fab', 'heaven', 'effects', 'ollies', 'corrected', 'bates', 'acting', 'lived', 'wifiyou', 'hopefull', 'yeaaaah', 'fairly', 'mix', 'designer', 'precise', 'artists', 'practice', 'hehe', 'plus', 'feelings', 'qreat', 'the', 'yaaaaay', 'dollhouse', 'minute', 'survey', 'hey', 'why', 'fortunate', 'few', 'tafe', 'were', 'ju', 'promising', 'club', 'madly', 'sweeter', 'palmade', 'itt', 'miller', 'returning', 'argument', 'rice', 'july', 'happiest', 'screamin', 'scratch', 'neewwww', 'flirt', 'gaga', 'instead', 'karma', 'hahahah', 'spirit', 'chicken', 'planet', 'almost', 'yumm', 'up', 'deserved', 'guessing', 'british', 'dodgers', 'change', 'tweetdeck', 'cable', 'off', 'definitely', 'meee', 'offer', 'heard', 'considering', 'cb', 'adorable', 'guuud', 'doable', 'believe', 'jeff', 'congratulatory', 'blood', 'camden', 'kind', 'everythings', 'qirlsniqhtout', 'models', 'over', 'another', 'think', 'before', 'tooo', 'calms', 'treasures', 'prays', 'pleaseeeee', 'human', 'common', 'reds', 'long', 'messages', 'world', 'yippiee', 'happy', 'touchin', 'john', 'game', 'smuts', 'frappachinos', 'sadly', 'started', 'boyzzzz', 'word', 'ashlie', 'comeback', 'pages', 'gmail', 'cracking', 'cream', 'we', 'copy', 'such', 'heather', 'family', 'joyologist', 'short', 'greattttt', 'tweeple', 'meant', 'badly', 'zoo', 'whooo', 'missinmydgbigtyme', 'gooodmorning', 'lets', 'coupons', 'romantic', 'wonderfur', 'mindy', 'chillaxing', 'penalty', 'hahahahahahahahahah', 'perfectly', 'login', 'bet', 'lovingly', 'moore', 'rescued', 'air', 'arrive', 'thee', 'bad', 'accept', 'frankie', 'subo', 'ikr', 'garden', 'cheaper', 'history', 'place', 'bestie', 'luckiest', 'everr', 'bloody', 'jay', 'precious', 'ging', 'yaaay', 'flies', 'thanks', 'wishhh', 'weeds', 'hahahahahahaha', 'mommys', 'cricket', 'freak', 'recycling', 'beauty', 'bggeting', 'direction', 'exited', 'ring', 'people', 'worth', 'jazzercise', 'chats', 'pleasant', 'ooo', 'ask', 'placement', 'set', 'saythink', 'heading', 'swag', 'fans', 'dope', 'person', 'high', 'cousins', 'tho', 'oxoxoteambreezy', 'nicest', 'yeayy', 'breakfast', 'eh', 'books', 'revising', 'fintster', 'yall', 'calming', 'guy', 'ways', 'first', 'spoke', 'ere', 'bless', 'yuuum', 'meaningful', 'laterz', 'fries', 'lights', 'nice', 'horses', 'try', 'ruin', 'hardly', 'growing', 'kiss', 'gary', 'blackberries', 'promo', 'grand', 'missed', 'difficult', 'goods', 'viral', 'gratitude', 'sister', 'pink', 'africa', 'lolllim', 'spelt', 'mmmmmmmmmmmm', 'joy', 'hits', 'emma', 'bloggingits', 'doesi', 'arent', 'sup', 'fast', 'dayyyy', 'chica', 'cuute', 'chweet', 'questions', 'model', 'car', 'paved', 'talkin', 'slouchy', 'reports', 'srsly', 'cupcakes', 'breakomg', 'probably', 'hughes', 'rubbing', 'anythig', 'leigh', 'wait', 'single', 'smoothly', 'chips', 'capture', 'wat', 'meeee', 'theyre', 'she', 'nah', 'should', 'raining', 'stop', 'ye', 'songs', 'mong', 'awwthanks', 'sauce', 'sumone', 'custard', 'pool', 'hawt', 'nap', 'hershes', 'folks', 'daddy', 'english', 'happiness', 'retweet', 'hangover', 'freaaaaaaak', 'alice', 'gott', 'todayi', 'seats', 'sweetietweethug', 'effect', 'good', 'forever', 'sometimes', 'shudve', 'coolest', 'greeeeeeeeeeeat', 'case', 'diane', 'see', 'ff', 'ice', 'tool', 'sullivan', 'famous', 'savvv', 'tweepsland', 'steviej', 'decent', 'hapee', 'doctors', 'telling', 'and', 'yah', 'pancakes', 'joan', 'believes', 'lexus', 'bmovie', 'cheesey', 'cross', 'ha', 'fix', 'architect', 'motherï¿½s', 'piece', 'gutted', 'those', 'albums', 'trying', 'accomplished', 'bonfires', 'today', 'crying', 'than', 'sooooooooooo', 'orgasmic', 'luke', 'al', 'azz', 'hobnobbed', 'headache', 'ladyill', 'kong', 'th', 'poor', 'outside', 'nicely', 'joeman', 'advice', 'twitfam', 'loveliness', 'gaskarth', 'yal', 'awsome', 'show', 'puppies', 'awake', 'work', 'left', 'shatter', 'plans', 'mothrs', 'jumpy', 'yaay', 'sharing', 'early', 'iz', 'new', 'understandable', 'lisa', 'highly', 'replied', 'movies', 'skip', 'driving', 'laavly', 'yummm', 'dumb', 'fantabulous', 'yourself', 'develop', 'status', 'matte', 'pride', 'underwood', 'inspirational', 'amber', 'germany', 'dublin', 'looking', 'didnt', 'enjoy', 'hat', 'yahh', 'code', 'sneers', 'ones', 'improving', 'miley', 'cook', 'swedish', 'laughs', 'grrrrri', 'strings', 'point', 'amaaazing', 'beckett', 'pantsnobody', 'million', 'youll', 'lemonade', 'glitch', 'congratulations', 'daughter', 'welcome', 'de', 'familiar', 'heater', 'brightly', 'momies', 'park', 'school', 'gtgs', 'kids', 'tuition', 'bret', 'sweety', 'crikey', 'hang', 'choice', 'said', 'huh', 'distraction', 'ap', 'hva', 'takes', 'laughed', 'call', 'tummy', 'smart', 'excitement', 'loved', 'alllll', 'everything', 'havent', 'bkk', 'techno', 'occasionally', 'sat', 'teased', 'journalism', 'smells', 'comforting', 'possible', 'bak', 'rocked', 'm', 'pack', 'uni', 'doubly', 'cocktails', 'teensthanks', 'twitting', 'thnks', 'come', 'spectacular', 'mc', 'strip', 'cancelled', 'radio', 'being', 'soldiers', 'bother', 'homemade', 'part', 'space', 'quotes', 'away', 'blogtv', 'stroll', 'trees', 'tentside', 'stronger', 'secure', 'lynne', 'wee', 'doll', 'greeeeeat', 'sis', 'theyve', 'personified', 'becoming', 'buy', 'cities', 'above', 'sushi', 'photo', 'wants', 'snack', 'dayy', 'attitude', 'chick', 'hes', 'heheee', 'job', 'marie', 'bhaaji', 'parallel', 'york', 'likable', 'fella', 'bull', 'marathon', 'honour', 'loooove', 'cause', 'flavors', 'witty', 'anna', 'readyyy', 'crossed', 'bown', 'lovin', 'lately', 'lifesaver', 'omgggg', 'lyk', 'autumn', 'passed', 'been', 'hopeful', 'elleay', 'glorious', 'learn', 'hours', 'chan', 'lasts', 'resting', 'cannot', 'keyboard', 'connectionguess', 'town', 'unexpected', 'shoooow', 'enjoying', 'dealz', 'names', 'points', 'forward', 'mornin', 'someday', 'animated', 'bask', 'rays', 'stressed', 'nothin', 'wisely', 'inherent', 'fullpage', 'eventful', 'boys', 'giants', 'guilty', 'actress', 'pass', 'itus', 'sure', 'funty', 'xxxxxxloser', 'system', 'a', 'ace', 'process', 'yard', 'which', 'wohoo', 'television', 'can', 'starting', 'limo', 'thanksi', 'peolple', 'cozy', 'hughesy', 'yyyyyyyyyoooooooooouuuuu', 'einstein', 'knowing', 'pickles', 'fears', 'either', 'ton', 'senior', 'liked', 'after', 'prefer', 'goooooooooooood', 'danger', 'honey', 'lego', 'jess', 'nite', 'fancy', 'yaaaaaay', 'morrrrrrrrning', 'kickin', 'burbank', 'screen', 'feeding', 'beaches', 'greaaaaat', 'annoying', 'phones', 'faces', 'charming', 'listen', 'brand', 'celebrated', 'pleasantly', 'alenka', 'pattern', 'named', 'write', 'months', 'red', 'lol', 'amazinq', 'uve', 'uk', 'focused', 'tones', 'feeling', 'inspiration', 'teaching', 'doo', 'edited', 'whew', 'cut', 'laundry', 'card', 'wind', 'whooaaa', 'back', 'ur', 'g', 'brudder', 'seriously', 'approve', 'patient', 'sorted', 'bothered', 'stuck', 'cutie', 'doughnuts', 'foreverrr', 'china', 'rofl', 'beach', 'dnt', 'dance', 'eternally', 'nom', 'quote', 'awhile', 'from', 'felted', 'justice', 'pie', 'endorsement', 'interessanter', 'took', 'admitting', 'talkers', 'lazing', 'jus', 'janis', 'favor', 'bf', 'fabulous', 'appropriate', 'iced', 'whit', 'weather', 'hamptons', 'twenty', 'end', 'youve', 'pills', 'sober', 'cheerios', 'editing', 'learning', 'technical', 'arranged', 'appreciated', 'cheer', 'gooooooooood', 'agree', 'cleaner', 'funn', 'colossal', 'sweetdreams', 'anita', 'gson', 'cleaning', 'shooeessss', 'kadi', 'loves', 'cavs', 'fantastic', 'dirty', 'hopefuly', 'distractions', 'pick', 'subway', 'ending', 'waste', 'thankful', 'quick', 'standard', 'matters', 'tigers', 'gooood', 'prizes', 'jewelry', 'ease', 'cherished', 'wordslooks', 'dentists', 'praying', 'ahahahahahahahaha', 'loser', 'gardenhope', 'cutee', 'faires', 'classics', 'ondemand', 'seem', 'monumental', 'yourock', 'lunching', 'shannon', 'fanclub', 'watched', 'baby', 'positive', 'scout', 'pissed', 'rummage', 'hansons', 'rubiks', 'getting', 'eye', 'presentation', 'bears', 'payne', 'connection', 'magnificent', 'sass', 'other', 'hr', 'level', 'hoo', 'safely', 'sleepy', 'happens', 'wookieman', 'ladie', 'luvly', 'room', 'thisll', 'twitmama', 'awesome', 'patience', 'down', 'everyond', 'succesful', 'ryan', 'seattle', 'comments', 'alexander', 'sensibility', 'because', 'fellow', 'excuse', 'trillin', 'condolences', 'berry', 'gambit', 'macdonalds', 'golf', 'mondays', 'soooo', 'payday', 'ago', 'lamps', 'upcoming', 'hahahha', 'freddie', 'sumtime', 'overcast', 'amazingwell', 'highlight', 'network', 'creative', 'yey', 'woooooo', 'awwww', 'girlie', 'quiet', 'loss', 'going', 'wed', 'mitch', 'haha', 'info', 'fool', 'sweeet', 'bang', 'matter', 'yesterday', 'mami', 'happymothersday', 'r', 'daughtrys', 'unbelievable', 'yaa', 'timberlake', 'for', 'congradts', 'goodnights', 'take', 'cooler', 'slice', 'daya', 'bring', 'dandy', 'awesomeeeee', 'art', 'ooohhh', 'mooorrreeee', 'dat', 'tooooooo', 'us', 'join', 'strongly', 'terri', 'cinematography', 'pay', 'perfection', 'romeo', 'sum', 'gotten', 'springfield', 'picnic', 'downloaded', 'ironclad', 'weeks', 'love', 'sick', 'respect', 'tls', 'remembering', 'yea', 'id', 'graduate', 'scenie', 'across', 'hulu', 'bookmarked', 'soup', 'great', 'awesomeupdater', 'ï¿', 'martin', 'recommend', 'amazzzing', 'medicine', 'latest', 'bouquets', 'engagementbridal', 'twilight', 'blown', 'class', 'realistic', 'how', 'sweep', 'starship', 'utterly', 'start', 'date', 'wkend', 'whole', 'enthusiastic', 'afterall', 'ahmazing', 'ilove', 'babe', 'plce', 'cos', 'mr', 'yahoo', 'cat', 'alison', 'earth', 'uncle', 'greek', 'successful', 'sgb', 'having', 'pit', 'sings', 'yaaaaaaay', 'luh', 'amazingly', 'travelling', 'wave', 'twitterrr', 'handsome', 'twits', 'toy', 'neat', 'comfy', 'tyvm', 'ladiez', 'lov', 'promenade', 'xuxu', 'cooked', 'comment', 'heheh', 'suggest', 'even', 'spcn', 'claire', 'discover', 'you', 'moring', 'your', 'correct', 'send', 'uh', 'hardcore', 'gnite', 'bwahaha', 'dude', 'theres', 'ohh', 'thingy', 'roar', 'arrangement', 'tonighti', 'envy', 'eve', 'higher', 'recos', 'planting', 'croissant', 'statements', 'happen', 'neemah', 'ma', 'rescue', 'friends', 'pointing', 'nun', 'helpful', 'entrepreneurs', 'figured', 'wives', 'volumes', 'anymore', 'environment', 'hahahahahahahaa', 'trend', 'convo', 'service', 'gosh', 'native', 'whack', 'relaxin', 'praising', 'librefm', 'singer', 'rise', 'commence', 'pure', 'vegetable', 'mom', 'death', 'planned', 'workdetails', 'delcious', 'places', 'priced', 'delight', 'kidding', 'booked', 'ordered', 'bc', 'profile', 'niceeeee', 'iloveyou', 'same', 'blessed', 'rested', 'milk', 'mommies', 'studies', 'reality', 'xoxox', 'isawesome', 'duber', 'men', 'handbags', 'went', 'mount', 'ladys', 'witchu', 'soon', 'jackets', 'homeless', 'amazin', 'adults', 'not', 'news', 'group', 'money', 'peaceful', 'cutest', 'birthday', 'expert', 'joe', 'dc', 'sony', 'amazing', 'facebook', 'wayy', 'glass', 'scared', 'became', 'lovely', 'gives', 'afternoon', 'sense', 'question', 'balancing', 'showing', 'pre', 'lady', 'already', 'ladyfriend', 'vibes', 'hut', 'pomchi', 'interested', 'ohhhhh', 'canada', 'lily', 'classy', 'tha', 'mark', 'dress', 'geek', 'efteling', 'ok', 'computer', 'oowweee', 'gluten', 'alone', 'singing', 'reviewing', 'goodhappy', 'hahahahahahahahahahahaha', 'confit', 'thanxxx', 'wearing', 'version', 'stayathome', 'parents', 'settling', 'seuss', 'thoughh', 'boston', 'sort', 'translated', 'manage', 'normally', 'plays', 'treat', 'dr', 'sisters', 'cigarette', 'sparkling', 'bagel', 'needles', 'research', 'cd', 'coolio', 'ticket', 'lunch', 'msning', 'footage', 'denny', 'njoying', 'sleepin', 'incredibly', 'pray', 'evie', 'funnyy', 'myself', 'lotion', 'told', 'ilycecily', 'yummmmmyyyy', 'juss', 'sorors', 'trip', 'awwwh', 'exctied', 'laterhopefully', 'me', 'shouldnt', 'agh', 'yo', 'used', 'lovies', 'drinking', 'patricias', 'innocence', 'yayi', 'kills', 'okay', 'else', 'guess', 'little', 'sta', 'fusion', 'imagine', 'situational', 'interviews', 'awesomest', 'wars', 'puppy', 'sufficient', 'omfg', 'lifelovestress', 'international', 'chilliin', 'bride', 'hotness', 'thanku', 'bettering', 'hopefully', 'wierd', 'hall', 'spirits', 'yayyy', 'realize', 'thinker', 'definately', 'rescuers', 'youplease', 'samantha', 'celebrity', 'drems', 'greeeeen', 'perhaps', 'perform', 'partied', 'blushing', 'goooosh', 'lavender', 'saturday', 'careful', 'worried', 'follow', 'meadowbank', 'hug', 'girly', 'nine', 'delish', 'adoring', 'loveeeeeeee', 'greet', 'taking', 'elementary', 'bball', 'graduation', 'suggesting', 'minds', 'soothes', 'wanna', 'clair', 'languishing', 'gettin', 'rite', 'six', 'eagles', 'hoping', 'hi', 'jaoo', 'polar', 'give', 'loooooooooong', 'race', 'ballerina', 'willing', 'youre', 'number', 'amazning', 'hehehe', 'nicer', 'blank', 'darling', 'tonights', 'paranthas', 'swords', 'toys', 'renouncing', 'real', 'freaking', 'twitterbugsnothing', 'have', 'holly', 'sometime', 'fastest', 'outstanding', 'youtube', 'reeheally', 'wakeup', 'ceramic', 'adding', 'thru', 'could', 'tonsils', 'party', 'juz', 'urs', 'super', 'whuahahhaha', 'strong', 'passion', 'heavenly', 'making', 'thing', 'regret', 'maryland', 'tooz', 'tuner', 'squeeze', 'but', 'michelle', 'hell', 'blast', 'gameresearching', 'score', 'spin', 'twitter', 'bea', 'also', 'donuts', 'listening', 'watch', 'tear', 'lauren', 'convenient', 'manim', 'effective', 'sincerely', 'roots', 'tongue', 'moon', 'message', 'pranks', 'pampering', 'whenever', 'surviving', 'enjoys', 'say', 'badluck', 'audio', 'movie', 'hadve', 'diet', 'tis', 'iloveyopu', 'ul', 'goal', 'gets', 'until', 'character', 'hairdo', 'thought', 'exspecially', 'cookie', 'rents', 'stealth', 'modeling', 'check', 'sixth', 'morris', 'awesomeeeeee', 'website', 'fatigue', 'gonethank', 'top', 'created', 'obsessed', 'amazed', 'or', 'jï¿½', 'calm', 'hysterical', 'them', 'spiced', 'goes', 'field', 'champions', 'toolbar', 'whispering', 'snuggled', 'reading', 'britney', 'youu', 'backpack', 'gurrrrrl', 'pai', 'riveting', 'confusion', 'opaqueness', 'moms', 'moment', 'teacher', 'friendster', 'bigger', 'nikkie', 'conference', 'wanthavent', 'cmon', 'totally', 'style', 'bike', 'windows', 'secret', 'they', 'chat', 'bonjour', 'results', 'boost', 'conversation', 'experience', 'reminders', 'unsettled', 'actor', 'bahah', 'sway', 'putting', 'followfriday', 'thnx', 'waikiki', 'britains', 'motherssss', 'hahahaha', 'enjoywish', 'lil', 'happily', 'youuuuu', 'favs', 'rockin', 'charlie', 'study', 'cwpm', 'shinningat', 'balls', 'quotess', 'easy', 'time', 'ahd', 'lovey', 'running', 'tips', 'sesh', 'snl', 'skills', 'da', 'fiasco', 'onion', 'loveeeee', 'concern', 'lebron', 'speak', 'exact', 'neck', 'keep', 'fold', 'spent', 'where', 'looks', 'muaxxx', 'encourage', 'heart', 'skillz', 'bestfriend', 'hill', 'om', 'belong', 'prayers', 'black', 'luck', 'peppermint', 'shes', 'comforts', 'mornining', 'shot', 'hilarious', 'leaving', 'break', 'bffs', 'productive', 'musical', 'sounds', 'jellybeaniesss', 'amigo', 'thors', 'bankholiday', 'hurts', 'rocks', 'pull', 'greaattt', 'favourite', 'murphys', 'ta', 'tweeters', 'brownie', 'fruits', 'yesssss', 'warm', 'amused', 'coffee', 'thankss', 'leave', 'mcflys', 'salute', 'luv', 'britians', 'loll', 'longgggg', 'sunfay', 'credit', 'hotttie', 'google', 'funniest', 'mitchel', 'goodies', 'pleasure', 'formidable', 'mummyyyyyyyy', 'animals', 'blogging', 'greatt', 'flight', 'suprised', 'twi', 'reception', 'luckily', 'kudos', 'motivated', 'restful', 'boyfriend', 'proud', 'economic', 'briliant', 'plan', 'ï¿½you', 'thar', 'chin', 'beatiful', 'parties', 'yep', 'pic', 'easily', 'whohoo', 'fanmail', 'haahaaa', 'lemon', 'funnn', 'peanut', 'flick', 'winners', 'clutches', 'note', 'just', 'workout', 'aint', 'wrapped', 'mind', 'exceeded', 'proudly', 'yayy', 'cassie', 'when', 'whoohoo', 'strawberries', 'anyway', 'member', 'realized', 'majors', 'made', 'graceful', 'eeeeeeeeeee', 'alrightokay', 'crazier', 'ilovemymommy', 'cheap', 'recognized', 'mcr', 'entertained', 'argue', 'amma', 'intrigued', 'rolls', 'cookies', 'flattened', 'sons', 'relaxation', 'woulda', 'smile', 'carolina', 'spider', 'result', 'kean', 'birmingham', 'whine', 'mamas', 'tune', 'inxs', 'waz', 'un', 'honest', 'popular', 'awesomei', 'congratuations', 'drove', 'forget', 'olive', 'warmly', 'quiz', 'hong', 'selection', 'shell', 'lead', 'enjoyed', 'students', 'besties', 'unplugging', 'clearing', 'wear', 'tea', 'anniversary', 'trumps', 'wrong', 'gothats', 'talk', 'heartedly', 'care', 'storming', 'twitters', 'jean', 'hope', 'mrs', 'animation', 'allowed', 'proving', 'amusing', 'prices', 'heavens', 'hills', 'won', 'aweesome', 'celebrating', 'soooooo', 'actually', 'dels', 'travel', 'momsen', 'sweetest', 'drizzle', 'sweetheart', 'generates', 'gd', 'funny', 'ahhh', 'student', 'beginsyeahhhhhyaaaaaa', 'goooooooooooooooooooooooood', 'site', 'ima', 'enlightened', 'cooool', 'recently', 'inspire', 'thoughhe', 'grandma', 'foot', 'duper', 'letting', 'background', 'hunny', 'josie', 'title', 'suit', 'wedding', 'anyways', 'jump', 'awesomeness', 'half', 'begining', 'woop', 'blowin', 'ever', 'played', 'monte', 'migraine', 'shoes', 'rove', 'aww', 'slippers', 'gob', 'mindblowing', 'decision', 'gmorning', 'reasonable', 'hopes', 'gudluck', 'cousin', 'monster', 'mac', 'ya', 'worked', 'fx', 'talent', 'jt', 'def', 'whered', 'kindred', 'seems', 'twitterverse', 'bev', 'aiming', 'goooooood', 'fff', 'ahead', 'of', 'medley', 'sheffield', 'defo', 'dreading', 'climb', 'writing', 'bestttt', 'swift', 'refreshed', 'rosie', 'is', 'problem', 'favorit', 'budgetboo', 'dreambears', 'cooolooorss', 'crown', 'wish', 'pounds', 'nanna', 'stuff', 'chair', 'inside', 'tease', 'lurveeeeee', 'faster', 'controls', 'favorites', 'dunkin', 'cuteset', 'ended', 'yt', 'cristo', 'roc', 'felt', 'omg', 'please', 'earlier', 'psst', 'jk', 'damon', 'peace', 'hardi', 'loooooong', 'worry', 'quite', 'muses', 'their', 'xd', 'thoughtfulu', 'ball', 'az', 'children', 'ahhhhh', 'success', 'bttr', 'grateful', 'project', 'mayer', 'email', 'dressing', 'cant', 'holiday', 'course', 'specials', 'prosper', 'tiff', 'scrabbled', 'fake', 'wins', 'man', 'rained', 'finally', 'luch', 'greaaat', 'wine', 'happened', 'lllooovvveee', 'others', 'graders', 'yummmm', 'nyappy', 'tough', 'c', 'look', 'intent', 'popularity', 'very', 'hun', 'knew', 'partner', 'celebrities', 'flowers', 'angela', 'deserves', 'wonderfull', 'bargain', 'one', 'serendipity', 'host', 'stayed', 'prison', 'bit', 'idea', 'lying', 'lakers', 'cell', 'memorize', 'role', 'finished', 'barets', 'hott', 'toronto', 'freedom', 'earned', 'rest', 'safe', 'excited', 'yessir', 'rock', 'head', 'everyones', 'iiii', 'goin', 'thas', 'ahaha', 'smiling', 'willdo', 'excite', 'dreams', 'team', 'harmless', 'goodgirl', 'surprise', 'brings', 'surprised', 'airconditioner', 'night', 'owls', 'who', 'son', 'discrimination', 'especially', 'advance', 'laughter', 'dream', 'figure', 'favorite', 'laid', 'wanted', 'evangelizing', 'bud', 'aha', 'poet', 'giving', 'msg', 'fall', 'voting', 'stereos', 'toss', 'owe', 'charmingly', 'mornig', 'valiantly', 'crane', 'june', 'nope', 'aracheologists', 'wink', 'goodbye', 'more', 'really', 'lost', 'relaxing', 'importantly', 'shw', 'smoothness', 'anywhere', 'fan', 'favourites', 'bs', 'entertainment', 'wuz', 'basket', 'korea', 'embracing', 'dad', 'talking', 'liein', 'easier', 'mummy', 'thankyou', 'whoa', 'woman', 'here', 'ahhhh', 'amaaaazing', 'attack', 'woowoo', 'had', 'sissy', 'stick', 'this', 'forgiving', 'ahahah', 'active', 'thanking', 'aswell', 'sits', 'thanxs', 'knows', 'mothers', 'fantastical', 'till', 'sight', 'bunyum', 'lmaoha', 'refreshing', 'thx', 'resturant', 'engineer', 'careys', 'mad', 'mickey', 'land', 'daaay', 'aaahaha', 'smell', 'alcohol', 'vids', 'done', 'loooooove', 'hopin', 'alex', 'pace', 'pleeeease', 'rep', 'attics', 'lord', 'too', 'story', 'awesomee', 'hero', 'mvp', 'country', 'shade', 'sharon', 'bank', 'lmao', 'appreciate', 'illuminated', 'torchwood', 'loveeeeeeeeeeeeeeeeeeeeee', 'awwwww', 'fuunn', 'funnier', 'tarblack', 'acts', 'episode', 'revel', 'cali', 'prob', 'ty', 'awesomeily', 'dutch', 'heey', 'stoked', 'lover', 'buddies', 'dedicated', 'eyes', 'beautiful', 'hahaa', 'if', 'reply', 'drew', 'thursday', 'woohoo', 'te', 'link', 'toke', 'olympic', 'zealand', 'sooo', 'guests', 'admire', 'battery', 'grabbing', 'loveu', 'producers', 'sl', 'followers', 'joanna', 'busy', 'arrived', 'postin', 'interracial', 'thank', 'la', 'roast', 'tip', 'desktop', 'wtf', 'young', 'pumps', 'curve', 'ily', 'truth', 'gloomy', 'massive', 'enough', 'fij', 'remember', 'jonas', 'excellent', 'marvelous', 'hopw', 'itgood', 'bringing', 'curious', 'double', 'yup', 'b', 'nvr', 'stuffs', 'prego', 'considerably', 'goooooodmorning', 'put', 'viable', 'yes', 'rocking', 'adriana', 'beautifuul', 'myfriends', 'tataindicom', 'bed', 'need', 'comedian', 'support', 'varsity', 'most', 'sentimental', 'emotional', 'lazy', 'photos', 'hard', 'hilariously', 'sb', 'fav', 'wonderfully', 'mayb', 'thorw', 'overrr', 'hapy', 'forseeable', 'subject', 'papa', 'college', 'makin', 'morrrning', 'sales', 'pulls', 'godamn', 'damjust', 'delightful', 'influence', 'bisquick', 'emails', 'commercially', 'shuffle', 'often', 'now', 'enthused', 'bought', 'iï¿½m', 'amazingg', 'shared', 'workshop', 'soo', 'hoilday', 'friendly', 'greastest', 'neither', 'an', 'way', 'warning', 'life', 'street', 'nothing', 'freed', 'holyyyyyyy', 'endearing', 'okayy', 'entire', 'keepin', 'yous', 'accepted', 'opening', 'altered', 'bobbi', 'description', 'birthdayyyy', 'exhilerating', 'cravings', 'loveees', 'breath', 'waaay', 'sadness', 'dru', 'pattinson', 'somewhat', 'giggles', 'overwheolming', 'using', 'staying', 'recovery', 'muchdeserved', 'chill', 'toooo', 'friday', 'pal', 'ali', 'showfinally', 'yet', 'schoolbooks', 'fact', 'barnes', 'bye', 'challenge', 'form', 'berryd', 'mmmm', 'everywhere', 'buzz', 'mean', 'clever', 'sunlight', 'brad', 'ahhhhhh', 'degree', 'aaaahh', 'moral', 'offensive', 'adore', 'beer', 'usually', 'rate', 'frapp', 'mommy', 'andy', 'audience', 'yayay', 'later', 'lazying', 'earlierrr', 'ashleigh', 'fine', 'pillow', 'pleeeeeeeassseeeeeee', 'yesss', 'still', 'culture', 'book', 'realx', 'acing', 'lautner', 'lovve', 'compliments', 'rc', 'dis', 'riot', 'combo', 'im', 'king', 'confirmation', 'agreed', 'roadtrip', 'doubt', 'entertaining', 'suggestions', 'wealthy', 'someone', 'honeysee', 'loving', 'ski', 'opposed', 'ikea', 'decorated', 'music', 'looked', 'benson', 'finale', 'bubble', 'something', 'cry', 'believed', 'wknd', 'feedback', 'butteryum', 'aw', 'resist', 'mall', 'sundays', 'journey', 'device', 'traveling', 'jack', 'vita', 'wholeheartedly', 'surprisingly', 'know', 'em', 'funnnn', 'amazecore', 'glad', 'cancel', 'intense', 'whom', 'sweet', 'ideas', 'thankies', 'salad', 'any', 'thanx', 'weekends', 'darkest', 'quality', 'st', 'impressed', 'motherdaughters', 'yuppie', 'tweeps', 'expected', 'othaa', 'suggestion', 'greeting', 'commentary', 'script', 'everybody', 'david', 'rejoice', 'yoooouuu', 'band', 'gave', 'screwed', 'incestuous', 'snob', 'awesomely', 'heaps', 'tweet', 'meal', 'maroon', 'needs', 'served', 'angle', 'dvd', 'energized', 'fell', 'honestly', 'cathylofran', 'yeahhhhh', 'lure', 'topic', 'daywow', 'itself', 'without', 'injury', 'conquered', 'piggls', 'looooved', 'bottles', 'distracted', 'earn', 'justin', 'hw', 'teens', 'visited', 'todayso', 'slow', 'hve', 'hunting', 'er', 'understand', 'audition', 'wereld', 'including', 'youth', 'longer', 'alright', 'problems', 'raven', 'epic', 'exactly', 'carefree', 'doesnt', 'downturn', 'parts', 'stinkin', 'gotta', 'cue', 'quickly', 'crack', 'nuts', 'wantholla', 'despite', 'might', 'turned']\n",
            "Number of Labels:  3852\n",
            "Longest sentence: 32 words\n"
          ],
          "name": "stdout"
        }
      ]
    },
    {
      "cell_type": "code",
      "metadata": {
        "colab": {
          "base_uri": "https://localhost:8080/",
          "height": 360
        },
        "id": "csjm-1Nt8FiF",
        "outputId": "12a2993a-393c-4b19-9697-851d0155a8c4"
      },
      "source": [
        "WV_URL = 'https://dl.fbaipublicfiles.com/fasttext/vectors-crawl/cc.en.300.vec.gz'\r\n",
        "model = text.sequence_tagger('bilstm-crf', preproc, wv_path_or_url=WV_URL)"
      ],
      "execution_count": 80,
      "outputs": [
        {
          "output_type": "stream",
          "text": [
            "\n",
            "IMPORTANT NOTE: ktrain uses the CRF module from keras_contrib, which is not yet\n",
            "fully compatible with TensorFlow 2. You can still use the BiLSTM-CRF model\n",
            "in ktrain for sequence tagging with TensorFlow 2, but you must add the\n",
            "following to the top of your script or notebook BEFORE you import ktrain:\n",
            "\n",
            "import os\n",
            "os.environ['DISABLE_V2_BEHAVIOR'] = '1'\n",
            "\n",
            "For this run, a vanilla BiLSTM model (with no CRF layer) will be used.\n",
            "\n",
            "embedding schemes employed:\n",
            "\tword embeddings initialized with fasttext word vectors (cc.en.300.vec.gz)\n",
            "\n",
            "pretrained word embeddings will be loaded from:\n",
            "\thttps://dl.fbaipublicfiles.com/fasttext/vectors-crawl/cc.en.300.vec.gz\n",
            "loading pretrained word vectors...this may take a few moments...\n"
          ],
          "name": "stdout"
        },
        {
          "output_type": "stream",
          "text": [
            "/usr/local/lib/python3.6/dist-packages/ktrain/text/ner/models.py:108: UserWarning: Falling back to BiLSTM (no CRF) because DISABLE_V2_BEHAVIOR=False\n",
            "  warnings.warn('Falling back to BiLSTM (no CRF) because DISABLE_V2_BEHAVIOR=False')\n"
          ],
          "name": "stderr"
        },
        {
          "output_type": "display_data",
          "data": {
            "text/html": [
              ""
            ],
            "text/plain": [
              "<IPython.core.display.HTML object>"
            ]
          },
          "metadata": {
            "tags": []
          }
        }
      ]
    },
    {
      "cell_type": "code",
      "metadata": {
        "id": "KpiQMuJx91DK"
      },
      "source": [
        "learner = ktrain.get_learner(model, train_data=trn, val_data=val, batch_size=10)"
      ],
      "execution_count": 81,
      "outputs": []
    },
    {
      "cell_type": "code",
      "metadata": {
        "colab": {
          "base_uri": "https://localhost:8080/"
        },
        "id": "BonvQAvcAhH8",
        "outputId": "3209e997-6f0a-477c-9bce-b78d56ab6dff"
      },
      "source": [
        "learner.lr_find(max_epochs=5)"
      ],
      "execution_count": 82,
      "outputs": [
        {
          "output_type": "stream",
          "text": [
            "simulating training for different learning rates... this may take a few moments...\n",
            "preparing training data ...done.\n",
            "Epoch 1/5\n",
            "772/772 [==============================] - 37s 48ms/step - loss: 4.4883\n",
            "Epoch 2/5\n",
            "772/772 [==============================] - 37s 47ms/step - loss: 3.1871\n",
            "Epoch 3/5\n",
            "772/772 [==============================] - 36s 47ms/step - loss: 1.2759\n",
            "Epoch 4/5\n",
            "772/772 [==============================] - 36s 47ms/step - loss: 1.5504\n",
            "Epoch 5/5\n",
            "772/772 [==============================] - 35s 46ms/step - loss: 2.8832\n",
            "\n",
            "\n",
            "done.\n",
            "Please invoke the Learner.lr_plot() method to visually inspect the loss plot to help identify the maximal learning rate associated with falling loss.\n"
          ],
          "name": "stdout"
        }
      ]
    },
    {
      "cell_type": "code",
      "metadata": {
        "colab": {
          "base_uri": "https://localhost:8080/",
          "height": 283
        },
        "id": "zn4hiwr7AiEF",
        "outputId": "f7b36add-67ad-4610-ce96-b71bf5eee9b9"
      },
      "source": [
        "learner.lr_plot()"
      ],
      "execution_count": 83,
      "outputs": [
        {
          "output_type": "display_data",
          "data": {
            "image/png": "[encoded data removed]",
            "text/plain": [
              "<Figure size 432x288 with 1 Axes>"
            ]
          },
          "metadata": {
            "tags": [],
            "needs_background": "light"
          }
        }
      ]
    },
    {
      "cell_type": "code",
      "metadata": {
        "colab": {
          "base_uri": "https://localhost:8080/"
        },
        "id": "8VYmNweSAP-l",
        "outputId": "4394c1fd-3f91-4154-8ec5-90753ef78a38"
      },
      "source": [
        "learner.autofit(1e-2, 5)"
      ],
      "execution_count": 84,
      "outputs": [
        {
          "output_type": "stream",
          "text": [
            "\n",
            "\n",
            "begin training using triangular learning rate policy with max lr of 0.01...\n",
            "preparing validation data ...done.\n",
            "Epoch 1/5\n",
            "773/773 [==============================] - 39s 51ms/step - loss: 1.3379 - val_loss: 0.7545\n",
            "Epoch 2/5\n",
            "773/773 [==============================] - 37s 48ms/step - loss: 0.7740 - val_loss: 0.5421\n",
            "Epoch 3/5\n",
            "773/773 [==============================] - 37s 48ms/step - loss: 0.5823 - val_loss: 0.5076\n",
            "Epoch 4/5\n",
            "773/773 [==============================] - 36s 47ms/step - loss: 0.5023 - val_loss: 0.5191\n",
            "Epoch 5/5\n",
            "773/773 [==============================] - 37s 48ms/step - loss: 0.4486 - val_loss: 0.5370\n"
          ],
          "name": "stdout"
        },
        {
          "output_type": "execute_result",
          "data": {
            "text/plain": [
              "<tensorflow.python.keras.callbacks.History at 0x7f5593375198>"
            ]
          },
          "metadata": {
            "tags": []
          },
          "execution_count": 84
        }
      ]
    },
    {
      "cell_type": "code",
      "metadata": {
        "id": "6qcKIkhPAUAI"
      },
      "source": [
        "pos_predictor = ktrain.get_predictor(learner.model, preproc)"
      ],
      "execution_count": 85,
      "outputs": []
    },
    {
      "cell_type": "code",
      "metadata": {
        "colab": {
          "base_uri": "https://localhost:8080/"
        },
        "id": "YacxG591OIhe",
        "outputId": "78bb19a9-7c12-4344-8249-5a64c5f6489c"
      },
      "source": [
        "pos_predictor.predict(\"I am happy for you\")"
      ],
      "execution_count": 86,
      "outputs": [
        {
          "output_type": "execute_result",
          "data": {
            "text/plain": [
              "[('I', 'i'), ('am', 'am'), ('happy', 'happy'), ('for', 0), ('you', 0)]"
            ]
          },
          "metadata": {
            "tags": []
          },
          "execution_count": 86
        }
      ]
    },
    {
      "cell_type": "code",
      "metadata": {
        "id": "k4sXsMj9FKWC"
      },
      "source": [
        "pos_predictor.save(model_path)"
      ],
      "execution_count": 87,
      "outputs": []
    },
    {
      "cell_type": "code",
      "metadata": {
        "colab": {
          "base_uri": "https://localhost:8080/"
        },
        "id": "McNFDOgxFRZn",
        "outputId": "3d4c321d-d4e2-4c5f-9950-73b8a5401691"
      },
      "source": [
        "sentiment = 'negative'\r\n",
        "\r\n",
        "neg_train_data,neg_test_data = get_training_data(sentiment)\r\n",
        "neg_model_path = get_model_out_path(sentiment)\r\n",
        "print(len(neg_train_data),len(neg_test_data))"
      ],
      "execution_count": 88,
      "outputs": [
        {
          "output_type": "stream",
          "text": [
            "7781 7781\n"
          ],
          "name": "stdout"
        }
      ]
    },
    {
      "cell_type": "code",
      "metadata": {
        "colab": {
          "base_uri": "https://localhost:8080/"
        },
        "id": "nK27-9aRKfmk",
        "outputId": "a738a861-c648-4a76-e24a-e0ff25c5cb56"
      },
      "source": [
        "(neg_trn, neg_val, neg_preproc) = text.entities_from_array(neg_train_data, neg_test_data,\r\n",
        "                        x_test=None, y_test=None,\r\n",
        "                        use_char=False,\r\n",
        "                        val_pct=0.1,\r\n",
        "                        verbose=1)"
      ],
      "execution_count": 89,
      "outputs": [
        {
          "output_type": "stream",
          "text": [
            "training data sample:\n",
            "   SentenceID  Word   Tag\n",
            "0           0  sooo  sooo\n",
            "1           0   sad   sad\n",
            "2           0     i     0\n",
            "3           0  will     0\n",
            "4           0  miss     0\n",
            "Number of sentences:  7780\n",
            "Number of words in the dataset:  11837\n",
            "Tags: [0, 'apart', 'article', 'tanning', 'bgt', 'experiencing', 'absolutley', 'office', 'functional', 'loads', 'blackberry', 'promised', 'argghhh', 'fungus', 'though', 'throooooooooooooo', 'gabbie', 'brittany', 'spoil', 'things', 'andjay', 'bout', 'fate', 'screwing', 'gonna', 'sad', 'wii', 'would', 'unholy', 'smelly', 'baffles', 'chased', 'stone', 'force', 'proven', 'let', 'cab', 'haileys', 'johnathan', 'hole', 'cool', 'supporting', 'stupid', 'droppedcome', 'month', 'sara', 'dust', 'cholesterol', 'messy', 'disappoint', 'cuties', 'travis', 'big', 'asleep', 'owi', 'spamming', 'whaaaaaat', 'lettin', 'denial', 'teeth', 'shakalohana', 'fist', 'loadsa', 'triple', 'complete', 'with', 'dynamic', 'rated', 'clean', 'w', 'inventing', 'theese', 'funeral', 'bits', 'kitties', 'cringe', 'deep', 'badmicrosoft', 'disappointed', 'collapse', 'gruesome', 'whywhywhy', 'poxsyphilis', 'american', 'seeing', 'cutting', 'sowwy', 'as', 'spank', 'boooo', 'lip', 'vienna', 'fucckinggg', 'trouble', 'shower', 'addicted', 'beyonce', 'pro', 'shows', 'lifes', 'boredddd', 'bruise', 'exist', 'overjoyed', 'angry', 'starving', 'politicians', 'sweaty', 'na', 'moneyy', 'kitty', 'sayed', 'did', 'rather', 'tuff', 'faking', 'kateage', 'bday', 'noooootttttttt', 'nefuew', 'playing', 'injustice', 'fish', 'has', 'eva', 'confusing', 'understands', 'munch', 'snapped', 'calcutta', 'quil', 'text', 'rub', 'rats', 'suffer', 'cats', 'win', 'stil', 'ughhhh', 'wake', 'clock', 'roomies', 'dryer', 'ex', 'lack', 'lifeball', 'errors', 'texted', 'needed', 'twiiter', 'mobile', 'coding', 'alreadi', 'dinner', 'stay', 'blew', 'weirdly', 'indeed', 'oceans', 'sunny', 'documentation', 'hello', 'guinea', 'fuckkk', 'tulane', 'fusterated', 'studying', 'monday', 'gig', 'picking', 'tears', 'couldnt', 'homies', 'diners', 'multitaskin', 'unique', 'alreadt', 'calling', 'blistered', 'terrified', 'nofair', 'its', 'keys', 'sun', 'paracetamol', 'kansai', 'viruses', 'standby', 'ahh', 'overtime', 'bruised', 'hurting', 'todayugh', 'ugggh', 'mba', 'ethnic', 'yoooooooooooooooooooou', 'exsausted', 'rant', 'box', 'lake', 'goooo', 'sicker', 'quilt', 'branch', 'barca', 'knackered', 'itchy', 'picture', 'tooth', 'uncomfortable', 'kilkenny', 'sources', 'creeper', 'whyd', 'continually', 'decongestant', 'chose', 'twinge', 'stage', 'ford', 'breast', 'normal', 'ack', 'bills', 'below', 'grades', 'games', 'go', 'are', 'find', 'last', 'detention', 'endofrope', 'held', 'dummy', 'wbu', 'hype', 'saddens', 'crooning', 'face', 'throw', 'jesse', 'foul', 'series', 'days', 'disgusting', 'regarding', 'storms', 'drumset', 'rain', 'upkeep', 'groups', 'wx', 'namerebecca', 'price', 'order', 'fare', 'eww', 'fireeeeee', 'get', 'lucky', 'hilly', 'wavez', 'integrity', 'banging', 'budget', 'hur', 'shizze', 'iusedtobescaredof', 'spanking', 'pinkeye', 'hooooommmeeee', 'hairstylebut', 'again', 'loosing', 'unpleasant', 'thailand', 'barked', 'gods', 'tosser', 'youhhhhhhh', 'loud', 'finds', 'posse', 'ticks', 'callers', 'scroll', 'shud', 'open', 'daaammmnnnnn', 'dirteeh', 'herts', 'major', 'nerves', 'ache', 'attacking', 'hollie', 'tiny', 'exams', 'copilot', 'law', 'hose', 'noooooo', 'maths', 'paid', 'liquid', 'anytime', 'dunno', 'screw', 'nick', 'spell', 'errg', 'day', 'jelz', 'youstinkatrespondingtotexts', 'relocate', 'healthy', 'corpes', 'illness', 'important', 'fuka', 'nooo', 'pics', 'states', 'wit', 'enthusiasm', 'pugsly', 'disproves', 'disapointing', 'confused', 'ppl', 'attacked', 'busted', 'thrilled', 'ooops', 'there', 'whats', 'plenty', 'taken', 'forgive', 'stressd', 'impatient', 'filter', 'joke', 'dowe', 'mirrors', 'delayed', 'nicc', 'packing', 'tiring', 'completely', 'sucks', 'routines', 'luc', 'two', 'sounding', 'addicting', 'kid', 'danan', 'btw', 'tweeting', 'hear', 'irony', 'near', 'pissy', 'finish', 'thoughts', 'paradice', 'bothering', 'hurt', 'county', 'special', 'inerne', 'decisions', 'gained', 'girls', 'huwwts', 'brains', 'yucky', 'shitt', 'spare', 'noise', 'aches', 'ipod', 'itching', 'rear', 'beans', 'loop', 'treats', 'spilled', 'shiit', 'table', 'tiger', 'eater', 'witness', 'stopped', 'kinda', 'planes', 'unless', 'withdrawals', 'slept', 'walktheyre', 'complain', 'slithering', 'falling', 'sack', 'amusing', 'crazy', 'heffas', 'bro', 'disgraced', 'doggymy', 'will', 'hips', 'on', 'broken', 'tie', 'humbug', 'bowlmilk', 'newss', 'sidewalk', 'boot', 'dudes', 'none', 'miffed', 'recover', 'business', 's', 'father', 'agressive', 'metabolism', 'silencedoesnt', 'disney', 'tennessee', 'button', 'situations', 'nokia', 'turn', 'wouldnt', 'businesses', 'giggle', 'thousand', 'huggles', 'idhu', 'unbearable', 'except', 'ughhhhhhhhhhhh', 'local', 'humid', 'wrist', 'rose', 'overcome', 'abiding', 'dillematic', 'sleep', 'brooklyn', 'feet', 'dye', 'giddy', 'rainy', 'tricked', 'yeah', 'officially', 'sads', 'anthony', 'wishin', 'costly', 'scene', 'post', 'moved', 'ratty', 'spaces', 'bores', 'wasnt', 'speaks', 'unlucky', 'hmph', 'sucker', 'issues', 'salary', 'lacey', 'versions', 'fear', 'slowly', 'dpressed', 'boss', 'horribly', 'offiacial', 'liar', 'aaawww', 'flew', 'buggin', 'dissapear', 'grrrrr', 'extra', 'peeps', 'several', 'grrr', 'oh', 'twittersphere', 'y', 'tore', 'fixed', 'forced', 'assfuck', 'met', 'screening', 'reason', 'shoulder', 'able', 'crazyi', 'footprint', 'espresso', 'flights', 'banking', 'cheese', 'kaotic', 'alter', 'gums', 'bk', 'unloved', 'walked', 'acute', 'frown', 'awe', 'realise', 'urgh', 'suicide', 'lame', 'share', 'legal', 'highest', 'white', 'struggling', 'ignore', 'loner', 'hella', 'hiiiiii', 'pretty', 'tankdps', 'plopped', 'heck', 'brooke', 'pointlesss', 'attempt', 'whatta', 'cleanin', 'wasn', 'paint', 'arms', 'coworkers', 'evening', 'closed', 'impression', 'odd', 'yepsjust', 'sweating', 'rollerblading', 'tired', 'killen', 'better', 'animal', 'him', 'summer', 'noooooooooooo', 'confident', 'through', 'awww', 'lower', 'side', 'beginning', 'decided', 'help', 'lonely', 'shite', 'loaders', 'whatever', 'icky', 'sickk', 'smoking', 'poverty', 'scarededededed', 'sheeeep', 'while', 'awfully', 'brain', 'racism', 'pig', 'sleeeeeppyyyyyy', 'boredom', 'wisdom', 'misplaced', 'traffic', 'coast', 'best', 'garbage', 'tiredhad', 'live', 'transatlantic', 'nightsigh', 'mentally', 'empitome', 'name', 'biology', 'be', 'guility', 'true', 'drunk', 'ugghhh', 'tonight', 'impossible', 'am', 'health', 'worst', 'tweets', 'firing', 'distraaaaacting', 'zero', 'dark', 'deserve', 'assholes', 'late', 'hives', 'attempts', 'walk', 'fave', 'twitterchallenged', 'carbon', 'key', 'blocking', 'pain', 'professional', 'shiny', 'skies', 'ep', 'movietoo', 'dying', 'quit', 'um', 'obvious', 'drama', 'bite', 'heap', 'finals', 'mosquito', 'my', 'everyday', 'damage', 'old', 'ignorance', 'remarkably', 'meet', 'wallet', 'minutes', 'unsurprised', 'unit', 'sydney', 'homesick', 'losing', 'shallow', 'whatthefuck', 'wise', 'youoh', 'song', 'into', 'deal', 'woke', 'banned', 'heartbreaks', 'wide', 'vague', 'means', 'whos', 'works', 'detalis', 'fattyyy', 'concert', 'shitttt', 'rip', 'breaker', 'frighten', 'dentist', 'keeping', 'found', 'sweat', 'trash', 'dear', 'chance', 'video', 'rarely', 'entertain', 'stole', 'headaaaaaaaaaaaache', 'babyim', 'quarters', 'worlds', 'meeeaaannn', 'satan', 'asylum', 'worried', 'seemed', 'horror', 'broke', 'suffers', 'fam', 'chocolate', 'wishes', 'wouldve', 'immboredddd', 'bowling', 'far', 'engine', 'push', 'biting', 'shift', 'miss', 'lime', 'overheating', 'album', 'saw', 'abandoned', 'wont', 'invert', 'coming', 'hockey', 'tooi', 'sware', 'appetizing', 'ss', 'badu', 'dates', 'avoid', 'doin', 'treatment', 'straight', 'feds', 'fb', 'dies', 'yoooouuuu', 'cold', 'tshwane', 'tighten', 'mia', 'princess', 'cnt', 'fed', 'hedache', 'tubes', 'spelled', 'move', 'tierd', 'kisses', 'lung', 'scare', 'dorky', 'grossblaaaqhhh', 'duetter', 'somebody', 'destroyed', 'pet', 'online', 'p', 'yearling', 'cried', 'faceagain', 'each', 'turning', 'about', 'wall', 'weathers', 'collection', 'nuthin', 'forgetting', 'brothers', 'gone', 'eating', 'paintballin', 'necklace', 'soonnnnnn', 'unfortunetly', 'mornings', 'door', 'o', 'no', 'waaa', 'flap', 'past', 'meeting', 'pricey', 'breakingg', 'gorgeous', 'yeahshe', 'askin', 'swear', 'coffeeclub', 'challanges', 'prop', 'dont', 'final', 'instant', 'booted', 'virge', 'gym', 'line', 'some', 'ready', 'drives', 'emotionally', 'much', 'address', 'babies', 'anticipating', 'latte', 'voice', 'smack', 'horriblel', 'withdrawal', 'weekend', 'statistic', 'punch', 'boy', 'ical', 'pictures', 'nights', 'airsoft', 'tiiiiiiired', 'chest', 'buzzed', 'competetion', 'daaaaang', 'yay', 'willblok', 'ï¿½net', 'second', 'stomatch', 'make', 'vehicle', 'exciting', 'u', 'retainers', 'invites', 'traumatized', 'aweful', 'bb', 'elusive', 'lampions', 'spend', 'finest', 'usual', 'cheesy', 'parent', 'girlys', 'malicious', 'load', 'seniors', 'havin', 'bitmr', 'weak', 'noisy', 'husbands', 'bare', 'tragidy', 'uncool', 'vacation', 'potty', 'haters', 'underpriveledged', 'debit', 'socked', 'aussie', 'waslooks', 'cheers', 'sweetie', 'beat', 'pooooor', 'foking', 'nashville', 'hcore', 'phone', 'water', 'net', 'tour', 'wacom', 'lonesome', 'blahh', 'festivus', 'query', 'bumped', 'rope', 'yas', 'bath', 'chances', 'forum', 'trekked', 'lookin', 'keyhole', 'smacked', 'hire', 'blinded', 'refuses', 'tv', 'william', 'nightmornin', 'directv', 'yorkshire', 'neglected', 'mouth', 'throat', 'tan', 'page', 'slowest', 'tried', 'neti', 'youuuu', 'disappointing', 'agaaaaaaiiiin', 'freakin', 'bccg', 'holidays', 'supposed', 'suuuks', 'aaarrrgggghhh', 'glade', 'so', 'idk', 'specifically', 'flapataco', 'free', 'our', 'disconnected', 'happend', 'sneezing', 'mary', 'stress', 'sadder', 'choose', 'due', 'nintendogs', 'seen', 'tumor', 'wkds', 'f', 'luckkkk', 'failed', 'experienced', 'lax', 'brummie', 'ate', 'riqht', 'unmuted', 'owwiee', 'words', 'beck', 'delicious', 'crushed', 'repairs', 'likes', 'sleeping', 'worse', 'patrick', 'faults', 'gromit', 'bum', 'seafood', 'bahhhh', 'shifting', 'greenville', 'perfect', 'pilot', 'stolen', 'station', 'match', 'state', 'fire', 'marcus', 'bread', 'under', 'stack', 'pile', 'once', 'opportunity', 'fickleness', 'mums', 'jane', 'magic', 'proper', 'isint', 'identity', 'says', 'julio', 'tape', 'scratched', 'revision', 'front', 'victims', 'brian', 'friend', 'his', 'discriminating', 'polish', 'lint', 'retiring', 'pulling', 'math', 'fun', 'hammymy', 'squirted', 'wstocktwits', 'flat', 'remote', 'exam', 'artistdjs', 'shocking', 'aggressive', 'crossing', 'folkestone', 'society', 'aladdin', 'wishing', 'lucy', 'hip', 'enought', 'eddy', 'lameness', 'greedy', 'nightss', 'worrying', 'died', 'nonsense', 'performance', 'fit', 'dried', 'horrific', 'tomorrow', 'guys', 'hellooooooo', 'baldness', 'insulting', 'disc', 'disorder', 'itd', 'behind', 'butt', 'feeeeeet', 'wharra', 'epicfail', 'serve', 'ill', 'act', 'shake', 'sound', 'gangsterrr', 'ttc', 'goddam', 'small', 'boooooooored', 'irate', 'asia', 'soul', 'daysometimes', 'sensors', 'baking', 'both', 'nose', 'ohhhh', 'isi', 'elsehmm', 'girl', 'headed', 'ped', 'chilly', 'meeeee', 'alot', 'bottom', 'sunshine', 'foad', 'anoher', 'die', 'morning', 'calls', 'truck', 'rabbit', 'cassadee', 'fridayi', 'lives', 'sleeprestless', 'brother', 'godddd', 'bathroom', 'threw', 'thislol', 'zuccini', 'taste', 'ui', 'hiphiphoray', 'boak', 'board', 'her', 'house', 'saddened', 'drink', 'imma', 'buried', 'power', 'theater', 'xams', 'stuvk', 'catch', 'sprawled', 'boooooo', 'stubbed', 'sunburnt', 'butter', 'hmmneed', 'homeseriously', 'then', 'k', 'knee', 'false', 'refuse', 'cinema', 'qualifying', 'pleased', 'belly', 'attention', 'huge', 'unfortunatelly', 'slap', 'lots', 'stressing', 'gains', 'ihate', 'alltired', 'macbook', 'charley', 'accidents', 'brutal', 'downtown', 'nooooothing', 'blurryness', 'usb', 'brunch', 'miserable', 'maybe', 'hon', 'maaaam', 'noes', 'ditch', 'angrily', 'trousers', 'three', 'quashed', 'loose', 'mps', 'working', 'drive', 'wow', 'problematic', 'body', 'yu', 'nightmares', 'received', 'misshimalready', 'run', 'soggy', 'feels', 'thats', 'concentrate', 'raised', 'mine', 'unfollowed', 'survive', 'sly', 'strippers', 'robin', 'legs', 'thermal', 'brrrrrr', 'mama', 'walks', 'hating', 'missing', 'florist', 'soothing', 'ah', 'sinking', 'rly', 'pad', 'vega', 'cow', 'daaaang', 'calculus', 'dummyhead', 'moanwhingemoan', 'nottt', 'hold', 'situation', 'antibiotics', 'nauseas', 'richie', 'chem', 'scoreless', 'sunburned', 'full', 'snow', 'tech', 'record', 'families', 'doing', 'fussy', 'sooooo', 'nerve', 'scratchy', 'beyond', 'explode', 'looooong', 'russian', 'carrie', 'inventor', 'hate', 'junior', 'violence', 'farm', 'honor', 'knowledge', 'imworking', 'pushit', 'may', 'mourning', 'isnt', 'feel', 'responses', 'geeta', 'sfo', 'scratches', 'count', 'upstairs', 'nervous', 'freckles', 'coughing', 'goneso', 'disconnects', 'becomes', 'gerbil', 'sosad', 'dieing', 'suppose', 'ultimate', 'l', 'least', 'craigslist', 'grouchy', 'helping', 'asses', 'jealousy', 'close', 'chomp', 'draft', 'loldon', 'suck', 'sing', 'was', 'fewer', 'thinking', 'neomonia', 'next', 'rush', 'comes', 'year', 'fair', 'hung', 'burned', 'stinks', 'spoilt', 'extremely', 'downhill', 'upsetting', 'orphan', 'shorter', 'rich', 'sending', 'list', 'allllllllll', 'extemely', 'fighting', 'sitting', 'storm', 'indentation', 'drops', 'lineup', 'philly', 'headline', 'wonders', 'frowns', 'totem', 'want', 'bomb', 'fuzzy', 'girlfriend', 'food', 'read', 'brokt', 'sundayyyy', 'everyone', 'havee', 'debugging', 'majorly', 'serial', 'wife', 'sore', 'oatmeal', 'stufppls', 'n', 'graandmas', 'sadd', 'cost', 'hadnt', 'wonder', 'topped', 'married', 'impostor', 'apathetic', 'refusing', 'out', 'mate', 'mixer', 'shouts', 'truss', 'cellnothin', 'painfully', 'jealous', 'mpg', 'fucktards', 'years', 'leftwithout', 'like', 'bouncing', 'lot', 'accompany', 'cycle', 'exausted', 'selfrighteous', 'goodbyeeee', 'html', 'hugh', 'debian', 'hospital', 'smokinggg', 'cover', 'mexican', 'horses', 'shooting', 'garbo', 'kick', 'anyone', 'hateee', 'dang', 'roommate', 'interminable', 'remembered', 'poke', 'mahn', 'spot', 'fevered', 'morrissey', 'row', 'apologies', 'depressing', 'butterfly', 'what', 'session', 'shabby', 'useful', 'directly', 'against', 'noticed', 'microsofti', 'tumblr', 'gagging', 'emailed', 'minibus', 'basement', 'ea', 'display', 'icant', 'roughnight', 'christian', 'lasted', 'omgg', 'handle', 'whod', 'motivation', 'window', 'classes', 'semiflaky', 'outfit', 'clown', 'affected', 'struggles', 'uglier', 'allergy', 'ungrateful', 'bugs', 'toothache', 'duo', 'self', 'el', 'bones', 'kc', 'mother', 'many', 'given', 'suspended', 'ladder', 'must', 'arriving', 'med', 'jumps', 'haox', 'functioning', 'apparently', 'hair', 'pls', 'all', 'keeps', 'uploading', 'jeeeeez', 'ga', 'cranking', 'inbox', 'recording', 'kristen', 'unhealthy', 'stalkerishly', 'dissapointed', 'plug', 'commands', 'ugh', 'pisses', 'incredible', 'mes', 'extranauseous', 'inspired', 'mocha', 'period', 'strawberry', 'basic', 'anerexic', 'california', 'corner', 'vomit', 'boredd', 'shots', 'forsaken', 'holding', 'moving', 'evenings', 'dk', 'use', 'takers', 'ridiculous', 'sickee', 'stairs', 'essays', 'aaaagggessss', 'officedesperately', 'goodbyes', 'rules', 'future', 'jacket', 'borriing', 'unfortunatley', 'erased', 'arg', 'cards', 'oops', 'houston', 'times', 'sent', 'fly', 'cheddar', 'husband', 'low', 'iphone', 'mood', 'clothes', 'arrgghhhggguuuiiissshhhh', 'personally', 'accidentally', 'outdated', 'sites', 'balling', 'x', 'dept', 'reminds', 'december', 'likey', 'checked', 'killin', 'in', 'xoxo', 'tritonlink', 'wus', 'gunna', 'satisfy', 'mum', 'that', 'depresses', 'renew', 'witch', 'nooostaying', 'interview', 'boo', 'absolutely', 'tunnocks', 'sowy', 'blanket', 'dooo', 'heavy', 'wats', 'dog', 'walking', 'bumps', 'dreaded', 'liesboystell', 'knowledgable', 'cryingbecause', 'docs', 'accomplish', 'sees', 'bby', 'realy', 'aaaaaaaaaahhhhhhhh', 'got', 'gas', 'worthless', 'rat', 'horrible', 'aim', 'hallway', 'sanctity', 'meself', 'factor', 'these', 'exhausting', 'mg', 'insane', 'disorders', 'afford', 'ducks', 'twice', 'ahahaha', 'every', 'ages', 'confirmed', 'ignored', 'eat', 'itï¿½s', 'migranes', 'dissapoint', 'came', 'sarcy', 'chemistry', 'raise', 'hit', 'suckss', 'headaches', 'burnt', 'cheek', 'lose', 'booo', 'fried', 'thatburger', 'terrible', 'makes', 'bros', 'cheat', 'tell', 'belated', 'fallin', 'gurl', 'boring', 'arrest', 'harrassment', 'ish', 'breakin', 'fail', 'boreddddd', 'scrap', 'slowing', 'slower', 'deck', 'vista', 'brought', 'sue', 'dare', 'tweetbeaks', 'ms', 'visit', 'scary', 'invited', 'camera', 'fuming', 'rez', 'play', 'week', 'nightshockgot', 'official', 'juggler', 'notebook', 'gaahhhh', 'anything', 'sickness', 'irrelevant', 'charged', 'piercings', 'killboy', 'creativity', 'fml', 'dizzy', 'url', 'mediation', 'distracting', 'helps', 'fully', 'hot', 'laptop', 'tripped', 'treatments', 'gpu', 'cuz', 'killed', 'previous', 'physically', 'pathetic', 'nicks', 'steals', 'admiration', 'cud', 'karaoke', 'relay', 'jered', 'crash', 'arabs', 'recoverable', 'disappearing', 'triste', 'unsure', 'never', 'ride', 'ran', 'fro', 'do', 'film', 'cute', 'sickcancelled', 'stooopid', 'present', 'serious', 'right', 'muchbut', 'overstressed', 'around', 'liking', 'dogs', 'follower', 'sitter', 'bliss', 'houseee', 'learned', 'vegas', 'machine', 'vote', 'dismal', 'nonetheless', 'copies', 'home', 'freezing', 'test', 'geekshopping', 'return', 'failedhaving', 'inflammed', 'malaysian', 'costs', 'outta', 'fornicating', 'gud', 'burnin', 'procrastination', 'bebe', 'route', 'vrbocom', 'hoped', 'plague', 'fourteen', 'sux', 'ends', 'fu', 'crashed', 'shame', 'appreciating', 'during', 'bummer', 'drawing', 'poorer', 'train', 'stumpy', 'diggin', 'midterms', 'punk', 'popsicle', 'effin', 'piss', 'sickkkk', 'screams', 'apple', 'itll', 'ohhh', 'comm', 'hostage', 'biggest', 'broad', 'nowthis', 'blog', 'fk', 'react', 'quarantined', 'gossip', 'weatherboredsooo', 'driver', 'light', 'does', 'strict', 'sommat', 'since', 'it', 'only', 'swollen', 'cubs', 'baaaaaaaaaaackkkkkkkk', 'god', 'sunday', 'ouuhh', 'waiting', 'answer', 'electric', 'asking', 'well', 'laugh', 'women', 'by', 'scent', 'sowwwy', 'literally', 'always', 'internet', 'ive', 'simple', 'donate', 'erase', 're', 'somehow', 'steroids', 'turns', 'derivative', 'swearing', 'nugget', 'grrfatboy', 'shall', 'clutter', 'pokes', 'fits', 'bulky', 'save', 'buisnesses', 'at', 'feelin', 'along', 'ooommmmggggg', 'twittering', 'duhhhhhh', 'miserably', 'shirt', 'he', 'traumatizing', 'middle', 'nerdim', 'london', 'called', 'i', 'watching', 'bone', 'gloom', 'apartment', 'd', 'janessa', 'mourn', 'slave', 'slacking', 'competition', 'desappointed', 'to', 'stomach', 'uncontrolable', 'following', 'delirious', 'finding', 'michael', 'otherwise', 'holy', 'lathargic', 'illegal', 'company', 'meaner', 'sweatshirt', 'sold', 'loses', 'melt', 'channel', 'heartless', 'sign', 'hugs', 'definently', 'waking', 'destroys', 'puts', 'crawl', 'arrival', 'wondering', 'toilets', 'closing', 'defeated', 'overslept', 'qfc', 'weird', 'panicky', 'baddd', 'forgot', 'servers', 'toes', 'blows', 'proof', 'ach', 'overkill', 'sorries', 'noone', 'triumph', 'creased', 'missin', 'nt', 'clearly', 'von', 'spit', 'mixup', 'truly', 'wealth', 'vacant', 'slim', 'boredtried', 'uber', 'disliking', 'firefox', 'stuffed', 'season', 'girlfriends', 'sorry', 'shocked', 'domain', 'fuuuuuuck', 'joys', 'together', 'fuse', 'stories', 'til', 'goddamn', 'fab', 'rule', 'wme', 'leno', 'plane', 'replies', 'mane', 'piano', 'eliminated', 'stuffy', 'decrease', 'lived', 'afraid', 'frickin', 'initial', 'acting', 'fairly', 'chatting', 'mix', 'tmrw', 'dosent', 'saying', 'crisps', 'posting', 'sickening', 'torn', 'knw', 'spreadsheets', 'rotten', 'aidan', 'knife', 'pitching', 'snapping', 'benn', 'plus', 'horrors', 'embarrassed', 'feelings', 'tastes', 'the', 'minute', 'prints', 'clorox', 'hey', 'why', 'sickkkkk', 'grrrr', 'few', 'belive', 'were', 'cavity', 'lancaster', 'disturbed', 'promising', 'madly', 'meteor', 'fishy', 'idiot', 'succeed', 'thread', 'july', 'bullying', 'screamin', 'mysterious', 'scratch', 'pshh', 'suffering', 'shipwrecked', 'respond', 'booboo', 'instead', 'failing', 'tedtalks', 'almost', 'up', 'thighs', 'costco', 'citipointe', 'change', 'happening', 'cable', 'pee', 'alarm', 'tweetdeck', 'off', 'definitely', 'confusions', 'combined', 'heard', 'considering', 'oy', 'deceiving', 'meee', 'frightening', 'unavailable', 'believe', 'brunt', 'jeff', 'girlies', 'blood', 'kind', 'funerals', 'bee', 'silly', 'everythings', 'models', 'over', 'solo', 'another', 'think', 'cider', 'before', 'leavinggggggg', 'tooo', 'hel', 'asprin', 'dammit', 'utter', 'va', 'demad', 'long', 'messages', 'world', 'pole', 'pentecost', 'grimmy', 'game', 'slippy', 'action', 'sadly', 'started', 'hagg', 'breaking', 'sucked', 'french', 'gmail', 'pages', 'phobias', 'cream', 'we', 'copy', 'grounded', 'deprived', 'maany', 'accadentally', 'such', 'sssnoring', 'family', 'remedies', 'short', 'badly', 'hacked', 'meant', 'tainted', 'marked', 'lets', 'lender', 'burden', 'decide', 'penalty', 'nathan', 'tonite', 'unfair', 'colds', 'celebs', 'bet', 'cert', 'anywayz', 'shiiiiiiiiiiiiiiiiiiiiiiiiiiiiiit', 'air', 'hurtful', 'lingering', 'bad', 'whyyyyyy', 'accept', 'rhinitis', 'ahhhhhhhh', 'turnon', 'garden', 'cheaper', 'history', 'place', 'eirtaku', 'bestie', 'naked', 'everr', 'bloody', 'precious', 'depression', 'core', 'fuckingtastic', 'interent', 'flies', 'thanks', 'ouchhhhhh', 'avalina', 'buttfuck', 'ac', 'heated', 'baked', 'ofc', 'depressed', 'access', 'thatï¿½s', 'inconvenience', 'cares', 'smeared', 'cops', 'trailhead', 'multiple', 'tells', 'teddychucking', 'departed', 'people', 'worth', 'travesty', 'empire', 'alley', 'ohyeahhh', 'scheuring', 'pleasant', 'hyper', 'puke', 'arggghhhhhhhhhhh', 'sadifying', 'ask', 'throwing', 'heading', 'decribe', 'wellllllllllllll', 'cousins', 'counting', 'fans', 'person', 'high', 'set', 'mohawk', 'tho', 'bio', 'breakfast', 'books', 'undertanding', 'standing', 'pitcher', 'yall', 'cheated', 'burn', 'guy', 'yyyyuck', 'covered', 'shut', 'paris', 'first', 'porridge', 'mic', 'vp', 'walmart', 'sean', 'mumps', 'blister', 'bless', 'theyll', 'woken', 'yuck', 'frikken', 'sht', 'fries', 'sooooooo', 'nice', 'tearrrrrrrr', 'try', 'pissing', 'nooooooo', 'ruin', 'shiiiiiiiiiiiiiiiiiiiiiiiiiiiiiiiiiiit', 'hardest', 'hardly', 'risking', 'arseholes', 'prize', 'grand', 'missed', 'error', 'difficult', 'dud', 'exit', 'earphones', 'viral', 'sister', 'restaurant', 'pink', 'wash', 'mock', 'idiots', 'lackluster', 'fathom', 'mud', 'hits', 'blind', 'reach', 'arent', 'fast', 'barely', 'urself', 'gryffindor', 'boreedd', 'magical', 'sukked', 'sicken', 'upload', 'deleted', 'unsalvageable', 'car', 'liam', 'talkin', 'todayyyyyy', 'terminator', 'probably', 'inability', 'wait', 'chips', 'drugs', 'ugly', 'unfortunate', 'blimey', 'wat', 'theyre', 'she', 'junk', 'lambs', 'bleed', 'thumbs', 'herniated', 'nah', 'should', 'raining', 'buggered', 'stop', 'ye', 'barks', 'songs', 'sauce', 'njoy', 'tony', 'scarce', 'guilt', 'scaring', 'slammed', 'pisssing', 'sacrilege', 'nap', 'mutual', 'frustrating', 'daddy', 'english', 'negative', 'fkin', 'cici', 'pepsi', 'homework', 'hangover', 'chinese', 'view', 'saddo', 'passport', 'spat', 'personality', 'seats', 'min', 'todayi', 'speaking', 'endure', 'nab', 'filthy', 'effect', 'good', 'forever', 'sometimes', 'fd', 'nsty', 'case', 'noooooooo', 'mondaynot', 'see', 'reckless', 'hosp', 'gf', 'don', 'ice', 'texas', 'update', 'stressin', 'refused', 'account', 'credo', 'dangero', 'building', 'loon', 'worn', 'decent', 'hasnt', 'ttytomorrow', 'fee', 'accidentaly', 'ciber', 'sudden', 'kicked', 'suckkkkkk', 'soooooooo', 'moods', 'and', 'cuddle', 'todays', 'longggg', 'critical', 'cross', 'ha', 'carwarmed', 'fix', 'ughhhhhh', 'strange', 'piece', 'gutted', 'ship', 'those', 'followup', 'degrees', 'apathy', 'selfish', 'trying', 'today', 'crying', 'than', 'gon', 'crappy', 'palo', 'headache', 'poor', 'chris', 'outside', 'bein', 'shudnt', 'show', 'kitchen', 'suuuuck', 'birfdayy', 'charge', 'awake', 'nearest', 'florists', 'hacker', 'labels', 'work', 'mins', 'left', 'stupidly', 'melting', 'productivity', 'watchpoor', 'plans', 'ouuuuuuuuuchhhhhhhh', 'nature', 'early', 'sufferin', 'disbanding', 'picker', 'kev', 'ouchwaited', 'gfail', 'painful', 'laff', 'new', 'stressful', 'sin', 'offf', 'teratoma', 'vermouth', 'lurgy', 'whoops', 'movies', 'bipolar', 'driving', 'wnt', 'disgusted', 'dumb', 'recognize', 'yourself', 'jst', 'onscreen', 'underwood', 'via', 'homes', 'uglyonee', 'trashed', 'wks', 'mention', 'anxiety', 'sims', 'dressed', 'looking', 'didnt', 'cramping', 'enjoy', 'hat', 'code', 'thomas', 'overthought', 'disaster', 'ones', 'cook', 'monkey', 'wild', 'sneezy', 'point', 'laying', 'misbehaved', 'overheat', 'fricken', 'million', 'youll', 'glitch', 'pooch', 'between', 'carol', 'familiar', 'daughter', 'reconnect', 'heater', 'haaaaaaaaate', 'malaria', 'subconscience', 'uttered', 'park', 'mondaygreat', 'school', 'fin', 'personermdifficult', 'clot', 'slutted', 'kids', 'abuse', 'ard', 'choice', 'said', 'layers', 'hang', 'huh', 'wet', 'co', 'chipotle', 'takes', 'destroy', 'reduculous', 'call', 'tummy', 'laughed', 'appreciation', 'everything', 'havent', 'possible', 'sat', 'plebs', 'smells', 'bak', 'm', 'pe', 'pumped', 'prooved', 'uggh', 'per', 'pshdidnt', 'bah', 'limp', 'come', 'tempting', 'suxs', 'cancelled', 'radio', 'inconsiderate', 'capitan', 'pants', 'being', 'bother', 'downuughh', 'rains', 'part', 'space', 'repent', 'away', 'trees', 'tmwr', 'lynne', 'warnings', 'wee', 'snappy', 'doll', 'lovers', 'sis', 'bludge', 'irresponsible', 'hallmark', 'outsider', 'leg', 'becoming', 'buy', 'toilet', 'sanzz', 'hazy', 'stalker', 'wants', 'dayy', 'funky', 'scariest', 'shape', 'lazzzy', 'chick', 'hes', 'job', 'kay', 'parallel', 'pets', 'managed', 'chocked', 'license', 'plzzzzz', 'fcukkki', 'discretion', 'tolerate', 'bummed', 'possibly', 'cause', 'faceless', 'evil', 'edge', 'public', 'ritualistic', 'program', 'track', 'attend', 'youmiss', 'shoot', 'sooner', 'carefully', 'lately', 'wuv', 'victim', 'wasted', 'charter', 'passed', 'been', 'hopeful', 'phew', 'kno', 'hours', 'learn', 'cannot', 'keyboard', 'swine', 'stayin', 'loneliness', 'settle', 'douchebag', 'enjoying', 'islip', 'beginnings', 'touchwas', 'tu', 'forward', 'writin', 'someday', 'complex', 'digusted', 'bat', 'hick', 'unfortunatly', 'gaah', 'alto', 'klutz', 'stressed', 'midnight', 'stand', 'ginger', 'boys', 'patronising', 'guilty', 'witdrawal', 'zemotecom', 'organizing', 'pass', 'msn', 'aching', 'kodumai', 'sure', 'troy', 'tiredd', 'smh', 'system', 'ughhhhhhhh', 'ace', 'a', 'which', 'starting', 'can', 'stanley', 'maxed', 'advil', 'pritchard', 'melted', 'bac', 'ebay', 'alas', 'tasted', 'girrrrrrrrlll', 'either', 'plain', 'clark', 'bridge', 'hearin', 'knowing', 'eaten', 'exhausted', 'liked', 'wrecked', 'after', 'bugger', 'different', 'weeps', 'florida', 'malepattern', 'honey', 'milkskake', 'paying', 'lego', 'nite', 'looming', 'nostalgia', 'trunk', 'screen', 'conan', 'heartburn', 'hour', 'morn', 'losers', 'fishes', 'kickin', 'annoying', 'faces', 'camping', 'housework', 'listen', 'yoooooooou', 'harsh', 'unrelated', 'fabulously', 'curse', 'knees', 'waaaaaaa', 'write', 'months', 'mirror', 'fuckyoumonday', 'red', 'lol', 'unappealing', 'dork', 'yukky', 'cinemas', 'size', 'uk', 'conflicts', 'injured', 'feeling', 'laws', 'followin', 'brazillians', 'intentionally', 'harmful', 'spoiled', 'teaching', 'inspiration', 'boc', 'swineflu', 'edited', 'cut', 'card', 'spilling', 'signal', 'back', 'ur', 'surfin', 'g', 'touch', 'seriously', 'delivered', 'onto', 'diamond', 'mores', 'fraudster', 'rejecting', 'bothered', 'stuck', 'dnt', 'beach', 'dance', 'mem', 'assignment', 'frustraded', 'staples', 'from', 'careless', 'redo', 'took', 'sukks', 'bt', 'ouch', 'bf', 'sir', 'mental', 'iced', 'weather', 'allergies', 'hitting', 'twenty', 'sickkk', 'end', 'farmer', 'pills', 'sober', 'grrrstupid', 'youve', 'jelous', 'probability', 'freshner', 'honeypot', 'judgement', 'citizens', 'grey', 'cheer', 'agree', 'crime', 'library', 'pinned', 'cleaning', 'drews', 'loves', 'dirty', 'pick', 'waste', 'ending', 'criminal', 'fristy', 'quick', 'churchsunday', 'touri', 'melatonin', 'poo', 'conjunctivitis', 'pouring', 'neighbors', 'besides', 'josh', 'immensely', 'costa', 'imacs', 'praying', 'hols', 'disgust', 'pounding', 'loser', 'selling', 'arm', 'imperialist', 'kelliehow', 'seem', 'shannon', 'collapses', 'groundbreaking', 'watched', 'rough', 'baby', 'younger', 'scofiled', 'regrettin', 'messed', 'purchase', 'pissed', 'tourture', 'confsuing', 'coldi', 'getting', 'gm', 'eye', 'presentation', 'lines', 'grrh', 'perfectionist', 'sunburn', 'nonbelievers', 'connection', 'own', 'monoculturalist', 'other', 'tim', 'hr', 'dontlike', 'happens', 'sam', 'holes', 'awkwardly', 'room', 'electronics', 'files', 'awesome', 'pollution', 'slip', 'down', 'rolled', 'changed', 'crackers', 'tvs', 'effing', 'tame', 'comments', 'owners', 'spazz', 'drained', 'ambulance', 'because', 'doomed', 'sigh', 'excuse', 'freaky', 'replys', 'discovery', 'showin', 'blame', 'harley', 'priority', 'tragic', 'cap', 'deadline', 'jp', 'lappy', 'soooo', 'disco', 'term', 'lay', 'ago', 'skint', 'twitpic', 'elora', 'homesssssskooooler', 'ocd', 'confuse', 'highlight', 'screaming', 'tribute', 'server', 'network', 'awwww', 'ay', 'quiet', 'loss', 'dam', 'going', 'dropped', 'wed', 'roof', 'mitch', 'haha', 'fool', 'poooooooor', 'volcano', 'unemployment', 'hurry', 'bang', 'jokes', 'welts', 'yesterday', 'enlargement', 'r', 'misses', 'thumping', 'thngs', 'corrupted', 'detroit', 'hungryi', 'visiting', 'ethan', 'ochh', 'for', 'taxes', 'unemployed', 'take', 'bring', 'comingand', 'hands', 'tooooooo', 'us', 'supporters', 'join', 'stinky', 'pay', 'hairrr', 'migraines', 'sidemyself', 'shifts', 'baadly', 'dread', 'booooored', 'internal', 'weeks', 'love', 'sick', 'respect', 'greg', 'relying', 'mistakes', 'yea', 'soaking', 'id', 'lied', 'island', 'lightning', 'sleepp', 'disappointment', 'cancelling', 'silent', 'soup', 'dentention', 'freaked', 'great', 'haaaate', 'grandas', 'accessno', 'updating', 'surprising', 'downside', 'medicine', 'biz', 'allergic', 'se', 'trackpad', 'twilight', 'feathers', 'class', 'blown', 'imissu', 'exploit', 'how', 'justins', 'utterly', 'start', 'whole', 'date', 'messing', 'design', 'eek', 'dunt', 'cryin', 'bullied', 'cos', 'chai', 'babe', 'mr', 'block', 'starts', 'cat', 'decreasing', 'itsucks', 'frost', 'scarred', 'phobia', 'nooooooooo', 'terribly', 'having', 'murdered', 'average', 'trapped', 'based', 'closes', 'poems', 'togethers', 'becase', 'ulcers', 'suspicion', 'career', 'nail', 'faith', 'feckin', 'baterrry', 'hovering', 'mowgli', 'seriousits', 'overspend', 'paul', 'clogged', 'comment', 'unhappy', 'wayyy', 'overreaction', 'hairs', 'v', 'even', 'bronchitis', 'weekendto', 'jason', 'liers', 'strikes', 'amp', 'you', 'your', 'send', 'weight', 'engagement', 'uh', 'bolts', 'hardcore', 'dude', 'earpiece', 'cyberstalking', 'theres', 'ohh', 'register', 'telling', 'envy', 'happen', 'oreo', 'expensive', 'scrubbing', 'ma', 'nooooooooooo', 'rogue', 'friends', 'keyboards', 'mouse', 'poop', 'bleeds', 'helpful', 'aircon', 'gear', 'fever', 'wives', 'anymore', 'houses', 'accident', 'rude', 'road', 'gosh', 'service', 'toughest', 'panda', 'cooperating', 'bored', 'infection', 'sports', 'death', 'mom', 'places', 'flu', 'peed', 'kidding', 'ordered', 'booked', 'bc', 'wiped', 'grrrrrrr', 'layenn', 'same', 'americans', 'bug', 'awful', 'saddest', 'generation', 'upstate', 'ears', 'dissappointed', 'dislike', 'nasty', 'demos', 'maine', 'sale', 'men', 'went', 'texts', 'dangerously', 'reinjured', 'desperate', 'soon', 'sucksss', 'homeless', 'microsoft', 'reckon', 'not', 'money', 'stpid', 'news', 'harder', 'suspected', 'stroke', 'birthday', 'noooo', 'joe', 'crawling', 'amazing', 'srry', 'facebook', 'wayy', 'thiss', 'affects', 'nicole', 'scared', 'afternoon', 'calculator', 'doubled', 'flushed', 'sense', 'lovely', 'question', 'tierdi', 'brody', 'tuesdaydumb', 'raw', 'showing', 'hoodie', 'overseas', 'kingdom', 'rubbish', 'already', 'pridelines', 'vibes', 'devastated', 'regretting', 'lobster', 'interested', 'declined', 'ohhhhh', 'canada', 'ughwhat', 'manchester', 'bin', 'thier', 'gah', 'mushy', 'tha', 'dress', 'geek', 'beast', 'computer', 'jacked', 'ok', 'drinkin', 'metal', 'escaped', 'quitting', 'alone', 'inappropriate', 'singing', 'averages', 'wearing', 'version', 'imposible', 'parents', 'boston', 'aah', 'fat', 'bird', 'hearts', 'wiff', 'cursing', 'bury', 'cursed', 'sisters', 'dr', 'india', 'butterflies', 'cd', 'research', 'dreadfully', 'bunny', 'parody', 'ticket', 'lunch', 'electronic', 'cash', 'spray', 'itim', 'caught', 'economy', 'ridding', 'podunktown', 'cramps', 'acid', 'bedno', 'incredibly', 'pray', 'myself', 'polly', 'harrump', 'told', 'heavenfr', 'mail', 'arguing', 'abusivementally', 'capacity', 'juss', 'trip', 'boiling', 'delay', 'foodno', 'shouldnt', 'me', 'agh', 'yo', 'suffication', 'insomnia', 'used', 'toll', 'manned', 'drinking', 'embarrassing', 'heartbroken', 'kills', 'everythin', 'okay', 'physics', 'else', 'guess', 'little', 'hungover', 'imagine', 'poltergeist', 'fusion', 'separates', 'boohoohoo', 'parks', 'typing', 'puppy', 'impatiently', 'thick', 'tonightthanks', 'burning', 'omfg', 'hater', 'qdoba', 'swim', 'guyand', 'annoyed', 'spam', 'lesson', 'drowsy', 'sleepfail', 'bake', 'grade', 'sod', 'hopefully', 'hall', 'unpopular', 'sake', 'christ', 'canceled', 'comps', 'realize', 'decline', 'mustangs', 'disagree', 'shooooes', 'uno', 'anxious', 'repair', 'announced', 'sofa', 'ahhhhhhh', 'creepy', 'dual', 'hannah', 'clear', 'interupted', 'tscc', 'saturday', 'nooobody', 'giant', 'themso', 'follow', 'hug', 'cruel', 'candidness', 'living', 'weekendhow', 'bots', 'build', 'taking', 'pierced', 'orientationits', 'poked', 'crampin', 'divorcing', 'engulfed', 'graduation', 'cantttt', 'wanna', 'throwback', 'reel', 'hannahisdead', 'gettin', 'inflating', 'rite', 'six', 'airport', 'goose', 'expired', 'eeeeevvveeerrrr', 'irratated', 'hi', 'youuu', 'hoping', 'unfortunately', 'nightmare', 'give', 'hectic', 'efforts', 'meann', 'bffls', 'race', 'beasted', 'dearly', 'ugliest', 'compose', 'rogers', 'youre', 'guniea', 'blank', 'torture', 'pissssssing', 'tonights', 'number', 'borred', 'mess', 'fountain', 'blipfm', 'method', 'real', 'freaking', 'weighed', 'holly', 'have', 'fastest', 'youtube', 'steppin', 'vacuums', 'throbbing', 'boringgg', 'thru', 'labeled', 'could', 'tonsils', 'party', 'juz', 'rebel', 'asthma', 'super', 'virus', 'strong', 'fought', 'dreadful', 'sample', 'fcking', 'making', 'tommorrow', 'sighs', 'pressure', 'chucking', 'obrian', 'thing', 'offended', 'regret', 'jimmie', 'squeeze', 'but', 'hell', 'selfdenial', 'score', 'hubby', 'hand', 'twitter', 'rulesmy', 'shamed', 'activity', 'nauseous', 'also', 'misconstrued', 'disapointed', 'delusional', 'trading', 'posted', 'listening', 'watch', 'privacy', 'october', 'spooky', 'tear', 'appetite', 'wireless', 'effective', 'convenient', 'missd', 'sympathise', 'message', 'tongue', 'ahhhcant', 'whenever', 'omq', 'bannished', 'gamers', 'wallpapers', 'say', 'badluck', 'potatoes', 'complicated', 'lappytop', 'puzzle', 'diet', 'movie', 'boreddisgusting', 'tis', 'creek', 'bordom', 'wabble', 'gets', 'tomoz', 'afterjune', 'until', 'etc', 'participate', 'property', 'comfortable', 'heartache', 'constant', 'thought', 'sleepcraziness', 'sucky', 'annoyingly', 'ashminov', 'willy', 'goddamnit', 'sadfaced', 'sniffle', 'markets', 'hmm', 'soooooooooooooooooooooooooooooooooooo', 'ankle', 'projects', 'uninteresting', 'callin', 'debt', 'website', 'remind', 'created', 'picked', 'breathe', 'whining', 'puffy', 'or', 'noodles', 'desperation', 'them', 'faillllllllll', 'goes', 'field', 'hungry', 'grossed', 'eternity', 'letdown', 'givers', 'forgets', 'reading', 'showed', 'weirdos', 'mines', 'events', 'suspend', 'irritating', 'turnaround', 'moment', 'teacher', 'rolling', 'bigger', 'freezes', 'trafffffffic', 'heartbreak', 'bees', 'totally', 'beating', 'bike', 'windows', 'jumping', 'damp', 'secret', 'they', 'chat', 'availble', 'forehead', 'darn', 'noob', 'currently', 'conversation', 'experience', 'backup', 'uprooted', 'wrestling', 'runs', 'crampsss', 'wack', 'putting', 'errands', 'damm', 'britains', 'foreboding', 'futile', 'hairdresser', 'mistake', 'breaks', 'lil', 'treating', 'twisted', 'jello', 'bittersweet', 'focus', 'bleeding', 'shucks', 'skill', 'itunes', 'unpacking', 'study', 'remains', 'ruined', 'balls', 'drs', 'easy', 'time', 'wanting', 'android', 'running', 'puncture', 'tips', 'sorrry', 'stephane', 'skills', 'large', 'da', 'snl', 'cloudy', 'melbs', 'neck', 'muy', 'keep', 'reaaaallly', 'mountain', 'where', 'looks', 'spent', 'cough', 'appartment', 'heart', 'file', 'charger', 'hill', 'witless', 'katies', 'pies', 'flags', 'prayers', 'black', 'luck', 'shes', 'pervert', 'shot', 'leaving', 'clingy', 'break', 'jittery', 'hilarious', 'productive', 'original', 'sounds', 'hamster', 'koreans', 'fri', 'hurts', 'burns', 'favourite', 'position', 'perez', 'movingcariphone', 'warm', 'coffee', 'leave', 'contest', 'steel', 'debate', 'yr', 'credit', 'spammers', 'google', 'mitchel', 'blues', 'troubles', 'frkn', 'purpose', 'insanity', 'flight', 'fuzz', 'sprite', 'shattered', 'reception', 'smelled', 'motivated', 'squirells', 'cyclone', 'proud', 'sidekick', 'biker', 'disease', 'bangs', 'plan', 'chalky', 'nto', 'suckssss', 'desire', 'aaaaarrrrggghhh', 'feed', 'probly', 'writer', 'extremally', 'jerk', 'foolish', 'witnessed', 'fails', 'chin', 'yep', 'pic', 'easily', 'cowering', 'poorly', 'siiiick', 'sloooooooooowlyyyyyyyyyyyyy', 'heat', 'peanut', 'chars', 'four', 'flick', 'sighsadface', 'note', 'just', 'aint', 'mackillop', 'mind', 'security', 'expenses', 'lik', 'pleaseeeeeeeeeeeeee', 'elizabeth', 'sucking', 'myweawkness', 'baseball', 'when', 'strawberries', 'aunts', 'anyway', 'realized', 'lips', 'surgury', 'made', 'roll', 'hates', 'newww', 'sympathy', 'runny', 'ridiculously', 'worriedi', 'pulled', 'cheap', 'grr', 'tireddd', 'headach', 'il', 'skin', 'steemer', 'woops', 'harrassed', 'ughh', 'insulted', 'shopped', 'argue', 'envious', 'constantly', 'ohio', 'wicked', 'needy', 'arthritus', 'sons', 'relaxation', 'sunshade', 'tax', 'yao', 'awwwwwwww', 'confusin', 'spider', 'possessed', 'result', 'vancouver', 'fmlllll', 'tune', 'roasting', 'slices', 'excruciating', 'pity', 'dun', 'cantt', 'honest', 'damnit', 'sry', 'forget', 'friggin', 'insanely', 'sadi', 'washing', 'quiz', 'partyin', 'boxes', 'seat', 'useless', 'fkn', 'underpaid', 'stung', 'wear', 'ï¿½', 'cobblestones', 'tea', 'wrong', 'talk', 'fight', 'tbh', 'arnie', 'thinks', 'flickr', 'killing', 'care', 'upset', 'current', 'twitters', 'hope', 'mashed', 'nyt', 'exhibit', 'allowed', 'sabip', 'less', 'prices', 'paste', 'kill', 'noooooooooo', 'solutions', 'gross', 'won', 'soooooo', 'actually', 'turtle', 'shrunk', 'travel', 'everrrrr', 'endless', 'iv', 'steakhouse', 'gd', 'ahhh', 'funny', 'clumsy', 'wednesday', 'cope', 'misss', 'student', 'shoreline', 'nerd', 'euggh', 'cheesecake', 'jpeg', 'swallow', 'checking', 'site', 'exhaustedcant', 'tgif', 'phishing', 'grandma', 'foot', 'workingbut', 'letting', 'detail', 'inconvenient', 'heir', 'arnold', 'wedding', 'anyways', 'tdub', 'timesi', 'half', 'wana', 'lies', 'lamee', 'robbed', 'cardboard', 'ever', 'played', 'shoes', 'migraine', 'hotter', 'aww', 'tickets', 'decision', 'reasonable', 'hopes', 'skirt', 'addresses', 'trust', 'wot', 'bg', 'cousin', 'passive', 'worked', 'ya', 'mac', 'monster', 'damned', 'talent', 'mcloven', 'assumption', 'def', 'seems', 'argh', 'sleeeeepy', 'hilton', 'bonespraying', 'ahead', 'overturn', 'herrrrr', 'of', 'chaos', 'wayyyyy', 'dreading', 'keyed', 'strep', 'writing', 'is', 'problem', 'aos', 'notices', 'reflux', 'belt', 'loopy', 'workk', 'awkward', 'interrupt', 'wish', 'jonathan', 'posts', 'actual', 'nico', 'sneezed', 'stuff', 'balcony', 'difficulties', 'therell', 'dirt', 'tarmac', 'geez', 'gweg', 'grandmas', 'nursing', 'tease', 'aholes', 'restrictions', 'inside', 'controls', 'embarrased', 'kicks', 'everytime', 'charlene', 'freaks', 'ended', 'kidney', 'venus', 'multiplayer', 'placed', 'philippines', 'spicy', 'granulation', 'aarrgghh', 'felt', 'available', 'please', 'omg', 'violated', 'earlier', 'unreal', 'peace', 'loooooong', 'desert', 'worry', 'dew', 'quite', 'their', 'floor', 'chop', 'xd', 'pieces', 'ball', 'difficulty', 'az', 'reupload', 'children', 'impromptu', 'hyperventilating', 'denied', 'project', 'shitter', 'email', 'soooory', 'cant', 'holiday', 'depress', 'staring', 'apologised', 'gut', 'answers', 'telecom', 'terminology', 'teenagers', 'moses', 'suckkkk', 'fake', 'java', 'bastards', 'man', 'rained', 'chickened', 'offset', 'finally', 'bloated', 'wine', 'angrrry', 'happened', 'programmed', 'grader', 'others', 'mass', 'sinned', 'wreck', 'wallace', 'ughhhhmad', 'awayyy', 'sooooooooo', 'tough', 'blocked', 'rid', 'c', 'look', 'basicallyheadache', 'very', 'hun', 'knew', 'toe', 'lunches', 'flowers', 'nogo', 'rejected', 'angela', 'harmed', 'rawr', 'effed', 'seriouslythis', 'craving', 'blue', 'ew', 'one', 'host', 'exotic', 'alaska', 'leaks', 'answerer', 'bluff', 'limit', 'prison', 'bit', 'idea', 'lying', 'hayfever', 'weirdest', 'finished', 'cauzinhoooo', 'knowi', 'gracious', 'index', 'distorted', 'rohan', 'convinced', 'snail', 'reripped', 'rest', 'stink', 'excited', 'chow', 'rock', 'hateeee', 'head', 'boat', 'goin', 'bust', 'stepped', 'subscribe', 'aila', 'input', 'lb', 'carnt', 'dead', 'edc', 'dreams', 'supose', 'team', 'dreary', 'sesion', 'surprised', 'polite', 'bus', 'gumbo', 'crashing', 'muscle', 'puffffy', 'night', 'ec', 'who', 'son', 'advance', 'especially', 'ignorent', 'cries', 'disturb', 'nosebleed', 'report', 'figuring', 'dream', 'figure', 'offtopic', 'dangerous', 'laid', 'frustrated', 'favorite', 'pinched', 'wanted', 'newest', 'dissapointment', 'nyeh', 'cecilia', 'speech', 'bud', 'aha', 'giving', 'unusual', 'fall', 'matches', 'msg', 'bleh', 'photography', 'cryed', 'arghhhh', 'nope', 'june', 'enna', 'goodbye', 'automatically', 'more', 'surgery', 'really', 'werent', 'lost', 'relaxing', 'direct', 'tail', 'pains', 'coldso', 'anywhere', 'fan', 'uhmygawddd', 'ii', 'genuinely', 'smoke', 'headrush', 'dad', 'talking', 'nigh', 'dreaming', 'bar', 'eventually', 'hopeless', 'woman', 'whoa', 'ughhhhhhhhh', 'here', 'ahhhh', 'ol', 'attack', 'uuuup', 'had', 'sapinsidetrack', 'stick', 'grandmother', 'hogging', 'this', 'bricked', 'spineless', 'booored', 'cramples', 'beware', 'fault', 'blatently', 'cheering', 'limb', 'cruise', 'locked', 'knows', 'nauseatingly', 'mothers', 'till', 'neighbor', 'organiser', 'splints', 'nowhere', 'empty', 'blunt', 'queer', 'disappeared', 'defective', 'dum', 'gahh', 'flash', 'west', 'mortified', 'saaaaaaaaaaaaaad', 'complaining', 'mad', 'harvard', 'nkorea', 'rates', 'tight', 'smell', 'alcohol', 'done', 'fucken', 'shineeeee', 'alex', 'suckd', 'imagination', 'wrecking', 'rent', 'zoningconcept', 'lie', 'itches', 'stomachace', 'sticky', 'singstar', 'lord', 'too', 'shade', 'story', 'lmao', 'bank', 'straightened', 'damit', 'awwwww', 'webcam', 'yearbook', 'choked', 'keypad', 'circuit', 'mortgage', 'dada', 'prob', 'clue', 'pug', 'creep', 'flashing', 'burton', 'court', 'eyes', 'if', 'link', 'reply', 'beautiful', 'lights', 'blacklisted', 'thursday', 'obnoxiously', 'poopy', 'doors', 'ange', 'queueing', 'ignoring', 'sooo', 'zealand', 'battery', 'siccck', 'followers', 'illogical', 'jo', 'unable', 'busy', 'ram', 'nobody', 'arrived', 'hurtling', 'roast', 'noo', 'retarded', 'steam', 'wtf', 'needless', 'refusn', 'young', 'qw', 'husker', 'sorryyyyyy', 'somewhere', 'nyc', 'hassans', 'mope', 'delays', 'tattoo', 'thumb', 'silence', 'massive', 'gna', 'enough', 'gloomy', 'remember', 'ashamed', 'sit', 'excellent', 'noises', 'double', 'b', 'wheres', 'considerably', 'kaput', 'trace', 'issue', 'put', 'lacks', 'yes', 'rotate', 'snap', 'blah', 'bourdon', 'wooomy', 'bed', 'need', 'production', 'support', 'repeat', 'most', 'playin', 'emotional', 'lazy', 'photos', 'hard', 'pooped', 'numero', 'loney', 'despair', 'surveys', 'papa', 'college', 'makin', 'piriton', 'visible', 'verizon', 'burrito', 'zenjar', 'prove', 'steal', 'keanu', 'emails', 'area', 'discouraged', 'weekendthat', 'lacking', 'memory', 'often', 'now', 'bought', 'iï¿½m', 'problemfree', 'diff', 'basically', 'endometriosis', 'soo', 'profession', 'friendly', 'backbum', 'backache', 'neither', 'hosted', 'an', 'way', 'cancer', 'ughhh', 'rap', 'warning', 'life', 'street', 'nothing', 'blamed', 'entire', 'failure', 'waterfront', 'yous', 'log', 'risk', 'grabbed', 'square', 'typical', 'drag', 'individual', 'adjustment', 'pigs', 'hah', 'sadness', 'smoky', 'deeply', 'somewhat', 'toris', 'amazon', 'assignments', 'using', 'telly', 'brighi', 'aka', 'ny', 'aunties', 'odour', 'bankruptcy', 'recession', 'finger', 'friday', 'invite', 'pal', 'chill', 'pot', 'yet', 'disturbance', 'fact', 'novacaine', 'canucks', 'flareup', 'challenge', 'bye', 'form', 'strike', 'eassy', 'hav', 'everywhere', 'overwhelmed', 'talked', 'buzz', 'horrifying', 'hopelessly', 'mean', 'cryy', 'clever', 'bitch', 'dramatic', 'aaaaw', 'beer', 'usually', 'pregnant', 'nsw', 'mommy', 'edinburgh', 'andy', 'guild', 'jeeeez', 'assembly', 'later', 'sob', 'goofin', 'languish', 'cracked', 'empathy', 'workin', 'category', 'modem', 'funk', 'hte', 'still', 'hugged', 'dry', 'pc', 'book', 'thaught', 'irked', 'disspointed', 'earrings', 'calgary', 'idgaf', 'judge', 'riot', 'combo', 'dis', 'shed', 'im', 'agreed', 'peeling', 'hurtin', 'doubt', 'dyeing', 'wand', 'someone', 'disastrously', 'unbelievably', 'format', 'music', 'miles', 'dragging', 'looked', 'boooooooo', 'unfortuantley', 'finale', 'something', 'cry', 'nails', 'dragged', 'properly', 'pigeon', 'freeze', 'wknd', 'believed', 'seperate', 'milkshake', 'aw', 'shock', 'airy', 'mall', 'nightshift', 'fl', 'jack', 'device', 'banged', 'horrid', 'maaad', 'tweetstats', 'become', 'know', 'hated', 'em', 'nerrrvous', 'numb', 'drank', 'borin', 'gona', 'madness', 'ericka', 'mx', 'utd', 'exhaaaausted', 'duckraces', 'uuuugh', 'cancel', 'plaid', 'sweet', 'ideas', 'nooooo', 'any', 'weekends', 'quality', 'performing', 'imm', 'evr', 'impressed', 'terrorizing', 'male', 'microwave', 'problemagain', 'tweeps', 'whip', 'noooowww', 'selected', 'everybody', 'clocked', 'pm', 'scarey', 'wifes', 'gave', 'bwi', 'screwed', 'bigoted', 'brekkie', 'tattered', 'forreal', 'tweet', 'activities', 'tree', 'snakes', 'clowns', 'needs', 'vcr', 'teddy', 'crowds', 'helll', 'fell', 'honestly', 'devon', 'seasons', 'teachers', 'limping', 'itself', 'without', 'vinsensitive', 'spammer', 'injury', 'chili', 'distracted', 'thunder', 'earn', 'funding', 'justin', 'honking', 'godawful', 'cardigan', 'slow', 'muuch', 'doubtful', 'dayone', 'dull', 'hunting', 'mentioning', 'understand', 'symptoms', 'soprano', 'longer', 'alright', 'problems', 'wrinkles', 'epic', 'exactly', 'doesnt', 'parking', 'insults', 'musso', 'parts', 'mustang', 'abt', 'uselessly', 'gotta', 'zindex', 'magnet', 'headahce', 'crack', 'nuts', 'meh', 'happy', 'despite', 'panic', 'might', 'turned']\n",
            "Number of Labels:  4549\n",
            "Longest sentence: 32 words\n"
          ],
          "name": "stdout"
        }
      ]
    },
    {
      "cell_type": "code",
      "metadata": {
        "colab": {
          "base_uri": "https://localhost:8080/",
          "height": 360
        },
        "id": "h_QBwaTmL9bc",
        "outputId": "b344b264-1e66-42f3-cb67-310de296c12e"
      },
      "source": [
        "WV_URL = 'https://dl.fbaipublicfiles.com/fasttext/vectors-crawl/cc.en.300.vec.gz'\r\n",
        "neg_model = text.sequence_tagger('bilstm-crf', neg_preproc, wv_path_or_url=WV_URL)"
      ],
      "execution_count": 90,
      "outputs": [
        {
          "output_type": "stream",
          "text": [
            "/usr/local/lib/python3.6/dist-packages/ktrain/text/ner/models.py:108: UserWarning: Falling back to BiLSTM (no CRF) because DISABLE_V2_BEHAVIOR=False\n",
            "  warnings.warn('Falling back to BiLSTM (no CRF) because DISABLE_V2_BEHAVIOR=False')\n"
          ],
          "name": "stderr"
        },
        {
          "output_type": "stream",
          "text": [
            "\n",
            "IMPORTANT NOTE: ktrain uses the CRF module from keras_contrib, which is not yet\n",
            "fully compatible with TensorFlow 2. You can still use the BiLSTM-CRF model\n",
            "in ktrain for sequence tagging with TensorFlow 2, but you must add the\n",
            "following to the top of your script or notebook BEFORE you import ktrain:\n",
            "\n",
            "import os\n",
            "os.environ['DISABLE_V2_BEHAVIOR'] = '1'\n",
            "\n",
            "For this run, a vanilla BiLSTM model (with no CRF layer) will be used.\n",
            "\n",
            "embedding schemes employed:\n",
            "\tword embeddings initialized with fasttext word vectors (cc.en.300.vec.gz)\n",
            "\n",
            "pretrained word embeddings will be loaded from:\n",
            "\thttps://dl.fbaipublicfiles.com/fasttext/vectors-crawl/cc.en.300.vec.gz\n",
            "loading pretrained word vectors...this may take a few moments...\n"
          ],
          "name": "stdout"
        },
        {
          "output_type": "display_data",
          "data": {
            "text/html": [
              ""
            ],
            "text/plain": [
              "<IPython.core.display.HTML object>"
            ]
          },
          "metadata": {
            "tags": []
          }
        }
      ]
    },
    {
      "cell_type": "code",
      "metadata": {
        "id": "HS8vtVcBLDGt"
      },
      "source": [
        "neg_learner = ktrain.get_learner(neg_model, train_data=neg_trn, val_data=neg_val, batch_size=10)"
      ],
      "execution_count": 91,
      "outputs": []
    },
    {
      "cell_type": "code",
      "metadata": {
        "colab": {
          "base_uri": "https://localhost:8080/"
        },
        "id": "hJHClUQkLNV5",
        "outputId": "30ff0b29-f386-493c-b075-eadf09129b84"
      },
      "source": [
        "neg_learner.autofit(1e-2, 5)"
      ],
      "execution_count": 92,
      "outputs": [
        {
          "output_type": "stream",
          "text": [
            "\n",
            "\n",
            "begin training using triangular learning rate policy with max lr of 0.01...\n",
            "preparing training data ...done.\n",
            "preparing validation data ...done.\n",
            "Epoch 1/5\n",
            "701/701 [==============================] - 38s 55ms/step - loss: 1.5551 - val_loss: 0.9842\n",
            "Epoch 2/5\n",
            "701/701 [==============================] - 35s 50ms/step - loss: 0.9726 - val_loss: 0.6502\n",
            "Epoch 3/5\n",
            "701/701 [==============================] - 35s 50ms/step - loss: 0.6879 - val_loss: 0.5665\n",
            "Epoch 4/5\n",
            "701/701 [==============================] - 35s 49ms/step - loss: 0.5719 - val_loss: 0.5826\n",
            "Epoch 5/5\n",
            "701/701 [==============================] - 36s 51ms/step - loss: 0.5010 - val_loss: 0.6075\n"
          ],
          "name": "stdout"
        },
        {
          "output_type": "execute_result",
          "data": {
            "text/plain": [
              "<tensorflow.python.keras.callbacks.History at 0x7f5593228160>"
            ]
          },
          "metadata": {
            "tags": []
          },
          "execution_count": 92
        }
      ]
    },
    {
      "cell_type": "code",
      "metadata": {
        "id": "nhWBGWTnLVwX"
      },
      "source": [
        "neg_predictor = ktrain.get_predictor(neg_learner.model, neg_preproc)"
      ],
      "execution_count": 93,
      "outputs": []
    },
    {
      "cell_type": "code",
      "metadata": {
        "colab": {
          "base_uri": "https://localhost:8080/"
        },
        "id": "_CWz1-5kOhyV",
        "outputId": "6b711f49-4f7a-40a3-8284-5ce2fc25f8e5"
      },
      "source": [
        "neg_predictor.predict(\"I am so sad\")"
      ],
      "execution_count": 94,
      "outputs": [
        {
          "output_type": "execute_result",
          "data": {
            "text/plain": [
              "[('I', 0), ('am', 0), ('so', 'so'), ('sad', 'sad')]"
            ]
          },
          "metadata": {
            "tags": []
          },
          "execution_count": 94
        }
      ]
    },
    {
      "cell_type": "code",
      "metadata": {
        "id": "g3Je4kzIN7mS"
      },
      "source": [
        "neg_predictor.save(neg_model_path)"
      ],
      "execution_count": 96,
      "outputs": []
    },
    {
      "cell_type": "code",
      "metadata": {
        "id": "_UomCGT5OBDG"
      },
      "source": [
        "def predict_entities(predicted_text):\r\n",
        "    selected_text = [] \r\n",
        "    for ent , val in predicted_text:\r\n",
        "        if val != 0:\r\n",
        "          selected_text.append(ent)\r\n",
        "    return ' '.join(selected_text)"
      ],
      "execution_count": 97,
      "outputs": []
    },
    {
      "cell_type": "code",
      "metadata": {
        "id": "THlphcHdTYAE"
      },
      "source": [
        "selected_texts = []\r\n",
        "model_pos = ktrain.load_predictor('/content/models/model_pos')\r\n",
        "model_neg = ktrain.load_predictor('/content/models/model_neg')\r\n",
        "    \r\n",
        "for index, row in df_test.iterrows():\r\n",
        "    text = row.text\r\n",
        "    output_str = \"\"\r\n",
        "    if row.sentiment == 'neutral' or len(text.split()) <= 2:\r\n",
        "        selected_texts.append(text)\r\n",
        "    elif row.sentiment == 'positive':\r\n",
        "        selected_texts.append(predict_entities(pos_predictor.predict(text)))\r\n",
        "    else:\r\n",
        "        selected_texts.append(predict_entities(neg_predictor.predict(text)))\r\n",
        "        \r\n",
        "df_test['selected_text'] = selected_texts"
      ],
      "execution_count": 101,
      "outputs": []
    },
    {
      "cell_type": "code",
      "metadata": {
        "colab": {
          "base_uri": "https://localhost:8080/",
          "height": 359
        },
        "id": "gDlLvRGhTcim",
        "outputId": "7eb9e89b-a9d0-4739-8390-c6d9ed3fde15"
      },
      "source": [
        "df_submission['selected_text'] = df_test['selected_text']\r\n",
        "df_submission.to_csv(\"submission.csv\", index=False)\r\n",
        "display(df_submission.head(10))"
      ],
      "execution_count": 102,
      "outputs": [
        {
          "output_type": "display_data",
          "data": {
            "text/html": [
              "<div>\n",
              "<style scoped>\n",
              "    .dataframe tbody tr th:only-of-type {\n",
              "        vertical-align: middle;\n",
              "    }\n",
              "\n",
              "    .dataframe tbody tr th {\n",
              "        vertical-align: top;\n",
              "    }\n",
              "\n",
              "    .dataframe thead th {\n",
              "        text-align: right;\n",
              "    }\n",
              "</style>\n",
              "<table border=\"1\" class=\"dataframe\">\n",
              "  <thead>\n",
              "    <tr style=\"text-align: right;\">\n",
              "      <th></th>\n",
              "      <th>textID</th>\n",
              "      <th>selected_text</th>\n",
              "    </tr>\n",
              "  </thead>\n",
              "  <tbody>\n",
              "    <tr>\n",
              "      <th>0</th>\n",
              "      <td>f87dea47db</td>\n",
              "      <td>Last session of the day  http://twitpic.com/67ezh</td>\n",
              "    </tr>\n",
              "    <tr>\n",
              "      <th>1</th>\n",
              "      <td>96d74cb729</td>\n",
              "      <td>is also really exciting Good in</td>\n",
              "    </tr>\n",
              "    <tr>\n",
              "      <th>2</th>\n",
              "      <td>eee518ae67</td>\n",
              "      <td>Recession hit she to quit her such a shame</td>\n",
              "    </tr>\n",
              "    <tr>\n",
              "      <th>3</th>\n",
              "      <td>01082688c6</td>\n",
              "      <td>happy bday!</td>\n",
              "    </tr>\n",
              "    <tr>\n",
              "      <th>4</th>\n",
              "      <td>33987a8ee5</td>\n",
              "      <td>I like it</td>\n",
              "    </tr>\n",
              "    <tr>\n",
              "      <th>5</th>\n",
              "      <td>726e501993</td>\n",
              "      <td>great !</td>\n",
              "    </tr>\n",
              "    <tr>\n",
              "      <th>6</th>\n",
              "      <td>261932614e</td>\n",
              "      <td>I THINK HATES</td>\n",
              "    </tr>\n",
              "    <tr>\n",
              "      <th>7</th>\n",
              "      <td>afa11da83f</td>\n",
              "      <td>completely blocked</td>\n",
              "    </tr>\n",
              "    <tr>\n",
              "      <th>8</th>\n",
              "      <td>e64208b4ef</td>\n",
              "      <td>and within a short time of the last clue all ...</td>\n",
              "    </tr>\n",
              "    <tr>\n",
              "      <th>9</th>\n",
              "      <td>37bcad24ca</td>\n",
              "      <td>What did you get?  My day is alright.. haven`...</td>\n",
              "    </tr>\n",
              "  </tbody>\n",
              "</table>\n",
              "</div>"
            ],
            "text/plain": [
              "       textID                                      selected_text\n",
              "0  f87dea47db  Last session of the day  http://twitpic.com/67ezh\n",
              "1  96d74cb729                    is also really exciting Good in\n",
              "2  eee518ae67         Recession hit she to quit her such a shame\n",
              "3  01082688c6                                        happy bday!\n",
              "4  33987a8ee5                                          I like it\n",
              "5  726e501993                                            great !\n",
              "6  261932614e                                      I THINK HATES\n",
              "7  afa11da83f                                 completely blocked\n",
              "8  e64208b4ef   and within a short time of the last clue all ...\n",
              "9  37bcad24ca   What did you get?  My day is alright.. haven`..."
            ]
          },
          "metadata": {
            "tags": []
          }
        }
      ]
    },
    {
      "cell_type": "code",
      "metadata": {
        "id": "r_VXf1dcU8TX"
      },
      "source": [
        ""
      ],
      "execution_count": null,
      "outputs": []
    }
  ]
}