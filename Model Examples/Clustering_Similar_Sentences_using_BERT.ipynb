{
  "nbformat": 4,
  "nbformat_minor": 0,
  "metadata": {
    "colab": {
      "name": "Clustering Similar Sentences using BERT.ipynb",
      "provenance": [],
      "collapsed_sections": []
    },
    "kernelspec": {
      "name": "python3",
      "display_name": "Python 3"
    },
    "accelerator": "GPU",
    "widgets": {
      "application/vnd.jupyter.widget-state+json": {
        "6c66d41f46594fbcbd15c25e58e5e1ab": {
          "model_module": "@jupyter-widgets/controls",
          "model_name": "HBoxModel",
          "state": {
            "_view_name": "HBoxView",
            "_dom_classes": [],
            "_model_name": "HBoxModel",
            "_view_module": "@jupyter-widgets/controls",
            "_model_module_version": "1.5.0",
            "_view_count": null,
            "_view_module_version": "1.5.0",
            "box_style": "",
            "layout": "IPY_MODEL_feb36c8ae37b4ae6a22fcc0b6bdb9168",
            "_model_module": "@jupyter-widgets/controls",
            "children": [
              "IPY_MODEL_e6c083aa2e5b4ed182848afcd86e971f",
              "IPY_MODEL_6458cbafd96b42238a20f92f4384f489"
            ]
          }
        },
        "feb36c8ae37b4ae6a22fcc0b6bdb9168": {
          "model_module": "@jupyter-widgets/base",
          "model_name": "LayoutModel",
          "state": {
            "_view_name": "LayoutView",
            "grid_template_rows": null,
            "right": null,
            "justify_content": null,
            "_view_module": "@jupyter-widgets/base",
            "overflow": null,
            "_model_module_version": "1.2.0",
            "_view_count": null,
            "flex_flow": null,
            "width": null,
            "min_width": null,
            "border": null,
            "align_items": null,
            "bottom": null,
            "_model_module": "@jupyter-widgets/base",
            "top": null,
            "grid_column": null,
            "overflow_y": null,
            "overflow_x": null,
            "grid_auto_flow": null,
            "grid_area": null,
            "grid_template_columns": null,
            "flex": null,
            "_model_name": "LayoutModel",
            "justify_items": null,
            "grid_row": null,
            "max_height": null,
            "align_content": null,
            "visibility": null,
            "align_self": null,
            "height": null,
            "min_height": null,
            "padding": null,
            "grid_auto_rows": null,
            "grid_gap": null,
            "max_width": null,
            "order": null,
            "_view_module_version": "1.2.0",
            "grid_template_areas": null,
            "object_position": null,
            "object_fit": null,
            "grid_auto_columns": null,
            "margin": null,
            "display": null,
            "left": null
          }
        },
        "e6c083aa2e5b4ed182848afcd86e971f": {
          "model_module": "@jupyter-widgets/controls",
          "model_name": "FloatProgressModel",
          "state": {
            "_view_name": "ProgressView",
            "style": "IPY_MODEL_e5642ebf67f14b63b69c616e0c704bdc",
            "_dom_classes": [],
            "description": "100%",
            "_model_name": "FloatProgressModel",
            "bar_style": "success",
            "max": 244715968,
            "_view_module": "@jupyter-widgets/controls",
            "_model_module_version": "1.5.0",
            "value": 244715968,
            "_view_count": null,
            "_view_module_version": "1.5.0",
            "orientation": "horizontal",
            "min": 0,
            "description_tooltip": null,
            "_model_module": "@jupyter-widgets/controls",
            "layout": "IPY_MODEL_d1d82db64edb4d819a3bd7276ac89289"
          }
        },
        "6458cbafd96b42238a20f92f4384f489": {
          "model_module": "@jupyter-widgets/controls",
          "model_name": "HTMLModel",
          "state": {
            "_view_name": "HTMLView",
            "style": "IPY_MODEL_6285b9adf059471da85797e8c857bdc7",
            "_dom_classes": [],
            "description": "",
            "_model_name": "HTMLModel",
            "placeholder": "​",
            "_view_module": "@jupyter-widgets/controls",
            "_model_module_version": "1.5.0",
            "value": " 245M/245M [00:16&lt;00:00, 15.2MB/s]",
            "_view_count": null,
            "_view_module_version": "1.5.0",
            "description_tooltip": null,
            "_model_module": "@jupyter-widgets/controls",
            "layout": "IPY_MODEL_e94c925bf79c45bb8a804c50ca4f7b0c"
          }
        },
        "e5642ebf67f14b63b69c616e0c704bdc": {
          "model_module": "@jupyter-widgets/controls",
          "model_name": "ProgressStyleModel",
          "state": {
            "_view_name": "StyleView",
            "_model_name": "ProgressStyleModel",
            "description_width": "initial",
            "_view_module": "@jupyter-widgets/base",
            "_model_module_version": "1.5.0",
            "_view_count": null,
            "_view_module_version": "1.2.0",
            "bar_color": null,
            "_model_module": "@jupyter-widgets/controls"
          }
        },
        "d1d82db64edb4d819a3bd7276ac89289": {
          "model_module": "@jupyter-widgets/base",
          "model_name": "LayoutModel",
          "state": {
            "_view_name": "LayoutView",
            "grid_template_rows": null,
            "right": null,
            "justify_content": null,
            "_view_module": "@jupyter-widgets/base",
            "overflow": null,
            "_model_module_version": "1.2.0",
            "_view_count": null,
            "flex_flow": null,
            "width": null,
            "min_width": null,
            "border": null,
            "align_items": null,
            "bottom": null,
            "_model_module": "@jupyter-widgets/base",
            "top": null,
            "grid_column": null,
            "overflow_y": null,
            "overflow_x": null,
            "grid_auto_flow": null,
            "grid_area": null,
            "grid_template_columns": null,
            "flex": null,
            "_model_name": "LayoutModel",
            "justify_items": null,
            "grid_row": null,
            "max_height": null,
            "align_content": null,
            "visibility": null,
            "align_self": null,
            "height": null,
            "min_height": null,
            "padding": null,
            "grid_auto_rows": null,
            "grid_gap": null,
            "max_width": null,
            "order": null,
            "_view_module_version": "1.2.0",
            "grid_template_areas": null,
            "object_position": null,
            "object_fit": null,
            "grid_auto_columns": null,
            "margin": null,
            "display": null,
            "left": null
          }
        },
        "6285b9adf059471da85797e8c857bdc7": {
          "model_module": "@jupyter-widgets/controls",
          "model_name": "DescriptionStyleModel",
          "state": {
            "_view_name": "StyleView",
            "_model_name": "DescriptionStyleModel",
            "description_width": "",
            "_view_module": "@jupyter-widgets/base",
            "_model_module_version": "1.5.0",
            "_view_count": null,
            "_view_module_version": "1.2.0",
            "_model_module": "@jupyter-widgets/controls"
          }
        },
        "e94c925bf79c45bb8a804c50ca4f7b0c": {
          "model_module": "@jupyter-widgets/base",
          "model_name": "LayoutModel",
          "state": {
            "_view_name": "LayoutView",
            "grid_template_rows": null,
            "right": null,
            "justify_content": null,
            "_view_module": "@jupyter-widgets/base",
            "overflow": null,
            "_model_module_version": "1.2.0",
            "_view_count": null,
            "flex_flow": null,
            "width": null,
            "min_width": null,
            "border": null,
            "align_items": null,
            "bottom": null,
            "_model_module": "@jupyter-widgets/base",
            "top": null,
            "grid_column": null,
            "overflow_y": null,
            "overflow_x": null,
            "grid_auto_flow": null,
            "grid_area": null,
            "grid_template_columns": null,
            "flex": null,
            "_model_name": "LayoutModel",
            "justify_items": null,
            "grid_row": null,
            "max_height": null,
            "align_content": null,
            "visibility": null,
            "align_self": null,
            "height": null,
            "min_height": null,
            "padding": null,
            "grid_auto_rows": null,
            "grid_gap": null,
            "max_width": null,
            "order": null,
            "_view_module_version": "1.2.0",
            "grid_template_areas": null,
            "object_position": null,
            "object_fit": null,
            "grid_auto_columns": null,
            "margin": null,
            "display": null,
            "left": null
          }
        }
      }
    }
  },
  "cells": [
    {
      "cell_type": "code",
      "metadata": {
        "id": "530m0dbayKQ7",
        "colab": {
          "base_uri": "https://localhost:8080/"
        },
        "outputId": "b010e675-2079-4bfd-be79-1aa0a0babff6"
      },
      "source": [
        "!pip install -U sentence-transformers"
      ],
      "execution_count": 2,
      "outputs": [
        {
          "output_type": "stream",
          "text": [
            "Requirement already up-to-date: sentence-transformers in /usr/local/lib/python3.7/dist-packages (1.1.0)\n",
            "Requirement already satisfied, skipping upgrade: tqdm in /usr/local/lib/python3.7/dist-packages (from sentence-transformers) (4.41.1)\n",
            "Requirement already satisfied, skipping upgrade: numpy in /usr/local/lib/python3.7/dist-packages (from sentence-transformers) (1.19.5)\n",
            "Requirement already satisfied, skipping upgrade: nltk in /usr/local/lib/python3.7/dist-packages (from sentence-transformers) (3.2.5)\n",
            "Requirement already satisfied, skipping upgrade: sentencepiece in /usr/local/lib/python3.7/dist-packages (from sentence-transformers) (0.1.95)\n",
            "Requirement already satisfied, skipping upgrade: scikit-learn in /usr/local/lib/python3.7/dist-packages (from sentence-transformers) (0.22.2.post1)\n",
            "Requirement already satisfied, skipping upgrade: scipy in /usr/local/lib/python3.7/dist-packages (from sentence-transformers) (1.4.1)\n",
            "Requirement already satisfied, skipping upgrade: transformers<5.0.0,>=3.1.0 in /usr/local/lib/python3.7/dist-packages (from sentence-transformers) (4.5.1)\n",
            "Requirement already satisfied, skipping upgrade: torch>=1.6.0 in /usr/local/lib/python3.7/dist-packages (from sentence-transformers) (1.8.1+cu101)\n",
            "Requirement already satisfied, skipping upgrade: six in /usr/local/lib/python3.7/dist-packages (from nltk->sentence-transformers) (1.15.0)\n",
            "Requirement already satisfied, skipping upgrade: joblib>=0.11 in /usr/local/lib/python3.7/dist-packages (from scikit-learn->sentence-transformers) (1.0.1)\n",
            "Requirement already satisfied, skipping upgrade: filelock in /usr/local/lib/python3.7/dist-packages (from transformers<5.0.0,>=3.1.0->sentence-transformers) (3.0.12)\n",
            "Requirement already satisfied, skipping upgrade: requests in /usr/local/lib/python3.7/dist-packages (from transformers<5.0.0,>=3.1.0->sentence-transformers) (2.23.0)\n",
            "Requirement already satisfied, skipping upgrade: importlib-metadata; python_version < \"3.8\" in /usr/local/lib/python3.7/dist-packages (from transformers<5.0.0,>=3.1.0->sentence-transformers) (3.10.1)\n",
            "Requirement already satisfied, skipping upgrade: packaging in /usr/local/lib/python3.7/dist-packages (from transformers<5.0.0,>=3.1.0->sentence-transformers) (20.9)\n",
            "Requirement already satisfied, skipping upgrade: sacremoses in /usr/local/lib/python3.7/dist-packages (from transformers<5.0.0,>=3.1.0->sentence-transformers) (0.0.45)\n",
            "Requirement already satisfied, skipping upgrade: tokenizers<0.11,>=0.10.1 in /usr/local/lib/python3.7/dist-packages (from transformers<5.0.0,>=3.1.0->sentence-transformers) (0.10.2)\n",
            "Requirement already satisfied, skipping upgrade: regex!=2019.12.17 in /usr/local/lib/python3.7/dist-packages (from transformers<5.0.0,>=3.1.0->sentence-transformers) (2019.12.20)\n",
            "Requirement already satisfied, skipping upgrade: typing-extensions in /usr/local/lib/python3.7/dist-packages (from torch>=1.6.0->sentence-transformers) (3.7.4.3)\n",
            "Requirement already satisfied, skipping upgrade: certifi>=2017.4.17 in /usr/local/lib/python3.7/dist-packages (from requests->transformers<5.0.0,>=3.1.0->sentence-transformers) (2020.12.5)\n",
            "Requirement already satisfied, skipping upgrade: urllib3!=1.25.0,!=1.25.1,<1.26,>=1.21.1 in /usr/local/lib/python3.7/dist-packages (from requests->transformers<5.0.0,>=3.1.0->sentence-transformers) (1.24.3)\n",
            "Requirement already satisfied, skipping upgrade: chardet<4,>=3.0.2 in /usr/local/lib/python3.7/dist-packages (from requests->transformers<5.0.0,>=3.1.0->sentence-transformers) (3.0.4)\n",
            "Requirement already satisfied, skipping upgrade: idna<3,>=2.5 in /usr/local/lib/python3.7/dist-packages (from requests->transformers<5.0.0,>=3.1.0->sentence-transformers) (2.10)\n",
            "Requirement already satisfied, skipping upgrade: zipp>=0.5 in /usr/local/lib/python3.7/dist-packages (from importlib-metadata; python_version < \"3.8\"->transformers<5.0.0,>=3.1.0->sentence-transformers) (3.4.1)\n",
            "Requirement already satisfied, skipping upgrade: pyparsing>=2.0.2 in /usr/local/lib/python3.7/dist-packages (from packaging->transformers<5.0.0,>=3.1.0->sentence-transformers) (2.4.7)\n",
            "Requirement already satisfied, skipping upgrade: click in /usr/local/lib/python3.7/dist-packages (from sacremoses->transformers<5.0.0,>=3.1.0->sentence-transformers) (7.1.2)\n"
          ],
          "name": "stdout"
        }
      ]
    },
    {
      "cell_type": "code",
      "metadata": {
        "id": "Whpul3QHyR8T"
      },
      "source": [
        "from sentence_transformers import SentenceTransformer\n",
        "from sklearn.cluster import KMeans"
      ],
      "execution_count": 3,
      "outputs": []
    },
    {
      "cell_type": "code",
      "metadata": {
        "id": "c-VLZUHVyVbt",
        "colab": {
          "base_uri": "https://localhost:8080/",
          "height": 67,
          "referenced_widgets": [
            "6c66d41f46594fbcbd15c25e58e5e1ab",
            "feb36c8ae37b4ae6a22fcc0b6bdb9168",
            "e6c083aa2e5b4ed182848afcd86e971f",
            "6458cbafd96b42238a20f92f4384f489",
            "e5642ebf67f14b63b69c616e0c704bdc",
            "d1d82db64edb4d819a3bd7276ac89289",
            "6285b9adf059471da85797e8c857bdc7",
            "e94c925bf79c45bb8a804c50ca4f7b0c"
          ]
        },
        "outputId": "2ffc8005-3662-470a-a322-ca062ee3f713"
      },
      "source": [
        "embedder = SentenceTransformer('distilbert-base-nli-stsb-mean-tokens')\n"
      ],
      "execution_count": 4,
      "outputs": [
        {
          "output_type": "display_data",
          "data": {
            "application/vnd.jupyter.widget-view+json": {
              "model_id": "6c66d41f46594fbcbd15c25e58e5e1ab",
              "version_minor": 0,
              "version_major": 2
            },
            "text/plain": [
              "HBox(children=(FloatProgress(value=0.0, max=244715968.0), HTML(value='')))"
            ]
          },
          "metadata": {
            "tags": []
          }
        },
        {
          "output_type": "stream",
          "text": [
            "\n"
          ],
          "name": "stdout"
        }
      ]
    },
    {
      "cell_type": "code",
      "metadata": {
        "id": "LlzCQKKzya_4"
      },
      "source": [
        "corpus = [\"I would like to make a transfer\",\"I want to transfer money\",\"I want to pay money\",\"I want to pay someone\",\"Can I transfer money?\",\"transfer money to Alex\",\"I need to transfer money\",\"Money transfer\",\"I need to make a transference\",\"I need to make a transfer\",\"i need to send money\",\"I would like to transfer money\",\"I need to make a money transfer\",\"I need to send money\",\"I’d like to make a transfer\",\"I’d like to send money\",\"I would like to wire some money\",\"I want to make a transfer\",\"I need to go to the bank to make a transfer\",\"Make a transfer\",\"I want to send money\",\"I need to transfer\",\"I need to make an account transfer\",\"I want to do fund transfer.\",\"I want to transfer funds.\",\"I want to pay money.\",\"I would like to make a payment\",\"I want to do money transaction\",\"I want to transfer some amount to someone\",\"I'd like to transfer sixty dollars from my checking account\",\"I want to wire two hundred dollars from my checking account\",\"I want to make a transfer of one hundred fifty dollars to my savings account\",\"Can I please transfer some money between my accounts\",\"I just want to send a hundred dollars to my savings\",\"I want to make a wire transfer\",\"Is it possible to transfer money online\",\"Are online transfers available\",\"How can I transfer money\",\"What do I need to do to transfer some money between my accounts\",\"I want to transfer money to my wife's account\",\"I want to make a transfer today\",\"Transfer money\",\"Transfer money to Alex\",\"please list my accounts\",\"please show my accounts\",\"please get all my accounts\",\"show me my accounts details\",\"Display My Accounts\",\"Show accounts\",\"List my accounts\",\"List my account\",\"Can I check my account number\",\"can I have a look at my accounts\",\"Show my account details\",\"My accounts\",\"I’d like to see all my accounts\",\"Can I view my accounts\",\"Make a list of my accounts\",\"show my account numbers\",\"I want to see my accounts\",\"I would like to see all my accounts\",\"Display my bank account\",\"Overview of Accounts\",\"Show all my accounts\",\"please show my account summary\",\"please show my account balance\",\"information about account\",\"info on account\",\"show the details of my account\",\"List out all my accounts\",\"Fetch my accounts details\",\"get me my accounts information\",\"Please retrieve my accounts information\",\"please show my credit cards\",\"please list my credit cards\",\"show me my credit cards details\",\"what is my credit cards outstanding\",\"Display My Cards\",\"List my credit cards\",\"i need to see my credit cards\",\"Can I have access to a credit cards\",\"My credit cards\",\"I want to see my credit card details\",\"I’d like my credit cards displayed\",\"Can I see all my credit cards\",\"Show my cards\",\"Display Credit Cards\",\"Show Credit Cards\",\"Could you show me my credit cards\",\"I would like to see my credit cards\",\"Credit cards information\",\"Display my credit cards\",\"Credit Card Overvuew\",\"Show all my credit cards\",\"show my credit cards\",\"what all credit cards do I have?\",\"List out all my credit cards\",\"I want to see list of all my credit cards\",\"I would like to see information of all my credit cards\",\"Please show me my bank statement\",\"I would like to see my bank statement\",\"Show me my all my transactions\",\"Give me a list of my statement history\",\"Can you provide me my bank statement?\",\"Extract Statements\",\"Print statements\",\"i want to see my statements\",\"Can I have a look at my statement please\",\"Display my statements\",\"My statement\",\"I’d like to see my statement\",\"I want to see my statement\",\"Please extract statement of my movements\",\"Make a statement\",\"Display Statements\",\"Show statements\",\"Show account movements\",\"Could you show me my statements\",\"I would like to see my statements\",\"Show my statements\",\"Account Transaction overview\",\"Show my account statements\",\"Please show my bank entries.\",\"Please show my debits and credits.\",\"Can I have a look at my receipts and payments?\",\"Can I see my inflows and outflows?\",\"Please show me my transaction history\",\"Please retieve my transaction log\",\"I would like to see my bank account statement histor\",\"yeah hi what is the current interest rate for loans\",\"what's the interest rate for a 30 year mortgage\",\"what's the availavble interest rate for mortgages today\",\"what's the interest rate for your golden credit cards\",\"what's the interest rate for your credit card\",\"What's the best interest rate I can get within your bank\",\"I need to borrow some money so I want to know the interest rates\",\"What are the interest rates if I ask for one hundred tho\",\"i've lost my card\",\"I don't know where my card is\",\"I have no idea where've left my card\",\"I left my card somewhere and now I need to cancel it\",\"I really don't remember where my card is\",\"I'm afraid I don't know where my card is\",\"I've lost my credit card and I don't think I will find it again\",\"My card is gone I must have left it somewhere\",\"I'm afraid someone took my card so I'd better cancel it\",\"I have no clue where is my card\",\"Can't find my card don't know what to do\",\"Can't find my card what should \",\"I don't remember my pin and need to change it\",\"I want to change my pin because I can't remember it.\",\"How can I change my pin over the phone\",\"Is it possible to change my card's pin online\",\"Could you help me resetting my pin\",\"Can I get a new pin number for my card\",\"What do I need to do to get a new pin number\",\"How can I restore the secret code of my card\",\"I lost my card's secret number now I can't use it anymore\",\"Where can I find my card's pin\",\"Where can I find my card's secret code\",\"I think someone discovered my pin and I want to change it\",\"I want to change the secret digits to access my credit card.\",\"I want to apply to a retirement savings plan\",\"What are the available plans for retirement in your bank\",\"what's the best RSP available in your products\",\"Do you offer retirement savings plans\",\"I want to invest some money for my retirement\",\"I want to get access to online banking\",\"What can I do in the online banking\",\"How can I benefit from your online banking\",\"Do you have a mobile app for online banking\",\"Can I make transfer online\",\"Can I check my balance online\",\"I want to get a password for online banking\",\"What are the things I can do online and not over the phone\",\"Are there things that I can only do online?\",\"Please retrieve my transaction log\",\"I would like to see my bank account statement history\"\n",
        "]"
      ],
      "execution_count": 19,
      "outputs": []
    },
    {
      "cell_type": "code",
      "metadata": {
        "id": "4oafgBaEyhRA"
      },
      "source": [
        "corpus_embeddings = embedder.encode(corpus)"
      ],
      "execution_count": 20,
      "outputs": []
    },
    {
      "cell_type": "code",
      "metadata": {
        "id": "TOya8DnZyoTv"
      },
      "source": [
        "# Then, we perform k-means clustering using sklearn:\n",
        "from sklearn.cluster import KMeans\n",
        "\n",
        "num_clusters = 9\n",
        "clustering_model = KMeans(n_clusters=num_clusters)\n",
        "clustering_model.fit(corpus_embeddings)\n",
        "cluster_assignment = clustering_model.labels_"
      ],
      "execution_count": 21,
      "outputs": []
    },
    {
      "cell_type": "code",
      "metadata": {
        "id": "PbRW-UdmywgH",
        "colab": {
          "base_uri": "https://localhost:8080/"
        },
        "outputId": "6c4071be-b2cf-4bb5-f31d-b730ef54ffd9"
      },
      "source": [
        "cluster_assignment"
      ],
      "execution_count": 22,
      "outputs": [
        {
          "output_type": "execute_result",
          "data": {
            "text/plain": [
              "array([6, 2, 5, 5, 2, 2, 2, 2, 6, 6, 5, 2, 2, 5, 6, 5, 5, 6, 4, 6, 5, 6,\n",
              "       4, 2, 2, 5, 5, 5, 6, 4, 4, 4, 4, 5, 6, 2, 2, 2, 4, 4, 6, 2, 2, 7,\n",
              "       7, 7, 7, 7, 7, 7, 7, 4, 7, 7, 7, 7, 7, 7, 7, 7, 7, 4, 7, 7, 7, 4,\n",
              "       7, 7, 7, 7, 7, 7, 7, 1, 1, 1, 1, 1, 1, 1, 1, 1, 1, 1, 1, 1, 1, 1,\n",
              "       1, 1, 1, 1, 1, 1, 1, 1, 1, 1, 1, 4, 4, 7, 0, 4, 0, 0, 0, 0, 0, 0,\n",
              "       0, 0, 0, 0, 0, 0, 7, 0, 0, 0, 7, 7, 4, 1, 4, 4, 7, 4, 4, 1, 1, 1,\n",
              "       1, 1, 4, 5, 5, 3, 3, 3, 3, 3, 3, 3, 3, 3, 3, 3, 3, 8, 8, 8, 8, 8,\n",
              "       8, 8, 8, 3, 8, 8, 8, 8, 5, 4, 1, 4, 5, 4, 4, 4, 4, 6, 4, 4, 4, 4,\n",
              "       4, 4], dtype=int32)"
            ]
          },
          "metadata": {
            "tags": []
          },
          "execution_count": 22
        }
      ]
    },
    {
      "cell_type": "code",
      "metadata": {
        "id": "ZYWRFiyhzU0g",
        "colab": {
          "base_uri": "https://localhost:8080/"
        },
        "outputId": "be033f5b-12d0-4522-9703-f78122f5da69"
      },
      "source": [
        "clustered_sentences = [[] for i in range(num_clusters)]\n",
        "for sentence_id, cluster_id in enumerate(cluster_assignment):\n",
        "    clustered_sentences[cluster_id].append(corpus[sentence_id])\n",
        "\n",
        "for i, cluster in enumerate(clustered_sentences):\n",
        "    print(\"Cluster \", i+1)\n",
        "    print(cluster)\n",
        "    print(\"\")"
      ],
      "execution_count": 23,
      "outputs": [
        {
          "output_type": "stream",
          "text": [
            "Cluster  1\n",
            "['Give me a list of my statement history', 'Extract Statements', 'Print statements', 'i want to see my statements', 'Can I have a look at my statement please', 'Display my statements', 'My statement', 'I’d like to see my statement', 'I want to see my statement', 'Please extract statement of my movements', 'Make a statement', 'Display Statements', 'Show statements', 'Could you show me my statements', 'I would like to see my statements', 'Show my statements']\n",
            "\n",
            "Cluster  2\n",
            "['please show my credit cards', 'please list my credit cards', 'show me my credit cards details', 'what is my credit cards outstanding', 'Display My Cards', 'List my credit cards', 'i need to see my credit cards', 'Can I have access to a credit cards', 'My credit cards', 'I want to see my credit card details', 'I’d like my credit cards displayed', 'Can I see all my credit cards', 'Show my cards', 'Display Credit Cards', 'Show Credit Cards', 'Could you show me my credit cards', 'I would like to see my credit cards', 'Credit cards information', 'Display my credit cards', 'Credit Card Overvuew', 'Show all my credit cards', 'show my credit cards', 'what all credit cards do I have?', 'List out all my credit cards', 'I want to see list of all my credit cards', 'I would like to see information of all my credit cards', 'Please show my debits and credits.', 'yeah hi what is the current interest rate for loans', \"what's the interest rate for a 30 year mortgage\", \"what's the availavble interest rate for mortgages today\", \"what's the interest rate for your golden credit cards\", \"what's the interest rate for your credit card\", \"what's the best RSP available in your products\"]\n",
            "\n",
            "Cluster  3\n",
            "['I want to transfer money', 'Can I transfer money?', 'transfer money to Alex', 'I need to transfer money', 'Money transfer', 'I would like to transfer money', 'I need to make a money transfer', 'I want to do fund transfer.', 'I want to transfer funds.', 'Is it possible to transfer money online', 'Are online transfers available', 'How can I transfer money', 'Transfer money', 'Transfer money to Alex']\n",
            "\n",
            "Cluster  4\n",
            "[\"i've lost my card\", \"I don't know where my card is\", \"I have no idea where've left my card\", 'I left my card somewhere and now I need to cancel it', \"I really don't remember where my card is\", \"I'm afraid I don't know where my card is\", \"I've lost my credit card and I don't think I will find it again\", 'My card is gone I must have left it somewhere', \"I'm afraid someone took my card so I'd better cancel it\", 'I have no clue where is my card', \"Can't find my card don't know what to do\", \"Can't find my card what should \", \"I lost my card's secret number now I can't use it anymore\"]\n",
            "\n",
            "Cluster  5\n",
            "['I need to go to the bank to make a transfer', 'I need to make an account transfer', \"I'd like to transfer sixty dollars from my checking account\", 'I want to wire two hundred dollars from my checking account', 'I want to make a transfer of one hundred fifty dollars to my savings account', 'Can I please transfer some money between my accounts', 'What do I need to do to transfer some money between my accounts', \"I want to transfer money to my wife's account\", 'Can I check my account number', 'Display my bank account', 'please show my account balance', 'Please show me my bank statement', 'I would like to see my bank statement', 'Can you provide me my bank statement?', 'Please show my bank entries.', 'Can I have a look at my receipts and payments?', 'Can I see my inflows and outflows?', 'Please retieve my transaction log', 'I would like to see my bank account statement histor', \"What's the best interest rate I can get within your bank\", 'What are the available plans for retirement in your bank', 'Do you offer retirement savings plans', 'I want to get access to online banking', 'What can I do in the online banking', 'How can I benefit from your online banking', 'Do you have a mobile app for online banking', 'Can I check my balance online', 'I want to get a password for online banking', 'What are the things I can do online and not over the phone', 'Are there things that I can only do online?', 'Please retrieve my transaction log', 'I would like to see my bank account statement history']\n",
            "\n",
            "Cluster  6\n",
            "['I want to pay money', 'I want to pay someone', 'i need to send money', 'I need to send money', 'I’d like to send money', 'I would like to wire some money', 'I want to send money', 'I want to pay money.', 'I would like to make a payment', 'I want to do money transaction', 'I just want to send a hundred dollars to my savings', 'I need to borrow some money so I want to know the interest rates', 'What are the interest rates if I ask for one hundred tho', 'I want to apply to a retirement savings plan', 'I want to invest some money for my retirement']\n",
            "\n",
            "Cluster  7\n",
            "['I would like to make a transfer', 'I need to make a transference', 'I need to make a transfer', 'I’d like to make a transfer', 'I want to make a transfer', 'Make a transfer', 'I need to transfer', 'I want to transfer some amount to someone', 'I want to make a wire transfer', 'I want to make a transfer today', 'Can I make transfer online']\n",
            "\n",
            "Cluster  8\n",
            "['please list my accounts', 'please show my accounts', 'please get all my accounts', 'show me my accounts details', 'Display My Accounts', 'Show accounts', 'List my accounts', 'List my account', 'can I have a look at my accounts', 'Show my account details', 'My accounts', 'I’d like to see all my accounts', 'Can I view my accounts', 'Make a list of my accounts', 'show my account numbers', 'I want to see my accounts', 'I would like to see all my accounts', 'Overview of Accounts', 'Show all my accounts', 'please show my account summary', 'information about account', 'info on account', 'show the details of my account', 'List out all my accounts', 'Fetch my accounts details', 'get me my accounts information', 'Please retrieve my accounts information', 'Show me my all my transactions', 'Show account movements', 'Account Transaction overview', 'Show my account statements', 'Please show me my transaction history']\n",
            "\n",
            "Cluster  9\n",
            "[\"I don't remember my pin and need to change it\", \"I want to change my pin because I can't remember it.\", 'How can I change my pin over the phone', \"Is it possible to change my card's pin online\", 'Could you help me resetting my pin', 'Can I get a new pin number for my card', 'What do I need to do to get a new pin number', 'How can I restore the secret code of my card', \"Where can I find my card's pin\", \"Where can I find my card's secret code\", 'I think someone discovered my pin and I want to change it', 'I want to change the secret digits to access my credit card.']\n",
            "\n"
          ],
          "name": "stdout"
        }
      ]
    },
    {
      "cell_type": "code",
      "metadata": {
        "id": "MFdFTm-Ozhxe"
      },
      "source": [
        ""
      ],
      "execution_count": null,
      "outputs": []
    }
  ]
}