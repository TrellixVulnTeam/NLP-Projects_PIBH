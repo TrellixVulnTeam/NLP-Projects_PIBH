{
  "nbformat": 4,
  "nbformat_minor": 0,
  "metadata": {
    "colab": {
      "name": "Simple Logistics Regression Model.ipynb",
      "provenance": []
    },
    "kernelspec": {
      "name": "python3",
      "display_name": "Python 3"
    }
  },
  "cells": [
    {
      "cell_type": "code",
      "metadata": {
        "id": "OD9eLC3JNoKE"
      },
      "source": [
        "import pandas as pd\n",
        "from sklearn.model_selection import train_test_split\n",
        "from sklearn.feature_extraction.text import TfidfVectorizer\n",
        "from sklearn.linear_model import LogisticRegression\n",
        "from sklearn.metrics import accuracy_score"
      ],
      "execution_count": 53,
      "outputs": []
    },
    {
      "cell_type": "markdown",
      "metadata": {
        "id": "CEnoBRARSxX6"
      },
      "source": [
        ""
      ]
    },
    {
      "cell_type": "code",
      "metadata": {
        "id": "zujLyWXxNp7r"
      },
      "source": [
        "data = pd.read_excel('/content/Travel_Destination.xlsx')"
      ],
      "execution_count": 54,
      "outputs": []
    },
    {
      "cell_type": "code",
      "metadata": {
        "id": "19_0olqnOhIG",
        "outputId": "f809f406-0045-4a17-d08f-b2a8606cf04a",
        "colab": {
          "base_uri": "https://localhost:8080/",
          "height": 204
        }
      },
      "source": [
        "data.head()"
      ],
      "execution_count": 55,
      "outputs": [
        {
          "output_type": "execute_result",
          "data": {
            "text/html": [
              "<div>\n",
              "<style scoped>\n",
              "    .dataframe tbody tr th:only-of-type {\n",
              "        vertical-align: middle;\n",
              "    }\n",
              "\n",
              "    .dataframe tbody tr th {\n",
              "        vertical-align: top;\n",
              "    }\n",
              "\n",
              "    .dataframe thead th {\n",
              "        text-align: right;\n",
              "    }\n",
              "</style>\n",
              "<table border=\"1\" class=\"dataframe\">\n",
              "  <thead>\n",
              "    <tr style=\"text-align: right;\">\n",
              "      <th></th>\n",
              "      <th>Text</th>\n",
              "      <th>Label</th>\n",
              "    </tr>\n",
              "  </thead>\n",
              "  <tbody>\n",
              "    <tr>\n",
              "      <th>0</th>\n",
              "      <td>I want to travel from Bangalore to Delhi on Mo...</td>\n",
              "      <td>One Way</td>\n",
              "    </tr>\n",
              "    <tr>\n",
              "      <th>1</th>\n",
              "      <td>I want to travel to Delhi from Bangalore on We...</td>\n",
              "      <td>One Way</td>\n",
              "    </tr>\n",
              "    <tr>\n",
              "      <th>2</th>\n",
              "      <td>I want to travel to Delhi from Kolkata on Wedn...</td>\n",
              "      <td>Return</td>\n",
              "    </tr>\n",
              "    <tr>\n",
              "      <th>3</th>\n",
              "      <td>I want to travel to Delhi on Monday and return...</td>\n",
              "      <td>Return</td>\n",
              "    </tr>\n",
              "    <tr>\n",
              "      <th>4</th>\n",
              "      <td>I want to travel to Delhi on Wednesday Morning...</td>\n",
              "      <td>Return</td>\n",
              "    </tr>\n",
              "  </tbody>\n",
              "</table>\n",
              "</div>"
            ],
            "text/plain": [
              "                                                Text    Label\n",
              "0  I want to travel from Bangalore to Delhi on Mo...  One Way\n",
              "1  I want to travel to Delhi from Bangalore on We...  One Way\n",
              "2  I want to travel to Delhi from Kolkata on Wedn...   Return\n",
              "3  I want to travel to Delhi on Monday and return...   Return\n",
              "4  I want to travel to Delhi on Wednesday Morning...   Return"
            ]
          },
          "metadata": {
            "tags": []
          },
          "execution_count": 55
        }
      ]
    },
    {
      "cell_type": "code",
      "metadata": {
        "id": "9RtvAag_OnfX"
      },
      "source": [
        "X = data[\"Text\"]\n",
        "Y = data[\"Label\"]"
      ],
      "execution_count": 56,
      "outputs": []
    },
    {
      "cell_type": "code",
      "metadata": {
        "id": "1SRsgmixPNvx"
      },
      "source": [
        "from sklearn.feature_extraction.text import CountVectorizer\n",
        "cv= CountVectorizer(binary=True)\n",
        "X = cv.fit_transform(X)\n"
      ],
      "execution_count": 57,
      "outputs": []
    },
    {
      "cell_type": "code",
      "metadata": {
        "id": "K1gGcEU_PA4b"
      },
      "source": [
        "X_train, X_test, y_train, y_test = train_test_split(X, Y, test_size=0.25)"
      ],
      "execution_count": 58,
      "outputs": []
    },
    {
      "cell_type": "code",
      "metadata": {
        "id": "E8dr10CqPHoL",
        "outputId": "b337744a-8dfe-4072-e01e-42e587b4a975",
        "colab": {
          "base_uri": "https://localhost:8080/"
        }
      },
      "source": [
        "travel_model = LogisticRegression(solver='liblinear')\n",
        "travel_model.fit(X_train, y_train)\n",
        "pred = travel_model.predict(X_test)\n",
        "accuracy_score(y_test,pred)"
      ],
      "execution_count": 59,
      "outputs": [
        {
          "output_type": "execute_result",
          "data": {
            "text/plain": [
              "1.0"
            ]
          },
          "metadata": {
            "tags": []
          },
          "execution_count": 59
        }
      ]
    },
    {
      "cell_type": "code",
      "metadata": {
        "id": "tScs6YzZP5DQ",
        "outputId": "5ceed5c9-6248-42e8-8c8b-313023d79033",
        "colab": {
          "base_uri": "https://localhost:8080/"
        }
      },
      "source": [
        "msg = cv.transform([\"I want to travel to Mumbai\"])\n",
        "msg"
      ],
      "execution_count": 64,
      "outputs": [
        {
          "output_type": "execute_result",
          "data": {
            "text/plain": [
              "<1x27 sparse matrix of type '<class 'numpy.int64'>'\n",
              "\twith 4 stored elements in Compressed Sparse Row format>"
            ]
          },
          "metadata": {
            "tags": []
          },
          "execution_count": 64
        }
      ]
    },
    {
      "cell_type": "code",
      "metadata": {
        "id": "QuTj1Z45QNxM"
      },
      "source": [
        "prediction = travel_model.predict(msg)"
      ],
      "execution_count": 65,
      "outputs": []
    },
    {
      "cell_type": "code",
      "metadata": {
        "id": "ro5c2XzaQhk4",
        "outputId": "88a7b1f4-df8c-4445-ecc3-57ce746f0c5e",
        "colab": {
          "base_uri": "https://localhost:8080/"
        }
      },
      "source": [
        "prediction"
      ],
      "execution_count": 66,
      "outputs": [
        {
          "output_type": "execute_result",
          "data": {
            "text/plain": [
              "array(['One Way'], dtype=object)"
            ]
          },
          "metadata": {
            "tags": []
          },
          "execution_count": 66
        }
      ]
    },
    {
      "cell_type": "code",
      "metadata": {
        "id": "YyGn6H89TI4M"
      },
      "source": [
        ""
      ],
      "execution_count": null,
      "outputs": []
    }
  ]
}